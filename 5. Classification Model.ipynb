{
 "cells": [
  {
   "cell_type": "code",
   "execution_count": 18,
   "id": "9e587017",
   "metadata": {},
   "outputs": [],
   "source": [
    "import os\n",
    "os.chdir(\"E:/Python1\")"
   ]
  },
  {
   "cell_type": "code",
   "execution_count": 19,
   "id": "12c4efa8",
   "metadata": {},
   "outputs": [
    {
     "data": {
      "text/html": [
       "<div>\n",
       "<style scoped>\n",
       "    .dataframe tbody tr th:only-of-type {\n",
       "        vertical-align: middle;\n",
       "    }\n",
       "\n",
       "    .dataframe tbody tr th {\n",
       "        vertical-align: top;\n",
       "    }\n",
       "\n",
       "    .dataframe thead th {\n",
       "        text-align: right;\n",
       "    }\n",
       "</style>\n",
       "<table border=\"1\" class=\"dataframe\">\n",
       "  <thead>\n",
       "    <tr style=\"text-align: right;\">\n",
       "      <th></th>\n",
       "      <th>PassengerId</th>\n",
       "      <th>Survived</th>\n",
       "      <th>Pclass</th>\n",
       "      <th>Name</th>\n",
       "      <th>Sex</th>\n",
       "      <th>Age</th>\n",
       "      <th>SibSp</th>\n",
       "      <th>Parch</th>\n",
       "      <th>Ticket</th>\n",
       "      <th>Fare</th>\n",
       "      <th>Cabin</th>\n",
       "      <th>Embarked</th>\n",
       "      <th>Continent</th>\n",
       "      <th>Bloodpressure</th>\n",
       "      <th>Swiming</th>\n",
       "      <th>Height(cm)</th>\n",
       "      <th>Weight(kg)</th>\n",
       "    </tr>\n",
       "  </thead>\n",
       "  <tbody>\n",
       "    <tr>\n",
       "      <th>0</th>\n",
       "      <td>1</td>\n",
       "      <td>0</td>\n",
       "      <td>3</td>\n",
       "      <td>Braund, Mr. Owen Harris</td>\n",
       "      <td>male</td>\n",
       "      <td>22.0</td>\n",
       "      <td>1</td>\n",
       "      <td>0</td>\n",
       "      <td>A/5 21171</td>\n",
       "      <td>7.2500</td>\n",
       "      <td>NaN</td>\n",
       "      <td>S</td>\n",
       "      <td>2</td>\n",
       "      <td>0</td>\n",
       "      <td>1</td>\n",
       "      <td>169</td>\n",
       "      <td>73</td>\n",
       "    </tr>\n",
       "    <tr>\n",
       "      <th>1</th>\n",
       "      <td>2</td>\n",
       "      <td>1</td>\n",
       "      <td>1</td>\n",
       "      <td>Cumings, Mrs. John Bradley (Florence Briggs Th...</td>\n",
       "      <td>female</td>\n",
       "      <td>38.0</td>\n",
       "      <td>1</td>\n",
       "      <td>0</td>\n",
       "      <td>PC 17599</td>\n",
       "      <td>71.2833</td>\n",
       "      <td>C85</td>\n",
       "      <td>C</td>\n",
       "      <td>1</td>\n",
       "      <td>1</td>\n",
       "      <td>1</td>\n",
       "      <td>176</td>\n",
       "      <td>84</td>\n",
       "    </tr>\n",
       "  </tbody>\n",
       "</table>\n",
       "</div>"
      ],
      "text/plain": [
       "   PassengerId  Survived  Pclass  \\\n",
       "0            1         0       3   \n",
       "1            2         1       1   \n",
       "\n",
       "                                                Name     Sex   Age  SibSp  \\\n",
       "0                            Braund, Mr. Owen Harris    male  22.0      1   \n",
       "1  Cumings, Mrs. John Bradley (Florence Briggs Th...  female  38.0      1   \n",
       "\n",
       "   Parch     Ticket     Fare Cabin Embarked  Continent  Bloodpressure  \\\n",
       "0      0  A/5 21171   7.2500   NaN        S          2              0   \n",
       "1      0   PC 17599  71.2833   C85        C          1              1   \n",
       "\n",
       "   Swiming  Height(cm)  Weight(kg)  \n",
       "0        1         169          73  \n",
       "1        1         176          84  "
      ]
     },
     "execution_count": 19,
     "metadata": {},
     "output_type": "execute_result"
    }
   ],
   "source": [
    "import pandas as pd\n",
    "df1 = pd.read_csv(\"passenger.csv\",sep=\",\",header=[0])\n",
    "df1.head(n=2)"
   ]
  },
  {
   "cell_type": "code",
   "execution_count": 20,
   "id": "02dce3ab",
   "metadata": {
    "tags": []
   },
   "outputs": [
    {
     "name": "stdout",
     "output_type": "stream",
     "text": [
      "Number of Null value:---> PassengerId        0\n",
      "Survived           0\n",
      "Pclass             0\n",
      "Name               0\n",
      "Sex                0\n",
      "Age              177\n",
      "SibSp              0\n",
      "Parch              0\n",
      "Ticket             0\n",
      "Fare               0\n",
      "Cabin            687\n",
      "Embarked           2\n",
      "Continent          0\n",
      "Bloodpressure      0\n",
      "Swiming            0\n",
      "Height(cm)         0\n",
      "Weight(kg)         0\n",
      "dtype: int64\n"
     ]
    },
    {
     "data": {
      "text/plain": [
       "<AxesSubplot:>"
      ]
     },
     "execution_count": 20,
     "metadata": {},
     "output_type": "execute_result"
    },
    {
     "data": {
      "image/png": "[encoded data removed]",
      "text/plain": [
       "<Figure size 432x288 with 2 Axes>"
      ]
     },
     "metadata": {
      "needs_background": "light"
     },
     "output_type": "display_data"
    }
   ],
   "source": [
    "print(\"Number of Null value:--->\",df1.isna().sum())\n",
    "import seaborn as sb\n",
    "sb.heatmap(df1.isnull())"
   ]
  },
  {
   "cell_type": "code",
   "execution_count": 21,
   "id": "46f4562b",
   "metadata": {},
   "outputs": [
    {
     "data": {
      "text/plain": [
       "count       891\n",
       "unique        1\n",
       "top       False\n",
       "freq        891\n",
       "Name: PassengerId, dtype: object"
      ]
     },
     "execution_count": 21,
     "metadata": {},
     "output_type": "execute_result"
    }
   ],
   "source": [
    "df1[\"PassengerId\"].duplicated().describe()"
   ]
  },
  {
   "cell_type": "code",
   "execution_count": 22,
   "id": "58653fa8",
   "metadata": {},
   "outputs": [
    {
     "name": "stdout",
     "output_type": "stream",
     "text": [
      "<class 'pandas.core.frame.DataFrame'>\n",
      "RangeIndex: 891 entries, 0 to 890\n",
      "Data columns (total 13 columns):\n",
      " #   Column         Non-Null Count  Dtype  \n",
      "---  ------         --------------  -----  \n",
      " 0   PassengerId    891 non-null    int64  \n",
      " 1   Survived       891 non-null    int64  \n",
      " 2   Pclass         891 non-null    int64  \n",
      " 3   Sex            891 non-null    object \n",
      " 4   SibSp          891 non-null    int64  \n",
      " 5   Parch          891 non-null    int64  \n",
      " 6   Fare           891 non-null    float64\n",
      " 7   Embarked       889 non-null    object \n",
      " 8   Continent      891 non-null    int64  \n",
      " 9   Bloodpressure  891 non-null    int64  \n",
      " 10  Swiming        891 non-null    int64  \n",
      " 11  Height(cm)     891 non-null    int64  \n",
      " 12  Weight(kg)     891 non-null    int64  \n",
      "dtypes: float64(1), int64(10), object(2)\n",
      "memory usage: 90.6+ KB\n"
     ]
    }
   ],
   "source": [
    "model_data = df1.drop([\"Name\",\"Age\",\"Ticket\",\"Cabin\"],axis=1)\n",
    "model_data.info()"
   ]
  },
  {
   "cell_type": "code",
   "execution_count": 23,
   "id": "c44d2d15",
   "metadata": {},
   "outputs": [],
   "source": [
    "model_data[\"Embarked\"] = model_data[\"Embarked\"].fillna(\"Embarked_N\")"
   ]
  },
  {
   "cell_type": "code",
   "execution_count": 24,
   "id": "c140cd4f",
   "metadata": {},
   "outputs": [
    {
     "data": {
      "text/plain": [
       "PassengerId      0\n",
       "Survived         0\n",
       "Pclass           0\n",
       "Sex              0\n",
       "SibSp            0\n",
       "Parch            0\n",
       "Fare             0\n",
       "Embarked         0\n",
       "Continent        0\n",
       "Bloodpressure    0\n",
       "Swiming          0\n",
       "Height(cm)       0\n",
       "Weight(kg)       0\n",
       "dtype: int64"
      ]
     },
     "execution_count": 24,
     "metadata": {},
     "output_type": "execute_result"
    }
   ],
   "source": [
    "model_data.isna().sum()"
   ]
  },
  {
   "cell_type": "code",
   "execution_count": 25,
   "id": "fa6a6c3c",
   "metadata": {},
   "outputs": [],
   "source": [
    "model_data.Pclass.replace([1, 2, 3], [\"Pclass1\",\"Pclass2\", \"Pclass3\"], inplace=True)\n",
    "model_data.Sex.replace([\"male\",\"female\"], [\"Sex1\",\"Sex0\"], inplace=True)\n",
    "model_data.SibSp.replace([0, 1, 2, 3, 4, 5, 8], [\"SibSp0\",\"SibSp1\", \"SibSp2\", \"SibSp3\",\"SibSp4\",\"SibSp5\",\"SibSp8\"], inplace=True)\n",
    "model_data.Parch.replace([0, 1, 2, 3, 4, 5, 6], [\"Parch0\",\"Parch1\", \"Parch2\", \"Parch3\",\"Parch4\",\"Parch5\",\"Parch6\"], inplace=True)\n",
    "model_data.Embarked.replace([\"C\",\"Q\",\"S\"], [\"Embarked_C\",\"Embarked_Q\",\"Embarked_S\"], inplace=True)\n",
    "model_data.Continent.replace([1,2,3,4,5], [\"Continent1\",\"Continent2\",\"Continent3\",\"Continent4\",\"Continent5\"], inplace=True)\n",
    "model_data.Swiming.replace([0,1], [\"Swiming0\",\"Swiming1\"], inplace=True)"
   ]
  },
  {
   "cell_type": "code",
   "execution_count": 26,
   "id": "9ca4d188",
   "metadata": {},
   "outputs": [],
   "source": [
    "Pclass_dummy = pd.get_dummies(model_data[\"Pclass\"])\n",
    "Sex_dummy = pd.get_dummies(model_data[\"Sex\"])\n",
    "SibSp_dummy = pd.get_dummies(model_data[\"SibSp\"])\n",
    "Parch_dummy = pd.get_dummies(model_data[\"Parch\"])\n",
    "Embarked_dummy = pd.get_dummies(model_data[\"Embarked\"])\n",
    "Continent_dummy = pd.get_dummies(model_data[\"Continent\"])\n",
    "Swiming_dummy = pd.get_dummies(model_data[\"Swiming\"])"
   ]
  },
  {
   "cell_type": "code",
   "execution_count": 27,
   "id": "4b3d0dc3",
   "metadata": {},
   "outputs": [],
   "source": [
    "model_data1 = pd.concat((model_data.drop(['PassengerId',\"Pclass\",\"Sex\",\"SibSp\",\"Parch\",\"Embarked\",\"Continent\",\"Swiming\"],axis=1),Pclass_dummy, Sex_dummy,SibSp_dummy,Parch_dummy,Embarked_dummy,Continent_dummy,Swiming_dummy),axis=1)"
   ]
  },
  {
   "cell_type": "code",
   "execution_count": 28,
   "id": "7daf6748",
   "metadata": {},
   "outputs": [
    {
     "data": {
      "text/plain": [
       "Index(['Survived', 'Fare', 'Bloodpressure', 'Height(cm)', 'Weight(kg)',\n",
       "       'Pclass1', 'Pclass2', 'Pclass3', 'Sex0', 'Sex1', 'SibSp0', 'SibSp1',\n",
       "       'SibSp2', 'SibSp3', 'SibSp4', 'SibSp5', 'SibSp8', 'Parch0', 'Parch1',\n",
       "       'Parch2', 'Parch3', 'Parch4', 'Parch5', 'Parch6', 'Embarked_C',\n",
       "       'Embarked_N', 'Embarked_Q', 'Embarked_S', 'Continent1', 'Continent2',\n",
       "       'Continent3', 'Continent4', 'Continent5', 'Swiming0', 'Swiming1'],\n",
       "      dtype='object')"
      ]
     },
     "execution_count": 28,
     "metadata": {},
     "output_type": "execute_result"
    }
   ],
   "source": [
    "model_data1.columns"
   ]
  },
  {
   "cell_type": "code",
   "execution_count": 29,
   "id": "2154c3c0",
   "metadata": {
    "tags": []
   },
   "outputs": [
    {
     "data": {
      "text/html": [
       "<div>\n",
       "<style scoped>\n",
       "    .dataframe tbody tr th:only-of-type {\n",
       "        vertical-align: middle;\n",
       "    }\n",
       "\n",
       "    .dataframe tbody tr th {\n",
       "        vertical-align: top;\n",
       "    }\n",
       "\n",
       "    .dataframe thead th {\n",
       "        text-align: right;\n",
       "    }\n",
       "</style>\n",
       "<table border=\"1\" class=\"dataframe\">\n",
       "  <thead>\n",
       "    <tr style=\"text-align: right;\">\n",
       "      <th></th>\n",
       "      <th>Survived</th>\n",
       "      <th>Fare</th>\n",
       "      <th>Bloodpressure</th>\n",
       "      <th>Height(cm)</th>\n",
       "      <th>Weight(kg)</th>\n",
       "      <th>Pclass1</th>\n",
       "      <th>Pclass2</th>\n",
       "      <th>Pclass3</th>\n",
       "      <th>Sex0</th>\n",
       "      <th>Sex1</th>\n",
       "      <th>...</th>\n",
       "      <th>Embarked_N</th>\n",
       "      <th>Embarked_Q</th>\n",
       "      <th>Embarked_S</th>\n",
       "      <th>Continent1</th>\n",
       "      <th>Continent2</th>\n",
       "      <th>Continent3</th>\n",
       "      <th>Continent4</th>\n",
       "      <th>Continent5</th>\n",
       "      <th>Swiming0</th>\n",
       "      <th>Swiming1</th>\n",
       "    </tr>\n",
       "  </thead>\n",
       "  <tbody>\n",
       "    <tr>\n",
       "      <th>0</th>\n",
       "      <td>0</td>\n",
       "      <td>7.2500</td>\n",
       "      <td>0</td>\n",
       "      <td>169</td>\n",
       "      <td>73</td>\n",
       "      <td>0</td>\n",
       "      <td>0</td>\n",
       "      <td>1</td>\n",
       "      <td>0</td>\n",
       "      <td>1</td>\n",
       "      <td>...</td>\n",
       "      <td>0</td>\n",
       "      <td>0</td>\n",
       "      <td>1</td>\n",
       "      <td>0</td>\n",
       "      <td>1</td>\n",
       "      <td>0</td>\n",
       "      <td>0</td>\n",
       "      <td>0</td>\n",
       "      <td>0</td>\n",
       "      <td>1</td>\n",
       "    </tr>\n",
       "    <tr>\n",
       "      <th>1</th>\n",
       "      <td>1</td>\n",
       "      <td>71.2833</td>\n",
       "      <td>1</td>\n",
       "      <td>176</td>\n",
       "      <td>84</td>\n",
       "      <td>1</td>\n",
       "      <td>0</td>\n",
       "      <td>0</td>\n",
       "      <td>1</td>\n",
       "      <td>0</td>\n",
       "      <td>...</td>\n",
       "      <td>0</td>\n",
       "      <td>0</td>\n",
       "      <td>0</td>\n",
       "      <td>1</td>\n",
       "      <td>0</td>\n",
       "      <td>0</td>\n",
       "      <td>0</td>\n",
       "      <td>0</td>\n",
       "      <td>0</td>\n",
       "      <td>1</td>\n",
       "    </tr>\n",
       "    <tr>\n",
       "      <th>2</th>\n",
       "      <td>1</td>\n",
       "      <td>7.9250</td>\n",
       "      <td>1</td>\n",
       "      <td>181</td>\n",
       "      <td>95</td>\n",
       "      <td>0</td>\n",
       "      <td>0</td>\n",
       "      <td>1</td>\n",
       "      <td>1</td>\n",
       "      <td>0</td>\n",
       "      <td>...</td>\n",
       "      <td>0</td>\n",
       "      <td>0</td>\n",
       "      <td>1</td>\n",
       "      <td>0</td>\n",
       "      <td>0</td>\n",
       "      <td>0</td>\n",
       "      <td>1</td>\n",
       "      <td>0</td>\n",
       "      <td>0</td>\n",
       "      <td>1</td>\n",
       "    </tr>\n",
       "    <tr>\n",
       "      <th>3</th>\n",
       "      <td>1</td>\n",
       "      <td>53.1000</td>\n",
       "      <td>1</td>\n",
       "      <td>157</td>\n",
       "      <td>60</td>\n",
       "      <td>1</td>\n",
       "      <td>0</td>\n",
       "      <td>0</td>\n",
       "      <td>1</td>\n",
       "      <td>0</td>\n",
       "      <td>...</td>\n",
       "      <td>0</td>\n",
       "      <td>0</td>\n",
       "      <td>1</td>\n",
       "      <td>0</td>\n",
       "      <td>0</td>\n",
       "      <td>0</td>\n",
       "      <td>0</td>\n",
       "      <td>1</td>\n",
       "      <td>0</td>\n",
       "      <td>1</td>\n",
       "    </tr>\n",
       "    <tr>\n",
       "      <th>4</th>\n",
       "      <td>0</td>\n",
       "      <td>8.0500</td>\n",
       "      <td>0</td>\n",
       "      <td>197</td>\n",
       "      <td>83</td>\n",
       "      <td>0</td>\n",
       "      <td>0</td>\n",
       "      <td>1</td>\n",
       "      <td>0</td>\n",
       "      <td>1</td>\n",
       "      <td>...</td>\n",
       "      <td>0</td>\n",
       "      <td>0</td>\n",
       "      <td>1</td>\n",
       "      <td>0</td>\n",
       "      <td>0</td>\n",
       "      <td>1</td>\n",
       "      <td>0</td>\n",
       "      <td>0</td>\n",
       "      <td>1</td>\n",
       "      <td>0</td>\n",
       "    </tr>\n",
       "    <tr>\n",
       "      <th>5</th>\n",
       "      <td>0</td>\n",
       "      <td>8.4583</td>\n",
       "      <td>1</td>\n",
       "      <td>195</td>\n",
       "      <td>82</td>\n",
       "      <td>0</td>\n",
       "      <td>0</td>\n",
       "      <td>1</td>\n",
       "      <td>0</td>\n",
       "      <td>1</td>\n",
       "      <td>...</td>\n",
       "      <td>0</td>\n",
       "      <td>1</td>\n",
       "      <td>0</td>\n",
       "      <td>0</td>\n",
       "      <td>1</td>\n",
       "      <td>0</td>\n",
       "      <td>0</td>\n",
       "      <td>0</td>\n",
       "      <td>0</td>\n",
       "      <td>1</td>\n",
       "    </tr>\n",
       "    <tr>\n",
       "      <th>6</th>\n",
       "      <td>0</td>\n",
       "      <td>51.8625</td>\n",
       "      <td>1</td>\n",
       "      <td>163</td>\n",
       "      <td>91</td>\n",
       "      <td>1</td>\n",
       "      <td>0</td>\n",
       "      <td>0</td>\n",
       "      <td>0</td>\n",
       "      <td>1</td>\n",
       "      <td>...</td>\n",
       "      <td>0</td>\n",
       "      <td>0</td>\n",
       "      <td>1</td>\n",
       "      <td>0</td>\n",
       "      <td>0</td>\n",
       "      <td>0</td>\n",
       "      <td>1</td>\n",
       "      <td>0</td>\n",
       "      <td>0</td>\n",
       "      <td>1</td>\n",
       "    </tr>\n",
       "    <tr>\n",
       "      <th>7</th>\n",
       "      <td>0</td>\n",
       "      <td>21.0750</td>\n",
       "      <td>1</td>\n",
       "      <td>181</td>\n",
       "      <td>61</td>\n",
       "      <td>0</td>\n",
       "      <td>0</td>\n",
       "      <td>1</td>\n",
       "      <td>0</td>\n",
       "      <td>1</td>\n",
       "      <td>...</td>\n",
       "      <td>0</td>\n",
       "      <td>0</td>\n",
       "      <td>1</td>\n",
       "      <td>0</td>\n",
       "      <td>0</td>\n",
       "      <td>0</td>\n",
       "      <td>1</td>\n",
       "      <td>0</td>\n",
       "      <td>1</td>\n",
       "      <td>0</td>\n",
       "    </tr>\n",
       "    <tr>\n",
       "      <th>8</th>\n",
       "      <td>1</td>\n",
       "      <td>11.1333</td>\n",
       "      <td>0</td>\n",
       "      <td>191</td>\n",
       "      <td>63</td>\n",
       "      <td>0</td>\n",
       "      <td>0</td>\n",
       "      <td>1</td>\n",
       "      <td>1</td>\n",
       "      <td>0</td>\n",
       "      <td>...</td>\n",
       "      <td>0</td>\n",
       "      <td>0</td>\n",
       "      <td>1</td>\n",
       "      <td>0</td>\n",
       "      <td>0</td>\n",
       "      <td>0</td>\n",
       "      <td>0</td>\n",
       "      <td>1</td>\n",
       "      <td>0</td>\n",
       "      <td>1</td>\n",
       "    </tr>\n",
       "    <tr>\n",
       "      <th>9</th>\n",
       "      <td>1</td>\n",
       "      <td>30.0708</td>\n",
       "      <td>0</td>\n",
       "      <td>160</td>\n",
       "      <td>91</td>\n",
       "      <td>0</td>\n",
       "      <td>1</td>\n",
       "      <td>0</td>\n",
       "      <td>1</td>\n",
       "      <td>0</td>\n",
       "      <td>...</td>\n",
       "      <td>0</td>\n",
       "      <td>0</td>\n",
       "      <td>0</td>\n",
       "      <td>0</td>\n",
       "      <td>0</td>\n",
       "      <td>1</td>\n",
       "      <td>0</td>\n",
       "      <td>0</td>\n",
       "      <td>1</td>\n",
       "      <td>0</td>\n",
       "    </tr>\n",
       "  </tbody>\n",
       "</table>\n",
       "<p>10 rows × 35 columns</p>\n",
       "</div>"
      ],
      "text/plain": [
       "   Survived     Fare  Bloodpressure  Height(cm)  Weight(kg)  Pclass1  Pclass2  \\\n",
       "0         0   7.2500              0         169          73        0        0   \n",
       "1         1  71.2833              1         176          84        1        0   \n",
       "2         1   7.9250              1         181          95        0        0   \n",
       "3         1  53.1000              1         157          60        1        0   \n",
       "4         0   8.0500              0         197          83        0        0   \n",
       "5         0   8.4583              1         195          82        0        0   \n",
       "6         0  51.8625              1         163          91        1        0   \n",
       "7         0  21.0750              1         181          61        0        0   \n",
       "8         1  11.1333              0         191          63        0        0   \n",
       "9         1  30.0708              0         160          91        0        1   \n",
       "\n",
       "   Pclass3  Sex0  Sex1  ...  Embarked_N  Embarked_Q  Embarked_S  Continent1  \\\n",
       "0        1     0     1  ...           0           0           1           0   \n",
       "1        0     1     0  ...           0           0           0           1   \n",
       "2        1     1     0  ...           0           0           1           0   \n",
       "3        0     1     0  ...           0           0           1           0   \n",
       "4        1     0     1  ...           0           0           1           0   \n",
       "5        1     0     1  ...           0           1           0           0   \n",
       "6        0     0     1  ...           0           0           1           0   \n",
       "7        1     0     1  ...           0           0           1           0   \n",
       "8        1     1     0  ...           0           0           1           0   \n",
       "9        0     1     0  ...           0           0           0           0   \n",
       "\n",
       "   Continent2  Continent3  Continent4  Continent5  Swiming0  Swiming1  \n",
       "0           1           0           0           0         0         1  \n",
       "1           0           0           0           0         0         1  \n",
       "2           0           0           1           0         0         1  \n",
       "3           0           0           0           1         0         1  \n",
       "4           0           1           0           0         1         0  \n",
       "5           1           0           0           0         0         1  \n",
       "6           0           0           1           0         0         1  \n",
       "7           0           0           1           0         1         0  \n",
       "8           0           0           0           1         0         1  \n",
       "9           0           1           0           0         1         0  \n",
       "\n",
       "[10 rows x 35 columns]"
      ]
     },
     "execution_count": 29,
     "metadata": {},
     "output_type": "execute_result"
    }
   ],
   "source": [
    "model_data1.head(n=10)"
   ]
  },
  {
   "cell_type": "code",
   "execution_count": 30,
   "id": "76f08b35",
   "metadata": {
    "tags": []
   },
   "outputs": [
    {
     "name": "stdout",
     "output_type": "stream",
     "text": [
      "<class 'pandas.core.frame.DataFrame'>\n",
      "RangeIndex: 891 entries, 0 to 890\n",
      "Data columns (total 28 columns):\n",
      " #   Column         Non-Null Count  Dtype  \n",
      "---  ------         --------------  -----  \n",
      " 0   Survived       891 non-null    int64  \n",
      " 1   Fare           891 non-null    float64\n",
      " 2   Bloodpressure  891 non-null    int64  \n",
      " 3   Height(cm)     891 non-null    int64  \n",
      " 4   Weight(kg)     891 non-null    int64  \n",
      " 5   Pclass1        891 non-null    uint8  \n",
      " 6   Pclass2        891 non-null    uint8  \n",
      " 7   Sex0           891 non-null    uint8  \n",
      " 8   SibSp0         891 non-null    uint8  \n",
      " 9   SibSp1         891 non-null    uint8  \n",
      " 10  SibSp2         891 non-null    uint8  \n",
      " 11  SibSp3         891 non-null    uint8  \n",
      " 12  SibSp4         891 non-null    uint8  \n",
      " 13  SibSp5         891 non-null    uint8  \n",
      " 14  Parch0         891 non-null    uint8  \n",
      " 15  Parch1         891 non-null    uint8  \n",
      " 16  Parch2         891 non-null    uint8  \n",
      " 17  Parch3         891 non-null    uint8  \n",
      " 18  Parch4         891 non-null    uint8  \n",
      " 19  Parch5         891 non-null    uint8  \n",
      " 20  Embarked_C     891 non-null    uint8  \n",
      " 21  Embarked_Q     891 non-null    uint8  \n",
      " 22  Embarked_S     891 non-null    uint8  \n",
      " 23  Continent1     891 non-null    uint8  \n",
      " 24  Continent2     891 non-null    uint8  \n",
      " 25  Continent3     891 non-null    uint8  \n",
      " 26  Continent4     891 non-null    uint8  \n",
      " 27  Swiming0       891 non-null    uint8  \n",
      "dtypes: float64(1), int64(4), uint8(23)\n",
      "memory usage: 54.9 KB\n"
     ]
    }
   ],
   "source": [
    "model_data2= model_data1.drop(['Pclass3','Sex1','SibSp8','Parch6','Embarked_N','Continent5','Swiming1'],axis=1)\n",
    "model_data2.info()"
   ]
  },
  {
   "cell_type": "code",
   "execution_count": 31,
   "id": "95c90868",
   "metadata": {},
   "outputs": [],
   "source": [
    "# Seperate the dataframe into x and y data\n",
    "x = model_data2.drop(\"Survived\",axis=1).values\n",
    "y = model_data2[\"Survived\"].values"
   ]
  },
  {
   "cell_type": "code",
   "execution_count": 32,
   "id": "616c1389",
   "metadata": {},
   "outputs": [
    {
     "name": "stdout",
     "output_type": "stream",
     "text": [
      "Shape of datastructure x  (891, 27)\n",
      "Shape of datastructure y  (891,)\n"
     ]
    }
   ],
   "source": [
    "print(\"Shape of datastructure x \", x.shape)\n",
    "print(\"Shape of datastructure y \", y.shape)"
   ]
  },
  {
   "cell_type": "code",
   "execution_count": 33,
   "id": "21779618",
   "metadata": {},
   "outputs": [],
   "source": [
    "# Split the dataset into 70% training and 30% test\n",
    "from sklearn.model_selection import train_test_split\n",
    "x_train,x_test,y_train,y_test = train_test_split(x,y,test_size=0.3,random_state=0)"
   ]
  },
  {
   "cell_type": "markdown",
   "id": "8bb911e7",
   "metadata": {},
   "source": [
    "# Decision Tree"
   ]
  },
  {
   "cell_type": "code",
   "execution_count": 17,
   "id": "02ae504f",
   "metadata": {},
   "outputs": [
    {
     "data": {
      "text/plain": [
       "DecisionTreeClassifier()"
      ]
     },
     "execution_count": 17,
     "metadata": {},
     "output_type": "execute_result"
    }
   ],
   "source": [
    "# Decision Tree\n",
    "from sklearn import tree\n",
    "dt_clf = tree.DecisionTreeClassifier()\n",
    "dt_clf.fit(x_train,y_train)"
   ]
  },
  {
   "cell_type": "code",
   "execution_count": 63,
   "id": "b5a53734",
   "metadata": {
    "scrolled": true
   },
   "outputs": [
    {
     "name": "stdout",
     "output_type": "stream",
     "text": [
      "Decision Tree traing model score:---> 1.0\n",
      "Decision Tree testing model score:---> 0.7238805970149254\n"
     ]
    }
   ],
   "source": [
    "print(\"Decision Tree traing model score:--->\", dt_clf.score(x_train,y_train))\n",
    "print(\"Decision Tree testing model score:--->\", dt_clf.score(x_test,y_test))"
   ]
  },
  {
   "cell_type": "code",
   "execution_count": 64,
   "id": "9744ea81",
   "metadata": {},
   "outputs": [
    {
     "name": "stdout",
     "output_type": "stream",
     "text": [
      "Predicted value for train data [1 1 0 0 0 1 0 0 0 1 1 0 0 1 0 1 0 0 0 0 0 0 1 0 1 1 1 0 0 0 1 0 1 0 0 1 1\n",
      " 1 0 0 1 0 1 0 0 0 0 1 0 1 0 1 0 1 1 1 0 0 0 0 0 0 1 0 1 0 0 0 1 0 1 0 0 0\n",
      " 1 0 1 1 1 0 0 0 1 1 0 0 1 0 1 0 0 0 0 1 1 1 0 1 0 1 0 1 0 0 1 0 0 0 0 0 1\n",
      " 0 1 0 1 0 0 0 0 0 1 0 0 1 0 0 0 1 0 0 1 0 0 1 0 1 0 0 0 0 1 0 0 0 1 0 0 0\n",
      " 0 0 0 0 0 0 1 1 0 0 0 1 0 0 0 0 1 1 0 1 0 1 0 0 0 1 1 0 0 0 0 0 0 1 0 0 1\n",
      " 1 0 0 0 1 0 1 0 0 1 0 0 1 1 0 0 1 1 1 0 1 0 0 1 0 0 0 0 0 1 0 0 0 1 0 0 1\n",
      " 1 0 0 0 0 0 0 1 0 0 0 0 0 1 0 0 0 1 0 1 0 0 1 0 1 0 1 0 0 0 1 1 1 1 0 0 0\n",
      " 0 0 0 0 1 1 1 0 0 0 1 0 1 1 1 0 0 0 0 1 1 0 0 1 0 1 1 0 0 0 0 1 1 0 1 0 1\n",
      " 0 1 0 0 0 1 0 0 0 1 0 0 0 0 0 1 1 0 0 0 0 1 1 0 0 0 1 0 0 0 1 1 0 0 1 0 0\n",
      " 0 0 0 0 1 1 1 1 1 1 1 1 0 0 0 1 1 0 0 1 1 0 0 0 0 0 0 0 1 1 1 0 0 0 0 1 1\n",
      " 0 0 0 1 0 1 0 1 0 1 1 1 1 0 0 1 0 1 0 0 1 1 1 0 0 0 1 0 0 1 0 0 0 0 0 0 0\n",
      " 0 0 0 0 0 0 0 0 1 1 0 0 0 1 1 0 0 1 1 1 0 0 0 1 0 0 1 0 1 0 1 0 0 1 0 0 0\n",
      " 0 0 1 0 0 0 0 1 1 1 0 0 1 1 1 0 1 1 0 0 0 0 1 0 0 1 1 0 0 0 1 1 0 1 0 1 1\n",
      " 1 0 1 1 1 0 0 0 1 0 0 0 1 0 0 1 0 0 0 1 0 0 1 1 1 0 1 1 0 1 0 1 1 0 0 0 0\n",
      " 0 0 1 1 0 0 0 0 0 1 0 0 0 1 1 1 0 0 1 0 0 0 0 0 1 1 1 0 1 0 0 1 0 0 0 0 0\n",
      " 0 0 0 0 1 1 1 1 1 1 1 0 1 0 1 0 0 1 0 0 1 0 1 0 0 0 1 1 0 0 0 1 1 0 1 1 0\n",
      " 1 0 0 1 1 1 1 0 0 0 1 0 0 0 1 1 0 1 1 1 0 0 1 1 1 1 1 1 0 1 0]\n",
      "Number of predicted value in training dataset:---> 623\n"
     ]
    }
   ],
   "source": [
    "y_pred_train = dt_clf.predict(x_train)\n",
    "print(\"Predicted value for train data\",y_pred_train)\n",
    "print(\"Number of predicted value in training dataset:--->\",len(y_pred_train))"
   ]
  },
  {
   "cell_type": "code",
   "execution_count": 65,
   "id": "7e6a08e9",
   "metadata": {},
   "outputs": [
    {
     "name": "stdout",
     "output_type": "stream",
     "text": [
      "Predicted value of test data:---> [0 0 0 1 1 0 1 1 1 1 0 1 0 1 1 1 1 1 0 0 0 1 0 0 1 0 0 1 0 0 0 0 0 0 0 1 0\n",
      " 0 0 0 0 0 1 0 1 0 0 1 0 1 1 0 0 0 1 0 1 0 1 0 0 0 1 0 1 0 1 1 1 1 1 1 1 0\n",
      " 0 1 1 0 1 1 0 1 1 1 1 1 1 0 0 1 0 0 1 1 0 1 1 0 1 0 0 1 0 0 0 0 1 1 0 0 1\n",
      " 1 0 0 1 1 1 1 0 1 0 0 0 0 0 0 0 1 1 0 1 0 0 0 0 0 0 0 0 0 1 1 0 1 1 0 0 1\n",
      " 1 0 0 1 1 0 1 0 1 0 0 1 0 0 1 0 0 0 0 0 0 0 1 1 0 0 1 0 0 0 0 0 0 1 1 0 1\n",
      " 0 1 0 1 1 0 1 1 1 0 0 0 0 1 0 0 1 0 0 0 1 1 0 1 0 1 1 0 0 0 0 1 0 0 1 0 1\n",
      " 0 0 1 0 0 1 0 0 0 1 1 0 1 0 1 1 1 0 0 1 0 0 1 1 1 0 1 1 0 0 1 1 0 0 1 0 0\n",
      " 0 0 0 0 0 0 0 1 0]\n",
      "Number of predicted value for test dataset:---> 268\n"
     ]
    }
   ],
   "source": [
    "y_pred_test = dt_clf.predict(x_test)\n",
    "print(\"Predicted value of test data:--->\",y_pred_test)\n",
    "print(\"Number of predicted value for test dataset:--->\",len(y_pred_test))"
   ]
  },
  {
   "cell_type": "code",
   "execution_count": 66,
   "id": "e772849e",
   "metadata": {},
   "outputs": [
    {
     "name": "stdout",
     "output_type": "stream",
     "text": [
      "Decision Tree traing model accuracy score:---> 1.0\n",
      "Decision Tree testing model accuracy score:---> 0.7238805970149254\n"
     ]
    }
   ],
   "source": [
    "from sklearn.metrics import accuracy_score\n",
    "print(\"Decision Tree traing model accuracy score:--->\", accuracy_score(y_train,y_pred_train))\n",
    "print(\"Decision Tree testing model accuracy score:--->\", accuracy_score(y_test,y_pred_test))"
   ]
  },
  {
   "cell_type": "code",
   "execution_count": 67,
   "id": "6e5616c4",
   "metadata": {},
   "outputs": [
    {
     "data": {
      "text/html": [
       "<div>\n",
       "<style scoped>\n",
       "    .dataframe tbody tr th:only-of-type {\n",
       "        vertical-align: middle;\n",
       "    }\n",
       "\n",
       "    .dataframe tbody tr th {\n",
       "        vertical-align: top;\n",
       "    }\n",
       "\n",
       "    .dataframe thead th {\n",
       "        text-align: right;\n",
       "    }\n",
       "</style>\n",
       "<table border=\"1\" class=\"dataframe\">\n",
       "  <thead>\n",
       "    <tr style=\"text-align: right;\">\n",
       "      <th>col_0</th>\n",
       "      <th>0</th>\n",
       "      <th>1</th>\n",
       "    </tr>\n",
       "    <tr>\n",
       "      <th>row_0</th>\n",
       "      <th></th>\n",
       "      <th></th>\n",
       "    </tr>\n",
       "  </thead>\n",
       "  <tbody>\n",
       "    <tr>\n",
       "      <th>0</th>\n",
       "      <td>124</td>\n",
       "      <td>44</td>\n",
       "    </tr>\n",
       "    <tr>\n",
       "      <th>1</th>\n",
       "      <td>30</td>\n",
       "      <td>70</td>\n",
       "    </tr>\n",
       "  </tbody>\n",
       "</table>\n",
       "</div>"
      ],
      "text/plain": [
       "col_0    0   1\n",
       "row_0         \n",
       "0      124  44\n",
       "1       30  70"
      ]
     },
     "execution_count": 67,
     "metadata": {},
     "output_type": "execute_result"
    }
   ],
   "source": [
    "pd.crosstab(y_test,y_pred_test)"
   ]
  },
  {
   "cell_type": "code",
   "execution_count": 68,
   "id": "88c53855",
   "metadata": {},
   "outputs": [
    {
     "name": "stdout",
     "output_type": "stream",
     "text": [
      "[[124  44]\n",
      " [ 30  70]]\n"
     ]
    }
   ],
   "source": [
    "# Confusion Matrix\n",
    "from sklearn.metrics import confusion_matrix\n",
    "print(confusion_matrix(y_test,y_pred_test))\n",
    "dt_cm = confusion_matrix(y_test,y_pred_test)"
   ]
  },
  {
   "cell_type": "code",
   "execution_count": 69,
   "id": "89fbea0d",
   "metadata": {},
   "outputs": [
    {
     "data": {
      "text/plain": [
       "Text(24.0, 0.5, 'Truth or Actual Value')"
      ]
     },
     "execution_count": 69,
     "metadata": {},
     "output_type": "execute_result"
    },
    {
     "data": {
      "image/png": "[encoded data removed]",
      "text/plain": [
       "<Figure size 360x288 with 2 Axes>"
      ]
     },
     "metadata": {
      "needs_background": "light"
     },
     "output_type": "display_data"
    }
   ],
   "source": [
    "import seaborn as sn\n",
    "from matplotlib import pyplot as plt\n",
    "plt.figure(figsize = (5,4))\n",
    "sn.heatmap(dt_cm, annot=True)\n",
    "plt.xlabel('Predicted Value')\n",
    "plt.ylabel('Truth or Actual Value')"
   ]
  },
  {
   "cell_type": "code",
   "execution_count": 70,
   "id": "790a9148",
   "metadata": {},
   "outputs": [
    {
     "name": "stdout",
     "output_type": "stream",
     "text": [
      "Help on function confusion_matrix in module sklearn.metrics._classification:\n",
      "\n",
      "confusion_matrix(y_true, y_pred, *, labels=None, sample_weight=None, normalize=None)\n",
      "    Compute confusion matrix to evaluate the accuracy of a classification.\n",
      "    \n",
      "    By definition a confusion matrix :math:`C` is such that :math:`C_{i, j}`\n",
      "    is equal to the number of observations known to be in group :math:`i` and\n",
      "    predicted to be in group :math:`j`.\n",
      "    \n",
      "    Thus in binary classification, the count of true negatives is\n",
      "    :math:`C_{0,0}`, false negatives is :math:`C_{1,0}`, true positives is\n",
      "    :math:`C_{1,1}` and false positives is :math:`C_{0,1}`.\n",
      "    \n",
      "    Read more in the :ref:`User Guide <confusion_matrix>`.\n",
      "    \n",
      "    Parameters\n",
      "    ----------\n",
      "    y_true : array-like of shape (n_samples,)\n",
      "        Ground truth (correct) target values.\n",
      "    \n",
      "    y_pred : array-like of shape (n_samples,)\n",
      "        Estimated targets as returned by a classifier.\n",
      "    \n",
      "    labels : array-like of shape (n_classes), default=None\n",
      "        List of labels to index the matrix. This may be used to reorder\n",
      "        or select a subset of labels.\n",
      "        If ``None`` is given, those that appear at least once\n",
      "        in ``y_true`` or ``y_pred`` are used in sorted order.\n",
      "    \n",
      "    sample_weight : array-like of shape (n_samples,), default=None\n",
      "        Sample weights.\n",
      "    \n",
      "        .. versionadded:: 0.18\n",
      "    \n",
      "    normalize : {'true', 'pred', 'all'}, default=None\n",
      "        Normalizes confusion matrix over the true (rows), predicted (columns)\n",
      "        conditions or all the population. If None, confusion matrix will not be\n",
      "        normalized.\n",
      "    \n",
      "    Returns\n",
      "    -------\n",
      "    C : ndarray of shape (n_classes, n_classes)\n",
      "        Confusion matrix whose i-th row and j-th\n",
      "        column entry indicates the number of\n",
      "        samples with true label being i-th class\n",
      "        and predicted label being j-th class.\n",
      "    \n",
      "    See Also\n",
      "    --------\n",
      "    plot_confusion_matrix : Plot Confusion Matrix.\n",
      "    ConfusionMatrixDisplay : Confusion Matrix visualization.\n",
      "    \n",
      "    References\n",
      "    ----------\n",
      "    .. [1] `Wikipedia entry for the Confusion matrix\n",
      "           <https://en.wikipedia.org/wiki/Confusion_matrix>`_\n",
      "           (Wikipedia and other references may use a different\n",
      "           convention for axes).\n",
      "    \n",
      "    Examples\n",
      "    --------\n",
      "    >>> from sklearn.metrics import confusion_matrix\n",
      "    >>> y_true = [2, 0, 2, 2, 0, 1]\n",
      "    >>> y_pred = [0, 0, 2, 2, 0, 2]\n",
      "    >>> confusion_matrix(y_true, y_pred)\n",
      "    array([[2, 0, 0],\n",
      "           [0, 0, 1],\n",
      "           [1, 0, 2]])\n",
      "    \n",
      "    >>> y_true = [\"cat\", \"ant\", \"cat\", \"cat\", \"ant\", \"bird\"]\n",
      "    >>> y_pred = [\"ant\", \"ant\", \"cat\", \"cat\", \"ant\", \"cat\"]\n",
      "    >>> confusion_matrix(y_true, y_pred, labels=[\"ant\", \"bird\", \"cat\"])\n",
      "    array([[2, 0, 0],\n",
      "           [0, 0, 1],\n",
      "           [1, 0, 2]])\n",
      "    \n",
      "    In the binary case, we can extract true positives, etc as follows:\n",
      "    \n",
      "    >>> tn, fp, fn, tp = confusion_matrix([0, 1, 0, 1], [1, 1, 1, 0]).ravel()\n",
      "    >>> (tn, fp, fn, tp)\n",
      "    (0, 2, 1, 1)\n",
      "\n"
     ]
    }
   ],
   "source": [
    "help(confusion_matrix)"
   ]
  },
  {
   "cell_type": "code",
   "execution_count": 71,
   "id": "cde2f76e",
   "metadata": {},
   "outputs": [
    {
     "name": "stdout",
     "output_type": "stream",
     "text": [
      "[[1. 0.]\n",
      " [1. 0.]\n",
      " [1. 0.]\n",
      " [0. 1.]\n",
      " [0. 1.]\n",
      " [1. 0.]\n",
      " [0. 1.]\n",
      " [0. 1.]\n",
      " [0. 1.]\n",
      " [0. 1.]\n",
      " [1. 0.]\n",
      " [0. 1.]\n",
      " [1. 0.]\n",
      " [0. 1.]\n",
      " [0. 1.]\n",
      " [0. 1.]\n",
      " [0. 1.]\n",
      " [0. 1.]\n",
      " [1. 0.]\n",
      " [1. 0.]\n",
      " [1. 0.]\n",
      " [0. 1.]\n",
      " [1. 0.]\n",
      " [1. 0.]\n",
      " [0. 1.]\n",
      " [1. 0.]\n",
      " [1. 0.]\n",
      " [0. 1.]\n",
      " [1. 0.]\n",
      " [1. 0.]\n",
      " [1. 0.]\n",
      " [1. 0.]\n",
      " [1. 0.]\n",
      " [1. 0.]\n",
      " [1. 0.]\n",
      " [0. 1.]\n",
      " [1. 0.]\n",
      " [1. 0.]\n",
      " [1. 0.]\n",
      " [1. 0.]\n",
      " [1. 0.]\n",
      " [1. 0.]\n",
      " [0. 1.]\n",
      " [1. 0.]\n",
      " [0. 1.]\n",
      " [1. 0.]\n",
      " [1. 0.]\n",
      " [0. 1.]\n",
      " [1. 0.]\n",
      " [0. 1.]\n",
      " [0. 1.]\n",
      " [1. 0.]\n",
      " [1. 0.]\n",
      " [1. 0.]\n",
      " [0. 1.]\n",
      " [1. 0.]\n",
      " [0. 1.]\n",
      " [1. 0.]\n",
      " [0. 1.]\n",
      " [1. 0.]\n",
      " [1. 0.]\n",
      " [1. 0.]\n",
      " [0. 1.]\n",
      " [1. 0.]\n",
      " [0. 1.]\n",
      " [1. 0.]\n",
      " [0. 1.]\n",
      " [0. 1.]\n",
      " [0. 1.]\n",
      " [0. 1.]\n",
      " [0. 1.]\n",
      " [0. 1.]\n",
      " [0. 1.]\n",
      " [1. 0.]\n",
      " [1. 0.]\n",
      " [0. 1.]\n",
      " [0. 1.]\n",
      " [1. 0.]\n",
      " [0. 1.]\n",
      " [0. 1.]\n",
      " [1. 0.]\n",
      " [0. 1.]\n",
      " [0. 1.]\n",
      " [0. 1.]\n",
      " [0. 1.]\n",
      " [0. 1.]\n",
      " [0. 1.]\n",
      " [1. 0.]\n",
      " [1. 0.]\n",
      " [0. 1.]\n",
      " [1. 0.]\n",
      " [1. 0.]\n",
      " [0. 1.]\n",
      " [0. 1.]\n",
      " [1. 0.]\n",
      " [0. 1.]\n",
      " [0. 1.]\n",
      " [1. 0.]\n",
      " [0. 1.]\n",
      " [1. 0.]\n",
      " [1. 0.]\n",
      " [0. 1.]\n",
      " [1. 0.]\n",
      " [1. 0.]\n",
      " [1. 0.]\n",
      " [1. 0.]\n",
      " [0. 1.]\n",
      " [0. 1.]\n",
      " [1. 0.]\n",
      " [1. 0.]\n",
      " [0. 1.]\n",
      " [0. 1.]\n",
      " [1. 0.]\n",
      " [1. 0.]\n",
      " [0. 1.]\n",
      " [0. 1.]\n",
      " [0. 1.]\n",
      " [0. 1.]\n",
      " [1. 0.]\n",
      " [0. 1.]\n",
      " [1. 0.]\n",
      " [1. 0.]\n",
      " [1. 0.]\n",
      " [1. 0.]\n",
      " [1. 0.]\n",
      " [1. 0.]\n",
      " [1. 0.]\n",
      " [0. 1.]\n",
      " [0. 1.]\n",
      " [1. 0.]\n",
      " [0. 1.]\n",
      " [1. 0.]\n",
      " [1. 0.]\n",
      " [1. 0.]\n",
      " [1. 0.]\n",
      " [1. 0.]\n",
      " [1. 0.]\n",
      " [1. 0.]\n",
      " [1. 0.]\n",
      " [1. 0.]\n",
      " [0. 1.]\n",
      " [0. 1.]\n",
      " [1. 0.]\n",
      " [0. 1.]\n",
      " [0. 1.]\n",
      " [1. 0.]\n",
      " [1. 0.]\n",
      " [0. 1.]\n",
      " [0. 1.]\n",
      " [1. 0.]\n",
      " [1. 0.]\n",
      " [0. 1.]\n",
      " [0. 1.]\n",
      " [1. 0.]\n",
      " [0. 1.]\n",
      " [1. 0.]\n",
      " [0. 1.]\n",
      " [1. 0.]\n",
      " [1. 0.]\n",
      " [0. 1.]\n",
      " [1. 0.]\n",
      " [1. 0.]\n",
      " [0. 1.]\n",
      " [1. 0.]\n",
      " [1. 0.]\n",
      " [1. 0.]\n",
      " [1. 0.]\n",
      " [1. 0.]\n",
      " [1. 0.]\n",
      " [1. 0.]\n",
      " [0. 1.]\n",
      " [0. 1.]\n",
      " [1. 0.]\n",
      " [1. 0.]\n",
      " [0. 1.]\n",
      " [1. 0.]\n",
      " [1. 0.]\n",
      " [1. 0.]\n",
      " [1. 0.]\n",
      " [1. 0.]\n",
      " [1. 0.]\n",
      " [0. 1.]\n",
      " [0. 1.]\n",
      " [1. 0.]\n",
      " [0. 1.]\n",
      " [1. 0.]\n",
      " [0. 1.]\n",
      " [1. 0.]\n",
      " [0. 1.]\n",
      " [0. 1.]\n",
      " [1. 0.]\n",
      " [0. 1.]\n",
      " [0. 1.]\n",
      " [0. 1.]\n",
      " [1. 0.]\n",
      " [1. 0.]\n",
      " [1. 0.]\n",
      " [1. 0.]\n",
      " [0. 1.]\n",
      " [1. 0.]\n",
      " [1. 0.]\n",
      " [0. 1.]\n",
      " [1. 0.]\n",
      " [1. 0.]\n",
      " [1. 0.]\n",
      " [0. 1.]\n",
      " [0. 1.]\n",
      " [1. 0.]\n",
      " [0. 1.]\n",
      " [1. 0.]\n",
      " [0. 1.]\n",
      " [0. 1.]\n",
      " [1. 0.]\n",
      " [1. 0.]\n",
      " [1. 0.]\n",
      " [1. 0.]\n",
      " [0. 1.]\n",
      " [1. 0.]\n",
      " [1. 0.]\n",
      " [0. 1.]\n",
      " [1. 0.]\n",
      " [0. 1.]\n",
      " [1. 0.]\n",
      " [1. 0.]\n",
      " [0. 1.]\n",
      " [1. 0.]\n",
      " [1. 0.]\n",
      " [0. 1.]\n",
      " [1. 0.]\n",
      " [1. 0.]\n",
      " [1. 0.]\n",
      " [0. 1.]\n",
      " [0. 1.]\n",
      " [1. 0.]\n",
      " [0. 1.]\n",
      " [1. 0.]\n",
      " [0. 1.]\n",
      " [0. 1.]\n",
      " [0. 1.]\n",
      " [1. 0.]\n",
      " [1. 0.]\n",
      " [0. 1.]\n",
      " [1. 0.]\n",
      " [1. 0.]\n",
      " [0. 1.]\n",
      " [0. 1.]\n",
      " [0. 1.]\n",
      " [1. 0.]\n",
      " [0. 1.]\n",
      " [0. 1.]\n",
      " [1. 0.]\n",
      " [1. 0.]\n",
      " [0. 1.]\n",
      " [0. 1.]\n",
      " [1. 0.]\n",
      " [1. 0.]\n",
      " [0. 1.]\n",
      " [1. 0.]\n",
      " [1. 0.]\n",
      " [1. 0.]\n",
      " [1. 0.]\n",
      " [1. 0.]\n",
      " [1. 0.]\n",
      " [1. 0.]\n",
      " [1. 0.]\n",
      " [1. 0.]\n",
      " [0. 1.]\n",
      " [1. 0.]]\n"
     ]
    }
   ],
   "source": [
    "dt_probs = dt_clf.predict_proba(x_test)  # Predicted probability\n",
    "print(dt_probs)"
   ]
  },
  {
   "cell_type": "code",
   "execution_count": 72,
   "id": "e660787c",
   "metadata": {},
   "outputs": [
    {
     "name": "stdout",
     "output_type": "stream",
     "text": [
      "[0. 0. 0. 1. 1. 0. 1. 1. 1. 1. 0. 1. 0. 1. 1. 1. 1. 1. 0. 0. 0. 1. 0. 0.\n",
      " 1. 0. 0. 1. 0. 0. 0. 0. 0. 0. 0. 1. 0. 0. 0. 0. 0. 0. 1. 0. 1. 0. 0. 1.\n",
      " 0. 1. 1. 0. 0. 0. 1. 0. 1. 0. 1. 0. 0. 0. 1. 0. 1. 0. 1. 1. 1. 1. 1. 1.\n",
      " 1. 0. 0. 1. 1. 0. 1. 1. 0. 1. 1. 1. 1. 1. 1. 0. 0. 1. 0. 0. 1. 1. 0. 1.\n",
      " 1. 0. 1. 0. 0. 1. 0. 0. 0. 0. 1. 1. 0. 0. 1. 1. 0. 0. 1. 1. 1. 1. 0. 1.\n",
      " 0. 0. 0. 0. 0. 0. 0. 1. 1. 0. 1. 0. 0. 0. 0. 0. 0. 0. 0. 0. 1. 1. 0. 1.\n",
      " 1. 0. 0. 1. 1. 0. 0. 1. 1. 0. 1. 0. 1. 0. 0. 1. 0. 0. 1. 0. 0. 0. 0. 0.\n",
      " 0. 0. 1. 1. 0. 0. 1. 0. 0. 0. 0. 0. 0. 1. 1. 0. 1. 0. 1. 0. 1. 1. 0. 1.\n",
      " 1. 1. 0. 0. 0. 0. 1. 0. 0. 1. 0. 0. 0. 1. 1. 0. 1. 0. 1. 1. 0. 0. 0. 0.\n",
      " 1. 0. 0. 1. 0. 1. 0. 0. 1. 0. 0. 1. 0. 0. 0. 1. 1. 0. 1. 0. 1. 1. 1. 0.\n",
      " 0. 1. 0. 0. 1. 1. 1. 0. 1. 1. 0. 0. 1. 1. 0. 0. 1. 0. 0. 0. 0. 0. 0. 0.\n",
      " 0. 0. 1. 0.]\n"
     ]
    }
   ],
   "source": [
    "dt_probs = dt_probs[:,1] #Probability for the positive outome is kept\n",
    "print(dt_probs)"
   ]
  },
  {
   "cell_type": "code",
   "execution_count": 73,
   "id": "e482560e",
   "metadata": {},
   "outputs": [],
   "source": [
    "import numpy as np\n",
    "y_predict_th3 = np.where(dt_clf.predict_proba(x_test)[:,1]>0.3,1,0) # Threshold is 0.3\n",
    "y_predict_th4 = np.where(dt_clf.predict_proba(x_test)[:,1]>0.4,1,0) # Threshold is 0.4"
   ]
  },
  {
   "cell_type": "code",
   "execution_count": 74,
   "id": "91e4a081",
   "metadata": {},
   "outputs": [
    {
     "data": {
      "text/html": [
       "<div>\n",
       "<style scoped>\n",
       "    .dataframe tbody tr th:only-of-type {\n",
       "        vertical-align: middle;\n",
       "    }\n",
       "\n",
       "    .dataframe tbody tr th {\n",
       "        vertical-align: top;\n",
       "    }\n",
       "\n",
       "    .dataframe thead th {\n",
       "        text-align: right;\n",
       "    }\n",
       "</style>\n",
       "<table border=\"1\" class=\"dataframe\">\n",
       "  <thead>\n",
       "    <tr style=\"text-align: right;\">\n",
       "      <th>col_0</th>\n",
       "      <th>0</th>\n",
       "      <th>1</th>\n",
       "    </tr>\n",
       "    <tr>\n",
       "      <th>row_0</th>\n",
       "      <th></th>\n",
       "      <th></th>\n",
       "    </tr>\n",
       "  </thead>\n",
       "  <tbody>\n",
       "    <tr>\n",
       "      <th>0</th>\n",
       "      <td>124</td>\n",
       "      <td>44</td>\n",
       "    </tr>\n",
       "    <tr>\n",
       "      <th>1</th>\n",
       "      <td>30</td>\n",
       "      <td>70</td>\n",
       "    </tr>\n",
       "  </tbody>\n",
       "</table>\n",
       "</div>"
      ],
      "text/plain": [
       "col_0    0   1\n",
       "row_0         \n",
       "0      124  44\n",
       "1       30  70"
      ]
     },
     "execution_count": 74,
     "metadata": {},
     "output_type": "execute_result"
    }
   ],
   "source": [
    "pd.crosstab(y_test,y_predict_th3)"
   ]
  },
  {
   "cell_type": "code",
   "execution_count": 75,
   "id": "8e2c90ff",
   "metadata": {},
   "outputs": [
    {
     "data": {
      "text/html": [
       "<div>\n",
       "<style scoped>\n",
       "    .dataframe tbody tr th:only-of-type {\n",
       "        vertical-align: middle;\n",
       "    }\n",
       "\n",
       "    .dataframe tbody tr th {\n",
       "        vertical-align: top;\n",
       "    }\n",
       "\n",
       "    .dataframe thead th {\n",
       "        text-align: right;\n",
       "    }\n",
       "</style>\n",
       "<table border=\"1\" class=\"dataframe\">\n",
       "  <thead>\n",
       "    <tr style=\"text-align: right;\">\n",
       "      <th>col_0</th>\n",
       "      <th>0</th>\n",
       "      <th>1</th>\n",
       "    </tr>\n",
       "    <tr>\n",
       "      <th>row_0</th>\n",
       "      <th></th>\n",
       "      <th></th>\n",
       "    </tr>\n",
       "  </thead>\n",
       "  <tbody>\n",
       "    <tr>\n",
       "      <th>0</th>\n",
       "      <td>124</td>\n",
       "      <td>44</td>\n",
       "    </tr>\n",
       "    <tr>\n",
       "      <th>1</th>\n",
       "      <td>30</td>\n",
       "      <td>70</td>\n",
       "    </tr>\n",
       "  </tbody>\n",
       "</table>\n",
       "</div>"
      ],
      "text/plain": [
       "col_0    0   1\n",
       "row_0         \n",
       "0      124  44\n",
       "1       30  70"
      ]
     },
     "execution_count": 75,
     "metadata": {},
     "output_type": "execute_result"
    }
   ],
   "source": [
    "pd.crosstab(y_test,y_predict_th4)"
   ]
  },
  {
   "cell_type": "code",
   "execution_count": 82,
   "id": "df5dcc37",
   "metadata": {},
   "outputs": [],
   "source": [
    "def predict_threshold (dt_clf,x_test,thresholes):\n",
    "    import numpy as np\n",
    "    return np.where(dt_clf.predict_proba(x_test)[:,1]>=thresholes,1,0) # Threshold is 0.3"
   ]
  },
  {
   "cell_type": "code",
   "execution_count": 83,
   "id": "d85051f3",
   "metadata": {},
   "outputs": [
    {
     "name": "stdout",
     "output_type": "stream",
     "text": [
      "Threshold : 0.0\n",
      "[[  0 168]\n",
      " [  0 100]]\n",
      "Threshold : 0.1\n",
      "[[124  44]\n",
      " [ 30  70]]\n",
      "Threshold : 0.2\n",
      "[[124  44]\n",
      " [ 30  70]]\n",
      "Threshold : 0.30000000000000004\n",
      "[[124  44]\n",
      " [ 30  70]]\n",
      "Threshold : 0.4\n",
      "[[124  44]\n",
      " [ 30  70]]\n",
      "Threshold : 0.5\n",
      "[[124  44]\n",
      " [ 30  70]]\n",
      "Threshold : 0.6000000000000001\n",
      "[[124  44]\n",
      " [ 30  70]]\n",
      "Threshold : 0.7000000000000001\n",
      "[[124  44]\n",
      " [ 30  70]]\n",
      "Threshold : 0.8\n",
      "[[124  44]\n",
      " [ 30  70]]\n",
      "Threshold : 0.9\n",
      "[[124  44]\n",
      " [ 30  70]]\n"
     ]
    }
   ],
   "source": [
    "import numpy as np\n",
    "from sklearn.metrics import confusion_matrix\n",
    "for thr in np.arange(0,1.0,0.1):\n",
    "    y_predict = predict_threshold(dt_clf,x_test,thr)\n",
    "    print(\"Threshold :\",thr)\n",
    "    print(confusion_matrix(y_test,y_predict))"
   ]
  },
  {
   "cell_type": "code",
   "execution_count": 77,
   "id": "047c16c6",
   "metadata": {},
   "outputs": [
    {
     "name": "stdout",
     "output_type": "stream",
     "text": [
      "0.7370238095238095\n",
      "Decision Tree: AUROC = 0.737\n"
     ]
    }
   ],
   "source": [
    "# Display the AUROC scores- Area under the ROC curve\n",
    "from sklearn.metrics import roc_curve, roc_auc_score\n",
    "dt_auc = roc_auc_score(y_test,dt_probs)\n",
    "print(dt_auc)\n",
    "print(\"Decision Tree: AUROC = %.3f\" %(dt_auc))"
   ]
  },
  {
   "cell_type": "code",
   "execution_count": 78,
   "id": "1ea14888",
   "metadata": {},
   "outputs": [
    {
     "name": "stdout",
     "output_type": "stream",
     "text": [
      "dt train roc-auc: 1.0\n",
      "dt test roc-auc: 0.7370238095238095\n"
     ]
    }
   ],
   "source": [
    "dt_ytrain_pred = dt_clf.predict_proba(x_train)\n",
    "print(\"dt train roc-auc: {}\".format(roc_auc_score(y_train,dt_ytrain_pred[:,1])))\n",
    "dt_ytest_pred = dt_clf.predict_proba(x_test)\n",
    "print(\"dt test roc-auc: {}\".format(roc_auc_score(y_test,dt_ytest_pred[:,1])))"
   ]
  },
  {
   "cell_type": "code",
   "execution_count": 81,
   "id": "b1da4278",
   "metadata": {},
   "outputs": [],
   "source": [
    "# Calculate the ROC curve\n",
    "dt_fpr, dt_tpr, _ = roc_curve(y_test, dt_probs)"
   ]
  },
  {
   "cell_type": "code",
   "execution_count": 82,
   "id": "4a6970b9",
   "metadata": {},
   "outputs": [
    {
     "data": {
      "image/png": "[encoded data removed]",
      "text/plain": [
       "<Figure size 1080x720 with 1 Axes>"
      ]
     },
     "metadata": {
      "needs_background": "light"
     },
     "output_type": "display_data"
    }
   ],
   "source": [
    "import matplotlib.pyplot as plt\n",
    "plt.figure(figsize=(15,10))\n",
    "plt.plot(dt_fpr,dt_tpr, linestyle = '--', label='Decision Tree prediction (AUROC = %0.3f)' %dt_auc)\n",
    "#Title\n",
    "plt.title(\"ROC Plot\")\n",
    "\n",
    "# Axis Labels\n",
    "plt.xlabel('False Positive Rate')\n",
    "plt.ylabel('Ture Positive Rate')\n",
    "\n",
    "# Show Legend\n",
    "plt.legend()\n",
    "plt.show()"
   ]
  },
  {
   "cell_type": "markdown",
   "id": "0bf4368b",
   "metadata": {},
   "source": [
    "# Random Forest"
   ]
  },
  {
   "cell_type": "code",
   "execution_count": 22,
   "id": "a3ec988f",
   "metadata": {},
   "outputs": [],
   "source": [
    "from sklearn import ensemble\n",
    "#help(ensemble.RandomForestClassifier)"
   ]
  },
  {
   "cell_type": "code",
   "execution_count": 23,
   "id": "359b6607",
   "metadata": {},
   "outputs": [
    {
     "data": {
      "text/plain": [
       "RandomForestClassifier()"
      ]
     },
     "execution_count": 23,
     "metadata": {},
     "output_type": "execute_result"
    }
   ],
   "source": [
    "import sklearn.ensemble\n",
    "rf_clf = ensemble.RandomForestClassifier(n_estimators=100)\n",
    "rf_clf.fit(x_train, y_train)"
   ]
  },
  {
   "cell_type": "code",
   "execution_count": 24,
   "id": "5485a482",
   "metadata": {},
   "outputs": [
    {
     "name": "stdout",
     "output_type": "stream",
     "text": [
      "Model score on training data is :---> 1.0\n",
      "Model score on testing data is :---> 0.7835820895522388\n"
     ]
    }
   ],
   "source": [
    "print(\"Model score on training data is :--->\",rf_clf.score(x_train, y_train))\n",
    "print(\"Model score on testing data is :--->\",rf_clf.score(x_test, y_test))"
   ]
  },
  {
   "cell_type": "code",
   "execution_count": 25,
   "id": "906082e2",
   "metadata": {
    "collapsed": true,
    "jupyter": {
     "outputs_hidden": true
    }
   },
   "outputs": [
    {
     "name": "stdout",
     "output_type": "stream",
     "text": [
      "Predicted value for train data [1 1 0 0 0 1 0 0 0 1 1 0 0 1 0 1 0 0 0 0 0 0 1 0 1 1 1 0 0 0 1 0 1 0 0 1 1\n",
      " 1 0 0 1 0 1 0 0 0 0 1 0 1 0 1 0 1 1 1 0 0 0 0 0 0 1 0 1 0 0 0 1 0 1 0 0 0\n",
      " 1 0 1 1 1 0 0 0 1 1 0 0 1 0 1 0 0 0 0 1 1 1 0 1 0 1 0 1 0 0 1 0 0 0 0 0 1\n",
      " 0 1 0 1 0 0 0 0 0 1 0 0 1 0 0 0 1 0 0 1 0 0 1 0 1 0 0 0 0 1 0 0 0 1 0 0 0\n",
      " 0 0 0 0 0 0 1 1 0 0 0 1 0 0 0 0 1 1 0 1 0 1 0 0 0 1 1 0 0 0 0 0 0 1 0 0 1\n",
      " 1 0 0 0 1 0 1 0 0 1 0 0 1 1 0 0 1 1 1 0 1 0 0 1 0 0 0 0 0 1 0 0 0 1 0 0 1\n",
      " 1 0 0 0 0 0 0 1 0 0 0 0 0 1 0 0 0 1 0 1 0 0 1 0 1 0 1 0 0 0 1 1 1 1 0 0 0\n",
      " 0 0 0 0 1 1 1 0 0 0 1 0 1 1 1 0 0 0 0 1 1 0 0 1 0 1 1 0 0 0 0 1 1 0 1 0 1\n",
      " 0 1 0 0 0 1 0 0 0 1 0 0 0 0 0 1 1 0 0 0 0 1 1 0 0 0 1 0 0 0 1 1 0 0 1 0 0\n",
      " 0 0 0 0 1 1 1 1 1 1 1 1 0 0 0 1 1 0 0 1 1 0 0 0 0 0 0 0 1 1 1 0 0 0 0 1 1\n",
      " 0 0 0 1 0 1 0 1 0 1 1 1 1 0 0 1 0 1 0 0 1 1 1 0 0 0 1 0 0 1 0 0 0 0 0 0 0\n",
      " 0 0 0 0 0 0 0 0 1 1 0 0 0 1 1 0 0 1 1 1 0 0 0 1 0 0 1 0 1 0 1 0 0 1 0 0 0\n",
      " 0 0 1 0 0 0 0 1 1 1 0 0 1 1 1 0 1 1 0 0 0 0 1 0 0 1 1 0 0 0 1 1 0 1 0 1 1\n",
      " 1 0 1 1 1 0 0 0 1 0 0 0 1 0 0 1 0 0 0 1 0 0 1 1 1 0 1 1 0 1 0 1 1 0 0 0 0\n",
      " 0 0 1 1 0 0 0 0 0 1 0 0 0 1 1 1 0 0 1 0 0 0 0 0 1 1 1 0 1 0 0 1 0 0 0 0 0\n",
      " 0 0 0 0 1 1 1 1 1 1 1 0 1 0 1 0 0 1 0 0 1 0 1 0 0 0 1 1 0 0 0 1 1 0 1 1 0\n",
      " 1 0 0 1 1 1 1 0 0 0 1 0 0 0 1 1 0 1 1 1 0 0 1 1 1 1 1 1 0 1 0]\n",
      "Number of predicted value in training dataset:---> 623\n"
     ]
    }
   ],
   "source": [
    "rf_y_pred_train = rf_clf.predict(x_train)\n",
    "print(\"Predicted value for train data\",rf_y_pred_train)\n",
    "print(\"Number of predicted value in training dataset:--->\",len(rf_y_pred_train))"
   ]
  },
  {
   "cell_type": "code",
   "execution_count": 26,
   "id": "1b427aec",
   "metadata": {
    "collapsed": true,
    "jupyter": {
     "outputs_hidden": true
    }
   },
   "outputs": [
    {
     "name": "stdout",
     "output_type": "stream",
     "text": [
      "Predicted value of test data:---> [0 0 0 1 1 0 1 1 1 1 0 1 0 1 1 0 0 1 0 0 0 1 0 0 0 1 0 1 1 0 0 1 0 0 0 0 0\n",
      " 0 0 0 0 0 0 0 1 0 0 1 0 0 1 0 1 0 1 0 0 0 0 0 0 1 1 0 1 0 1 1 1 1 1 1 1 0\n",
      " 0 1 0 0 0 0 0 0 1 0 0 1 1 0 0 1 0 0 0 1 0 0 1 0 1 0 0 0 0 0 0 1 1 0 0 0 0\n",
      " 1 0 0 0 1 1 1 0 1 0 0 0 0 0 0 0 0 0 0 1 0 0 0 1 0 0 1 0 0 0 1 0 1 1 0 0 1\n",
      " 1 0 0 1 0 0 1 0 1 0 1 1 0 0 1 0 0 0 0 0 0 0 0 1 0 0 1 0 1 0 0 1 1 1 0 0 0\n",
      " 0 1 0 0 1 0 0 1 1 0 0 0 0 0 0 0 1 0 1 0 0 1 0 1 0 0 0 0 1 0 0 1 0 0 1 0 1\n",
      " 0 0 0 0 0 1 0 0 0 1 0 1 1 0 1 1 1 0 0 1 0 0 1 1 1 0 0 1 0 0 1 0 0 1 1 0 0\n",
      " 0 0 0 0 0 0 0 0 0]\n",
      "Number of predicted value for test dataset:---> 268\n"
     ]
    }
   ],
   "source": [
    "rf_y_pred_test = rf_clf.predict(x_test)\n",
    "print(\"Predicted value of test data:--->\",rf_y_pred_test)\n",
    "print(\"Number of predicted value for test dataset:--->\",len(rf_y_pred_test))"
   ]
  },
  {
   "cell_type": "code",
   "execution_count": 27,
   "id": "21065bf0",
   "metadata": {},
   "outputs": [
    {
     "name": "stdout",
     "output_type": "stream",
     "text": [
      "Random Forest traing model accuracy score:---> 1.0\n",
      "Random Forest testing model accuracy score:---> 0.7835820895522388\n"
     ]
    }
   ],
   "source": [
    "from sklearn.metrics import accuracy_score\n",
    "print(\"Random Forest traing model accuracy score:--->\", accuracy_score(y_train,rf_y_pred_train))\n",
    "print(\"Random Forest testing model accuracy score:--->\", accuracy_score(y_test,rf_y_pred_test))"
   ]
  },
  {
   "cell_type": "code",
   "execution_count": null,
   "id": "38aaccda",
   "metadata": {},
   "outputs": [],
   "source": []
  },
  {
   "cell_type": "code",
   "execution_count": null,
   "id": "7fdaa16a",
   "metadata": {},
   "outputs": [],
   "source": []
  },
  {
   "cell_type": "code",
   "execution_count": 41,
   "id": "19c65f0f",
   "metadata": {},
   "outputs": [
    {
     "name": "stdout",
     "output_type": "stream",
     "text": [
      "rf train roc-auc: 0.9999999999999999\n",
      "rf test roc-auc: 0.8483928571428572\n"
     ]
    }
   ],
   "source": [
    "# Random Forest\n",
    "rf_ytrain_pred = rf_clf.predict_proba(x_train)\n",
    "print(\"rf train roc-auc: {}\".format(roc_auc_score(y_train,rf_ytrain_pred[:,1])))\n",
    "rf_ytest_pred = rf_clf.predict_proba(x_test)\n",
    "print(\"rf test roc-auc: {}\".format(roc_auc_score(y_test,rf_ytest_pred[:,1])))"
   ]
  },
  {
   "cell_type": "markdown",
   "id": "2a5b1572",
   "metadata": {},
   "source": [
    "# Build Gradient Boosting Classifier"
   ]
  },
  {
   "cell_type": "code",
   "execution_count": 42,
   "id": "348012a1",
   "metadata": {},
   "outputs": [
    {
     "data": {
      "text/plain": [
       "GradientBoostingClassifier()"
      ]
     },
     "execution_count": 42,
     "metadata": {},
     "output_type": "execute_result"
    }
   ],
   "source": [
    "from sklearn import ensemble\n",
    "gb_clf = ensemble.GradientBoostingClassifier()\n",
    "gb_clf.fit(x_train,y_train)"
   ]
  },
  {
   "cell_type": "code",
   "execution_count": 43,
   "id": "c2dd1b2a",
   "metadata": {},
   "outputs": [
    {
     "name": "stdout",
     "output_type": "stream",
     "text": [
      "Model score on training data is  0.8956661316211878\n",
      "Model score on testing data is  0.7910447761194029\n"
     ]
    }
   ],
   "source": [
    "print(\"Model score on training data is \",gb_clf.score(x_train, y_train))\n",
    "print(\"Model score on testing data is \",gb_clf.score(x_test, y_test))"
   ]
  },
  {
   "cell_type": "code",
   "execution_count": 44,
   "id": "4cef6884",
   "metadata": {},
   "outputs": [
    {
     "name": "stdout",
     "output_type": "stream",
     "text": [
      "gb train roc-auc: 0.9602015140669401\n",
      "gb test roc-auc: 0.8423214285714286\n"
     ]
    }
   ],
   "source": [
    "# Gradient Boosting\n",
    "gb_ytrain_pred = gb_clf.predict_proba(x_train)\n",
    "print(\"gb train roc-auc: {}\".format(roc_auc_score(y_train,gb_ytrain_pred[:,1])))\n",
    "gb_ytest_pred = gb_clf.predict_proba(x_test)\n",
    "print(\"gb test roc-auc: {}\".format(roc_auc_score(y_test,gb_ytest_pred[:,1])))"
   ]
  },
  {
   "cell_type": "markdown",
   "id": "b8b9a97c",
   "metadata": {},
   "source": [
    "# Build a Naive Bayes Classifier"
   ]
  },
  {
   "cell_type": "code",
   "execution_count": 46,
   "id": "82e7d3ec",
   "metadata": {},
   "outputs": [
    {
     "data": {
      "text/plain": [
       "GaussianNB()"
      ]
     },
     "execution_count": 46,
     "metadata": {},
     "output_type": "execute_result"
    }
   ],
   "source": [
    "from sklearn.naive_bayes import GaussianNB\n",
    "nb_clf = GaussianNB()\n",
    "nb_clf.fit(x_train, y_train)"
   ]
  },
  {
   "cell_type": "code",
   "execution_count": 47,
   "id": "346b4cfd",
   "metadata": {},
   "outputs": [
    {
     "name": "stdout",
     "output_type": "stream",
     "text": [
      "Model score on training data is  0.42375601926163725\n",
      "Model score on testing data is  0.41044776119402987\n"
     ]
    }
   ],
   "source": [
    "print(\"Model score on training data is \",nb_clf.score(x_train, y_train))\n",
    "print(\"Model score on testing data is \",nb_clf.score(x_test, y_test))"
   ]
  },
  {
   "cell_type": "code",
   "execution_count": 48,
   "id": "45d9bd52",
   "metadata": {},
   "outputs": [
    {
     "name": "stdout",
     "output_type": "stream",
     "text": [
      "nb train roc-auc: 0.804483633760656\n",
      "nb test roc-auc: 0.8183333333333334\n"
     ]
    }
   ],
   "source": [
    "# Naive Bayes\n",
    "nb_ytrain_pred = nb_clf.predict_proba(x_train)\n",
    "print(\"nb train roc-auc: {}\".format(roc_auc_score(y_train,nb_ytrain_pred[:,1])))\n",
    "nb_ytest_pred = nb_clf.predict_proba(x_test)\n",
    "print(\"nb test roc-auc: {}\".format(roc_auc_score(y_test,nb_ytest_pred[:,1])))"
   ]
  },
  {
   "cell_type": "markdown",
   "id": "1af2814c",
   "metadata": {},
   "source": [
    "# Biuld a K-Nearest Neighbor Classifier"
   ]
  },
  {
   "cell_type": "code",
   "execution_count": 49,
   "id": "1071a34f",
   "metadata": {},
   "outputs": [
    {
     "data": {
      "text/plain": [
       "KNeighborsClassifier(n_neighbors=3)"
      ]
     },
     "execution_count": 49,
     "metadata": {},
     "output_type": "execute_result"
    }
   ],
   "source": [
    "from sklearn.neighbors import KNeighborsClassifier\n",
    "knn_clf = KNeighborsClassifier(n_neighbors=3)\n",
    "knn_clf.fit(x_train, y_train)"
   ]
  },
  {
   "cell_type": "code",
   "execution_count": 50,
   "id": "8d3e0711",
   "metadata": {},
   "outputs": [
    {
     "name": "stdout",
     "output_type": "stream",
     "text": [
      "Model score on training data is  0.7881219903691814\n",
      "Model score on testing data is  0.6194029850746269\n"
     ]
    }
   ],
   "source": [
    "print(\"Model score on training data is \",knn_clf.score(x_train, y_train))\n",
    "print(\"Model score on testing data is \",knn_clf.score(x_test, y_test))"
   ]
  },
  {
   "cell_type": "code",
   "execution_count": 51,
   "id": "cc68a7a8",
   "metadata": {},
   "outputs": [
    {
     "name": "stdout",
     "output_type": "stream",
     "text": [
      "knn train roc-auc: 0.8560226459295894\n",
      "knn test roc-auc: 0.6189285714285715\n"
     ]
    }
   ],
   "source": [
    "# K-Nearest Neighbor\n",
    "knn_ytrain_pred = knn_clf.predict_proba(x_train)\n",
    "print(\"knn train roc-auc: {}\".format(roc_auc_score(y_train,knn_ytrain_pred[:,1])))\n",
    "knn_ytest_pred = knn_clf.predict_proba(x_test)\n",
    "print(\"knn test roc-auc: {}\".format(roc_auc_score(y_test,knn_ytest_pred[:,1])))"
   ]
  },
  {
   "cell_type": "markdown",
   "id": "19e3eb35",
   "metadata": {},
   "source": [
    "# Build Logistic Regression Classifier"
   ]
  },
  {
   "cell_type": "code",
   "execution_count": 34,
   "id": "0415bc9c",
   "metadata": {},
   "outputs": [
    {
     "name": "stderr",
     "output_type": "stream",
     "text": [
      "C:\\Users\\MY\\anaconda3\\lib\\site-packages\\sklearn\\linear_model\\_logistic.py:763: ConvergenceWarning: lbfgs failed to converge (status=1):\n",
      "STOP: TOTAL NO. of ITERATIONS REACHED LIMIT.\n",
      "\n",
      "Increase the number of iterations (max_iter) or scale the data as shown in:\n",
      "    https://scikit-learn.org/stable/modules/preprocessing.html\n",
      "Please also refer to the documentation for alternative solver options:\n",
      "    https://scikit-learn.org/stable/modules/linear_model.html#logistic-regression\n",
      "  n_iter_i = _check_optimize_result(\n"
     ]
    },
    {
     "data": {
      "text/plain": [
       "LogisticRegression()"
      ]
     },
     "execution_count": 34,
     "metadata": {},
     "output_type": "execute_result"
    }
   ],
   "source": [
    "from sklearn.linear_model import LogisticRegression\n",
    "lr_clf = LogisticRegression()\n",
    "lr_clf.fit(x_train,y_train)"
   ]
  },
  {
   "cell_type": "code",
   "execution_count": 35,
   "id": "fa3c71af",
   "metadata": {},
   "outputs": [
    {
     "name": "stdout",
     "output_type": "stream",
     "text": [
      "Model score on training data is  0.8057784911717496\n",
      "Model score on testing data is  0.7835820895522388\n"
     ]
    }
   ],
   "source": [
    "print(\"Model score on training data is \",lr_clf.score(x_train, y_train))\n",
    "print(\"Model score on testing data is \",lr_clf.score(x_test, y_test))"
   ]
  },
  {
   "cell_type": "code",
   "execution_count": 36,
   "id": "193a8717",
   "metadata": {
    "tags": []
   },
   "outputs": [
    {
     "name": "stdout",
     "output_type": "stream",
     "text": [
      "Predicted value for train data [0 1 0 1 1 0 1 0 0 0 1 1 0 1 0 1 0 0 0 0 0 0 0 0 1 1 1 0 0 0 0 0 1 0 0 0 0\n",
      " 1 0 0 1 0 0 1 1 0 0 0 0 0 0 0 0 1 1 1 0 0 0 0 0 0 1 0 0 0 0 0 0 0 1 0 0 1\n",
      " 0 0 0 1 1 0 0 0 1 1 0 0 1 0 1 1 0 1 0 1 1 1 0 1 1 0 0 1 0 0 1 0 0 0 0 0 1\n",
      " 0 1 0 1 0 0 0 0 0 1 0 0 1 1 0 0 0 1 0 1 0 0 1 0 1 0 0 0 1 0 0 0 0 1 0 0 0\n",
      " 0 1 0 0 0 0 0 0 0 0 0 1 0 0 0 0 1 1 0 0 0 1 0 0 0 1 0 0 0 0 0 0 0 0 1 0 1\n",
      " 0 0 0 0 1 0 1 0 0 0 0 1 1 1 0 0 1 1 1 0 1 0 0 1 0 0 0 0 0 1 1 0 0 1 0 0 1\n",
      " 1 0 1 0 1 0 0 1 0 0 1 1 0 0 1 0 0 1 0 1 0 0 0 0 1 0 0 0 0 1 1 0 1 0 0 0 0\n",
      " 0 0 0 0 1 0 1 0 0 1 1 0 1 1 1 0 0 0 0 1 0 0 1 0 0 1 1 0 0 0 0 0 1 0 1 0 1\n",
      " 0 1 0 0 1 0 1 0 0 1 0 0 0 0 0 0 1 0 0 0 0 0 1 0 0 0 0 0 0 0 1 1 0 1 1 0 0\n",
      " 0 0 0 0 0 0 0 1 1 1 1 1 1 0 0 0 0 0 0 0 1 0 1 0 0 0 0 0 1 1 1 0 0 0 0 1 1\n",
      " 0 1 0 1 0 0 0 1 0 1 1 1 1 0 1 0 0 1 1 0 1 0 0 0 0 0 1 0 0 1 1 0 0 0 0 0 0\n",
      " 0 0 1 0 0 0 0 0 1 1 0 0 1 1 0 0 0 1 1 1 0 0 0 1 0 0 0 0 0 0 0 0 0 1 0 0 0\n",
      " 0 0 0 0 0 0 0 1 1 1 0 0 0 1 1 0 1 0 0 0 0 0 0 0 0 0 1 0 0 0 1 1 0 1 0 1 1\n",
      " 1 0 0 1 1 1 0 0 0 0 0 0 1 0 0 1 1 0 0 0 0 0 0 0 1 0 1 1 0 1 0 0 1 0 0 0 1\n",
      " 0 0 1 0 0 0 0 0 0 0 0 0 0 1 1 1 0 0 1 0 0 0 0 0 1 0 1 0 1 0 0 1 0 0 0 1 0\n",
      " 0 1 0 0 0 1 1 1 0 1 0 0 0 0 1 0 0 0 0 0 1 0 0 1 0 1 1 1 1 0 0 1 1 0 0 0 0\n",
      " 1 0 0 1 1 1 1 0 0 0 1 0 0 1 1 1 0 1 0 1 0 0 1 1 0 1 1 1 0 1 0]\n",
      "Number of predicted value in training dataset:---> 623\n"
     ]
    }
   ],
   "source": [
    "lr_y_pred_train = lr_clf.predict(x_train)\n",
    "print(\"Predicted value for train data\",lr_y_pred_train)\n",
    "print(\"Number of predicted value in training dataset:--->\",len(lr_y_pred_train))"
   ]
  },
  {
   "cell_type": "code",
   "execution_count": 37,
   "id": "2f70c515",
   "metadata": {},
   "outputs": [
    {
     "name": "stdout",
     "output_type": "stream",
     "text": [
      "Predicted value of test data:---> [0 0 0 1 1 0 1 1 0 1 0 1 0 1 1 1 0 0 0 0 0 1 0 0 1 1 0 1 1 0 0 1 0 0 0 1 0\n",
      " 0 0 0 1 0 0 0 1 0 0 1 0 1 0 1 1 0 0 0 0 0 0 0 0 1 1 0 1 0 1 0 1 1 1 0 1 0\n",
      " 0 0 0 0 0 0 0 0 1 0 0 1 1 0 1 1 0 0 0 1 0 0 1 0 0 1 0 0 0 0 1 1 1 1 0 1 0\n",
      " 1 0 1 0 1 1 1 0 1 0 0 0 0 0 0 0 0 0 0 1 0 0 1 0 0 0 1 0 0 0 1 0 1 1 1 0 1\n",
      " 1 0 0 1 1 0 1 0 1 0 1 1 0 0 1 0 0 0 0 0 0 0 0 1 0 0 1 0 1 0 0 1 0 1 0 0 0\n",
      " 0 1 0 0 1 1 0 1 1 0 1 0 1 0 0 0 1 0 1 0 0 1 0 1 0 0 1 0 1 0 0 0 0 1 1 0 1\n",
      " 1 0 0 0 0 1 0 0 0 1 1 1 0 0 1 1 1 0 0 1 0 0 1 0 1 0 0 1 0 0 1 0 0 1 1 0 0\n",
      " 0 0 0 0 0 0 0 1 0]\n",
      "Number of predicted value for test dataset:---> 268\n"
     ]
    }
   ],
   "source": [
    "lr_y_pred_test = lr_clf.predict(x_test)\n",
    "print(\"Predicted value of test data:--->\",lr_y_pred_test)\n",
    "print(\"Number of predicted value for test dataset:--->\",len(lr_y_pred_test))"
   ]
  },
  {
   "cell_type": "code",
   "execution_count": 38,
   "id": "43452c58",
   "metadata": {},
   "outputs": [
    {
     "name": "stdout",
     "output_type": "stream",
     "text": [
      "Decision Tree traing model accuracy score:---> 0.8057784911717496\n",
      "Decision Tree testing model accuracy score:---> 0.7835820895522388\n"
     ]
    }
   ],
   "source": [
    "from sklearn.metrics import accuracy_score\n",
    "print(\"Decision Tree traing model accuracy score:--->\", accuracy_score(y_train,lr_y_pred_train))\n",
    "print(\"Decision Tree testing model accuracy score:--->\", accuracy_score(y_test,lr_y_pred_test))"
   ]
  },
  {
   "cell_type": "code",
   "execution_count": 39,
   "id": "8f944108-6f53-458c-adbd-91d16d4f4a1a",
   "metadata": {},
   "outputs": [
    {
     "data": {
      "text/html": [
       "<div>\n",
       "<style scoped>\n",
       "    .dataframe tbody tr th:only-of-type {\n",
       "        vertical-align: middle;\n",
       "    }\n",
       "\n",
       "    .dataframe tbody tr th {\n",
       "        vertical-align: top;\n",
       "    }\n",
       "\n",
       "    .dataframe thead th {\n",
       "        text-align: right;\n",
       "    }\n",
       "</style>\n",
       "<table border=\"1\" class=\"dataframe\">\n",
       "  <thead>\n",
       "    <tr style=\"text-align: right;\">\n",
       "      <th>col_0</th>\n",
       "      <th>0</th>\n",
       "      <th>1</th>\n",
       "    </tr>\n",
       "    <tr>\n",
       "      <th>row_0</th>\n",
       "      <th></th>\n",
       "      <th></th>\n",
       "    </tr>\n",
       "  </thead>\n",
       "  <tbody>\n",
       "    <tr>\n",
       "      <th>0</th>\n",
       "      <td>336</td>\n",
       "      <td>45</td>\n",
       "    </tr>\n",
       "    <tr>\n",
       "      <th>1</th>\n",
       "      <td>76</td>\n",
       "      <td>166</td>\n",
       "    </tr>\n",
       "  </tbody>\n",
       "</table>\n",
       "</div>"
      ],
      "text/plain": [
       "col_0    0    1\n",
       "row_0          \n",
       "0      336   45\n",
       "1       76  166"
      ]
     },
     "execution_count": 39,
     "metadata": {},
     "output_type": "execute_result"
    }
   ],
   "source": [
    "pd.crosstab(y_train,lr_y_pred_train)"
   ]
  },
  {
   "cell_type": "code",
   "execution_count": 40,
   "id": "afa86034",
   "metadata": {},
   "outputs": [
    {
     "data": {
      "text/html": [
       "<div>\n",
       "<style scoped>\n",
       "    .dataframe tbody tr th:only-of-type {\n",
       "        vertical-align: middle;\n",
       "    }\n",
       "\n",
       "    .dataframe tbody tr th {\n",
       "        vertical-align: top;\n",
       "    }\n",
       "\n",
       "    .dataframe thead th {\n",
       "        text-align: right;\n",
       "    }\n",
       "</style>\n",
       "<table border=\"1\" class=\"dataframe\">\n",
       "  <thead>\n",
       "    <tr style=\"text-align: right;\">\n",
       "      <th>col_0</th>\n",
       "      <th>0</th>\n",
       "      <th>1</th>\n",
       "    </tr>\n",
       "    <tr>\n",
       "      <th>row_0</th>\n",
       "      <th></th>\n",
       "      <th></th>\n",
       "    </tr>\n",
       "  </thead>\n",
       "  <tbody>\n",
       "    <tr>\n",
       "      <th>0</th>\n",
       "      <td>138</td>\n",
       "      <td>30</td>\n",
       "    </tr>\n",
       "    <tr>\n",
       "      <th>1</th>\n",
       "      <td>28</td>\n",
       "      <td>72</td>\n",
       "    </tr>\n",
       "  </tbody>\n",
       "</table>\n",
       "</div>"
      ],
      "text/plain": [
       "col_0    0   1\n",
       "row_0         \n",
       "0      138  30\n",
       "1       28  72"
      ]
     },
     "execution_count": 40,
     "metadata": {},
     "output_type": "execute_result"
    }
   ],
   "source": [
    "pd.crosstab(y_test,lr_y_pred_test)"
   ]
  },
  {
   "cell_type": "code",
   "execution_count": 41,
   "id": "7e9b0d1d",
   "metadata": {},
   "outputs": [
    {
     "name": "stdout",
     "output_type": "stream",
     "text": [
      "[[138  30]\n",
      " [ 28  72]]\n"
     ]
    }
   ],
   "source": [
    "# Confusion Matrix\n",
    "from sklearn.metrics import confusion_matrix\n",
    "print(confusion_matrix(y_test,lr_y_pred_test))"
   ]
  },
  {
   "cell_type": "code",
   "execution_count": 42,
   "id": "bfc7455d",
   "metadata": {},
   "outputs": [
    {
     "data": {
      "text/plain": [
       "Text(24.0, 0.5, 'Truth or Actual Value')"
      ]
     },
     "execution_count": 42,
     "metadata": {},
     "output_type": "execute_result"
    },
    {
     "data": {
      "image/png": "[encoded data removed]",
      "text/plain": [
       "<Figure size 360x288 with 2 Axes>"
      ]
     },
     "metadata": {
      "needs_background": "light"
     },
     "output_type": "display_data"
    }
   ],
   "source": [
    "lr_cm = confusion_matrix(y_test,lr_y_pred_test)\n",
    "import seaborn as sn\n",
    "from matplotlib import pyplot as plt\n",
    "plt.figure(figsize = (5,4))\n",
    "sn.heatmap(lr_cm, annot=True)\n",
    "plt.xlabel('Predicted Value')\n",
    "plt.ylabel('Truth or Actual Value')"
   ]
  },
  {
   "cell_type": "code",
   "execution_count": 43,
   "id": "57918cd5",
   "metadata": {
    "collapsed": true,
    "tags": []
   },
   "outputs": [
    {
     "name": "stdout",
     "output_type": "stream",
     "text": [
      "[[0.8038416  0.1961584 ]\n",
      " [0.87185518 0.12814482]\n",
      " [0.88029025 0.11970975]\n",
      " [0.06240603 0.93759397]\n",
      " [0.34015577 0.65984423]\n",
      " [0.70540711 0.29459289]\n",
      " [0.14453777 0.85546223]\n",
      " [0.11110885 0.88889115]\n",
      " [0.56132173 0.43867827]\n",
      " [0.37655433 0.62344567]\n",
      " [0.89811317 0.10188683]\n",
      " [0.26661465 0.73338535]\n",
      " [0.86739727 0.13260273]\n",
      " [0.30871768 0.69128232]\n",
      " [0.10091313 0.89908687]\n",
      " [0.454285   0.545715  ]\n",
      " [0.89435315 0.10564685]\n",
      " [0.62783446 0.37216554]\n",
      " [0.89560119 0.10439881]\n",
      " [0.74250792 0.25749208]\n",
      " [0.720421   0.279579  ]\n",
      " [0.12198943 0.87801057]\n",
      " [0.77949135 0.22050865]\n",
      " [0.66512173 0.33487827]\n",
      " [0.43176644 0.56823356]\n",
      " [0.05447543 0.94552457]\n",
      " [0.89223284 0.10776716]\n",
      " [0.44436644 0.55563356]\n",
      " [0.12036629 0.87963371]\n",
      " [0.76332323 0.23667677]\n",
      " [0.84340421 0.15659579]\n",
      " [0.20019869 0.79980131]\n",
      " [0.93010566 0.06989434]\n",
      " [0.6787578  0.3212422 ]\n",
      " [0.87088082 0.12911918]\n",
      " [0.45337249 0.54662751]\n",
      " [0.90215339 0.09784661]\n",
      " [0.83776067 0.16223933]\n",
      " [0.75741084 0.24258916]\n",
      " [0.78001469 0.21998531]\n",
      " [0.33404171 0.66595829]\n",
      " [0.89148294 0.10851706]\n",
      " [0.93331604 0.06668396]\n",
      " [0.93343226 0.06656774]\n",
      " [0.10873789 0.89126211]\n",
      " [0.91423975 0.08576025]\n",
      " [0.91861631 0.08138369]\n",
      " [0.10477373 0.89522627]\n",
      " [0.78604227 0.21395773]\n",
      " [0.46173491 0.53826509]\n",
      " [0.57881241 0.42118759]\n",
      " [0.38199524 0.61800476]\n",
      " [0.1069246  0.8930754 ]\n",
      " [0.90689027 0.09310973]\n",
      " [0.54681706 0.45318294]\n",
      " [0.81841846 0.18158154]\n",
      " [0.61690853 0.38309147]\n",
      " [0.78811171 0.21188829]\n",
      " [0.97605005 0.02394995]\n",
      " [0.86603393 0.13396607]\n",
      " [0.87825033 0.12174967]\n",
      " [0.46472165 0.53527835]\n",
      " [0.06815449 0.93184551]\n",
      " [0.51212529 0.48787471]\n",
      " [0.44258898 0.55741102]\n",
      " [0.82072164 0.17927836]\n",
      " [0.17970569 0.82029431]\n",
      " [0.56209182 0.43790818]\n",
      " [0.10781284 0.89218716]\n",
      " [0.14730291 0.85269709]\n",
      " [0.22224594 0.77775406]\n",
      " [0.60745154 0.39254846]\n",
      " [0.48568452 0.51431548]\n",
      " [0.90821763 0.09178237]\n",
      " [0.88105395 0.11894605]\n",
      " [0.58715418 0.41284582]\n",
      " [0.83674759 0.16325241]\n",
      " [0.64537609 0.35462391]\n",
      " [0.91722291 0.08277709]\n",
      " [0.64951593 0.35048407]\n",
      " [0.84024851 0.15975149]\n",
      " [0.78808882 0.21191118]\n",
      " [0.12459862 0.87540138]\n",
      " [0.89106849 0.10893151]\n",
      " [0.76191765 0.23808235]\n",
      " [0.12952544 0.87047456]\n",
      " [0.05472961 0.94527039]\n",
      " [0.52865296 0.47134704]\n",
      " [0.2408157  0.7591843 ]\n",
      " [0.47548976 0.52451024]\n",
      " [0.67274207 0.32725793]\n",
      " [0.93156217 0.06843783]\n",
      " [0.59939125 0.40060875]\n",
      " [0.076966   0.923034  ]\n",
      " [0.80472441 0.19527559]\n",
      " [0.84294975 0.15705025]\n",
      " [0.27848381 0.72151619]\n",
      " [0.9545493  0.0454507 ]\n",
      " [0.68564909 0.31435091]\n",
      " [0.49714272 0.50285728]\n",
      " [0.94085079 0.05914921]\n",
      " [0.76798952 0.23201048]\n",
      " [0.889557   0.110443  ]\n",
      " [0.85909935 0.14090065]\n",
      " [0.26051763 0.73948237]\n",
      " [0.2939949  0.7060051 ]\n",
      " [0.22908037 0.77091963]\n",
      " [0.42639038 0.57360962]\n",
      " [0.76960494 0.23039506]\n",
      " [0.3239691  0.6760309 ]\n",
      " [0.91689049 0.08310951]\n",
      " [0.07679238 0.92320762]\n",
      " [0.88030128 0.11969872]\n",
      " [0.41726257 0.58273743]\n",
      " [0.51304162 0.48695838]\n",
      " [0.23929809 0.76070191]\n",
      " [0.46621254 0.53378746]\n",
      " [0.09759829 0.90240171]\n",
      " [0.91935314 0.08064686]\n",
      " [0.12119969 0.87880031]\n",
      " [0.88511394 0.11488606]\n",
      " [0.8657523  0.1342477 ]\n",
      " [0.88210717 0.11789283]\n",
      " [0.62905947 0.37094053]\n",
      " [0.91405638 0.08594362]\n",
      " [0.52980325 0.47019675]\n",
      " [0.83521485 0.16478515]\n",
      " [0.91444119 0.08555881]\n",
      " [0.75591368 0.24408632]\n",
      " [0.76704922 0.23295078]\n",
      " [0.32849383 0.67150617]\n",
      " [0.8926728  0.1073272 ]\n",
      " [0.86936776 0.13063224]\n",
      " [0.48202819 0.51797181]\n",
      " [0.6572896  0.3427104 ]\n",
      " [0.87421537 0.12578463]\n",
      " [0.83378078 0.16621922]\n",
      " [0.42212043 0.57787957]\n",
      " [0.67317695 0.32682305]\n",
      " [0.71954981 0.28045019]\n",
      " [0.73134324 0.26865676]\n",
      " [0.05491623 0.94508377]\n",
      " [0.90942619 0.09057381]\n",
      " [0.26649106 0.73350894]\n",
      " [0.2630463  0.7369537 ]\n",
      " [0.4637155  0.5362845 ]\n",
      " [0.79666922 0.20333078]\n",
      " [0.17597461 0.82402539]\n",
      " [0.03253869 0.96746131]\n",
      " [0.89576495 0.10423505]\n",
      " [0.54410281 0.45589719]\n",
      " [0.36813589 0.63186411]\n",
      " [0.49713183 0.50286817]\n",
      " [0.8882412  0.1117588 ]\n",
      " [0.16215239 0.83784761]\n",
      " [0.7368052  0.2631948 ]\n",
      " [0.18689641 0.81310359]\n",
      " [0.76589736 0.23410264]\n",
      " [0.32356261 0.67643739]\n",
      " [0.24856557 0.75143443]\n",
      " [0.90526626 0.09473374]\n",
      " [0.82752854 0.17247146]\n",
      " [0.070853   0.929147  ]\n",
      " [0.81678136 0.18321864]\n",
      " [0.72173659 0.27826341]\n",
      " [0.9070958  0.0929042 ]\n",
      " [0.86454468 0.13545532]\n",
      " [0.90543919 0.09456081]\n",
      " [0.89974582 0.10025418]\n",
      " [0.89233856 0.10766144]\n",
      " [0.87378153 0.12621847]\n",
      " [0.10221301 0.89778699]\n",
      " [0.88331566 0.11668434]\n",
      " [0.87096076 0.12903924]\n",
      " [0.25770284 0.74229716]\n",
      " [0.89044343 0.10955657]\n",
      " [0.07421293 0.92578707]\n",
      " [0.88405151 0.11594849]\n",
      " [0.91467883 0.08532117]\n",
      " [0.30155342 0.69844658]\n",
      " [0.8351098  0.1648902 ]\n",
      " [0.48369169 0.51630831]\n",
      " [0.83903062 0.16096938]\n",
      " [0.86476124 0.13523876]\n",
      " [0.68476764 0.31523236]\n",
      " [0.88218913 0.11781087]\n",
      " [0.23928952 0.76071048]\n",
      " [0.77935423 0.22064577]\n",
      " [0.9101953  0.0898047 ]\n",
      " [0.16145023 0.83854977]\n",
      " [0.41388257 0.58611743]\n",
      " [0.65021009 0.34978991]\n",
      " [0.34552294 0.65447706]\n",
      " [0.27178925 0.72821075]\n",
      " [0.82148706 0.17851294]\n",
      " [0.39374679 0.60625321]\n",
      " [0.89998932 0.10001068]\n",
      " [0.30397564 0.69602436]\n",
      " [0.68153379 0.31846621]\n",
      " [0.90018218 0.09981782]\n",
      " [0.92480274 0.07519726]\n",
      " [0.36082866 0.63917134]\n",
      " [0.7331374  0.2668626 ]\n",
      " [0.31524451 0.68475549]\n",
      " [0.90257893 0.09742107]\n",
      " [0.67420613 0.32579387]\n",
      " [0.42877356 0.57122644]\n",
      " [0.89121779 0.10878221]\n",
      " [0.31996156 0.68003844]\n",
      " [0.91893339 0.08106661]\n",
      " [0.87654211 0.12345789]\n",
      " [0.48918972 0.51081028]\n",
      " [0.93579625 0.06420375]\n",
      " [0.17215577 0.82784423]\n",
      " [0.78714261 0.21285739]\n",
      " [0.90579993 0.09420007]\n",
      " [0.66409664 0.33590336]\n",
      " [0.8951863  0.1048137 ]\n",
      " [0.45954399 0.54045601]\n",
      " [0.10656015 0.89343985]\n",
      " [0.9164108  0.0835892 ]\n",
      " [0.10120241 0.89879759]\n",
      " [0.29306555 0.70693445]\n",
      " [0.89555011 0.10444989]\n",
      " [0.7905846  0.2094154 ]\n",
      " [0.8695787  0.1304213 ]\n",
      " [0.86904141 0.13095859]\n",
      " [0.22693316 0.77306684]\n",
      " [0.89703891 0.10296109]\n",
      " [0.81945715 0.18054285]\n",
      " [0.89244702 0.10755298]\n",
      " [0.22122937 0.77877063]\n",
      " [0.48920545 0.51079455]\n",
      " [0.4490642  0.5509358 ]\n",
      " [0.68925339 0.31074661]\n",
      " [0.84441288 0.15558712]\n",
      " [0.0438669  0.9561331 ]\n",
      " [0.10901743 0.89098257]\n",
      " [0.16801226 0.83198774]\n",
      " [0.89224366 0.10775634]\n",
      " [0.85153783 0.14846217]\n",
      " [0.05964201 0.94035799]\n",
      " [0.90661054 0.09338946]\n",
      " [0.80470931 0.19529069]\n",
      " [0.1619306  0.8380694 ]\n",
      " [0.67055252 0.32944748]\n",
      " [0.31782041 0.68217959]\n",
      " [0.91826048 0.08173952]\n",
      " [0.89974029 0.10025971]\n",
      " [0.30425689 0.69574311]\n",
      " [0.90473426 0.09526574]\n",
      " [0.92984975 0.07015025]\n",
      " [0.37259555 0.62740445]\n",
      " [0.74754049 0.25245951]\n",
      " [0.62180083 0.37819917]\n",
      " [0.39740536 0.60259464]\n",
      " [0.35605022 0.64394978]\n",
      " [0.85826852 0.14173148]\n",
      " [0.95955207 0.04044793]\n",
      " [0.78100493 0.21899507]\n",
      " [0.92167564 0.07832436]\n",
      " [0.91384732 0.08615268]\n",
      " [0.83033619 0.16966381]\n",
      " [0.68979742 0.31020258]\n",
      " [0.86519195 0.13480805]\n",
      " [0.87000122 0.12999878]\n",
      " [0.49223504 0.50776496]\n",
      " [0.58067561 0.41932439]]\n"
     ]
    }
   ],
   "source": [
    "lr_probs = lr_clf.predict_proba(x_test)  # Predicted probability for both -ve and +ve outcome\n",
    "print(lr_probs)"
   ]
  },
  {
   "cell_type": "code",
   "execution_count": 44,
   "id": "926df95e",
   "metadata": {
    "collapsed": true,
    "tags": []
   },
   "outputs": [
    {
     "name": "stdout",
     "output_type": "stream",
     "text": [
      "[0.1961584  0.12814482 0.11970975 0.93759397 0.65984423 0.29459289\n",
      " 0.85546223 0.88889115 0.43867827 0.62344567 0.10188683 0.73338535\n",
      " 0.13260273 0.69128232 0.89908687 0.545715   0.10564685 0.37216554\n",
      " 0.10439881 0.25749208 0.279579   0.87801057 0.22050865 0.33487827\n",
      " 0.56823356 0.94552457 0.10776716 0.55563356 0.87963371 0.23667677\n",
      " 0.15659579 0.79980131 0.06989434 0.3212422  0.12911918 0.54662751\n",
      " 0.09784661 0.16223933 0.24258916 0.21998531 0.66595829 0.10851706\n",
      " 0.06668396 0.06656774 0.89126211 0.08576025 0.08138369 0.89522627\n",
      " 0.21395773 0.53826509 0.42118759 0.61800476 0.8930754  0.09310973\n",
      " 0.45318294 0.18158154 0.38309147 0.21188829 0.02394995 0.13396607\n",
      " 0.12174967 0.53527835 0.93184551 0.48787471 0.55741102 0.17927836\n",
      " 0.82029431 0.43790818 0.89218716 0.85269709 0.77775406 0.39254846\n",
      " 0.51431548 0.09178237 0.11894605 0.41284582 0.16325241 0.35462391\n",
      " 0.08277709 0.35048407 0.15975149 0.21191118 0.87540138 0.10893151\n",
      " 0.23808235 0.87047456 0.94527039 0.47134704 0.7591843  0.52451024\n",
      " 0.32725793 0.06843783 0.40060875 0.923034   0.19527559 0.15705025\n",
      " 0.72151619 0.0454507  0.31435091 0.50285728 0.05914921 0.23201048\n",
      " 0.110443   0.14090065 0.73948237 0.7060051  0.77091963 0.57360962\n",
      " 0.23039506 0.6760309  0.08310951 0.92320762 0.11969872 0.58273743\n",
      " 0.48695838 0.76070191 0.53378746 0.90240171 0.08064686 0.87880031\n",
      " 0.11488606 0.1342477  0.11789283 0.37094053 0.08594362 0.47019675\n",
      " 0.16478515 0.08555881 0.24408632 0.23295078 0.67150617 0.1073272\n",
      " 0.13063224 0.51797181 0.3427104  0.12578463 0.16621922 0.57787957\n",
      " 0.32682305 0.28045019 0.26865676 0.94508377 0.09057381 0.73350894\n",
      " 0.7369537  0.5362845  0.20333078 0.82402539 0.96746131 0.10423505\n",
      " 0.45589719 0.63186411 0.50286817 0.1117588  0.83784761 0.2631948\n",
      " 0.81310359 0.23410264 0.67643739 0.75143443 0.09473374 0.17247146\n",
      " 0.929147   0.18321864 0.27826341 0.0929042  0.13545532 0.09456081\n",
      " 0.10025418 0.10766144 0.12621847 0.89778699 0.11668434 0.12903924\n",
      " 0.74229716 0.10955657 0.92578707 0.11594849 0.08532117 0.69844658\n",
      " 0.1648902  0.51630831 0.16096938 0.13523876 0.31523236 0.11781087\n",
      " 0.76071048 0.22064577 0.0898047  0.83854977 0.58611743 0.34978991\n",
      " 0.65447706 0.72821075 0.17851294 0.60625321 0.10001068 0.69602436\n",
      " 0.31846621 0.09981782 0.07519726 0.63917134 0.2668626  0.68475549\n",
      " 0.09742107 0.32579387 0.57122644 0.10878221 0.68003844 0.08106661\n",
      " 0.12345789 0.51081028 0.06420375 0.82784423 0.21285739 0.09420007\n",
      " 0.33590336 0.1048137  0.54045601 0.89343985 0.0835892  0.89879759\n",
      " 0.70693445 0.10444989 0.2094154  0.1304213  0.13095859 0.77306684\n",
      " 0.10296109 0.18054285 0.10755298 0.77877063 0.51079455 0.5509358\n",
      " 0.31074661 0.15558712 0.9561331  0.89098257 0.83198774 0.10775634\n",
      " 0.14846217 0.94035799 0.09338946 0.19529069 0.8380694  0.32944748\n",
      " 0.68217959 0.08173952 0.10025971 0.69574311 0.09526574 0.07015025\n",
      " 0.62740445 0.25245951 0.37819917 0.60259464 0.64394978 0.14173148\n",
      " 0.04044793 0.21899507 0.07832436 0.08615268 0.16966381 0.31020258\n",
      " 0.13480805 0.12999878 0.50776496 0.41932439]\n"
     ]
    }
   ],
   "source": [
    "lr_probs = lr_probs[:,1] #Probability for the positive outome is kept\n",
    "print(lr_probs)"
   ]
  },
  {
   "cell_type": "code",
   "execution_count": 45,
   "id": "9debfb47",
   "metadata": {},
   "outputs": [],
   "source": [
    "import numpy as np\n",
    "lr_y_predict_th3 = np.where(lr_clf.predict_proba(x_test)[:,1]>0.3,1,0) # Threshold is 0.3\n",
    "lr_y_predict_th4 = np.where(lr_clf.predict_proba(x_test)[:,1]>0.4,1,0) # Threshold is 0.4"
   ]
  },
  {
   "cell_type": "code",
   "execution_count": 46,
   "id": "6d4a14c1",
   "metadata": {
    "collapsed": true
   },
   "outputs": [
    {
     "data": {
      "text/plain": [
       "array([0, 0, 0, 1, 1, 0, 1, 1, 1, 1, 0, 1, 0, 1, 1, 1, 0, 1, 0, 0, 0, 1,\n",
       "       0, 1, 1, 1, 0, 1, 1, 0, 0, 1, 0, 1, 0, 1, 0, 0, 0, 0, 1, 0, 0, 0,\n",
       "       1, 0, 0, 1, 0, 1, 1, 1, 1, 0, 1, 0, 1, 0, 0, 0, 0, 1, 1, 1, 1, 0,\n",
       "       1, 1, 1, 1, 1, 1, 1, 0, 0, 1, 0, 1, 0, 1, 0, 0, 1, 0, 0, 1, 1, 1,\n",
       "       1, 1, 1, 0, 1, 1, 0, 0, 1, 0, 1, 1, 0, 0, 0, 0, 1, 1, 1, 1, 0, 1,\n",
       "       0, 1, 0, 1, 1, 1, 1, 1, 0, 1, 0, 0, 0, 1, 0, 1, 0, 0, 0, 0, 1, 0,\n",
       "       0, 1, 1, 0, 0, 1, 1, 0, 0, 1, 0, 1, 1, 1, 0, 1, 1, 0, 1, 1, 1, 0,\n",
       "       1, 0, 1, 0, 1, 1, 0, 0, 1, 0, 0, 0, 0, 0, 0, 0, 0, 1, 0, 0, 1, 0,\n",
       "       1, 0, 0, 1, 0, 1, 0, 0, 1, 0, 1, 0, 0, 1, 1, 1, 1, 1, 0, 1, 0, 1,\n",
       "       1, 0, 0, 1, 0, 1, 0, 1, 1, 0, 1, 0, 0, 1, 0, 1, 0, 0, 1, 0, 1, 1,\n",
       "       0, 1, 1, 0, 0, 0, 0, 1, 0, 0, 0, 1, 1, 1, 1, 0, 1, 1, 1, 0, 0, 1,\n",
       "       0, 0, 1, 1, 1, 0, 0, 1, 0, 0, 1, 0, 1, 1, 1, 0, 0, 0, 0, 0, 0, 1,\n",
       "       0, 0, 1, 1])"
      ]
     },
     "execution_count": 46,
     "metadata": {},
     "output_type": "execute_result"
    }
   ],
   "source": [
    "lr_y_predict_th3"
   ]
  },
  {
   "cell_type": "code",
   "execution_count": 47,
   "id": "a48ee4c0",
   "metadata": {},
   "outputs": [
    {
     "data": {
      "text/html": [
       "<div>\n",
       "<style scoped>\n",
       "    .dataframe tbody tr th:only-of-type {\n",
       "        vertical-align: middle;\n",
       "    }\n",
       "\n",
       "    .dataframe tbody tr th {\n",
       "        vertical-align: top;\n",
       "    }\n",
       "\n",
       "    .dataframe thead th {\n",
       "        text-align: right;\n",
       "    }\n",
       "</style>\n",
       "<table border=\"1\" class=\"dataframe\">\n",
       "  <thead>\n",
       "    <tr style=\"text-align: right;\">\n",
       "      <th>col_0</th>\n",
       "      <th>0</th>\n",
       "      <th>1</th>\n",
       "    </tr>\n",
       "    <tr>\n",
       "      <th>row_0</th>\n",
       "      <th></th>\n",
       "      <th></th>\n",
       "    </tr>\n",
       "  </thead>\n",
       "  <tbody>\n",
       "    <tr>\n",
       "      <th>0</th>\n",
       "      <td>116</td>\n",
       "      <td>52</td>\n",
       "    </tr>\n",
       "    <tr>\n",
       "      <th>1</th>\n",
       "      <td>17</td>\n",
       "      <td>83</td>\n",
       "    </tr>\n",
       "  </tbody>\n",
       "</table>\n",
       "</div>"
      ],
      "text/plain": [
       "col_0    0   1\n",
       "row_0         \n",
       "0      116  52\n",
       "1       17  83"
      ]
     },
     "execution_count": 47,
     "metadata": {},
     "output_type": "execute_result"
    }
   ],
   "source": [
    "pd.crosstab(y_test,lr_y_predict_th3)"
   ]
  },
  {
   "cell_type": "code",
   "execution_count": 48,
   "id": "15a7eaf1",
   "metadata": {},
   "outputs": [
    {
     "data": {
      "text/html": [
       "<div>\n",
       "<style scoped>\n",
       "    .dataframe tbody tr th:only-of-type {\n",
       "        vertical-align: middle;\n",
       "    }\n",
       "\n",
       "    .dataframe tbody tr th {\n",
       "        vertical-align: top;\n",
       "    }\n",
       "\n",
       "    .dataframe thead th {\n",
       "        text-align: right;\n",
       "    }\n",
       "</style>\n",
       "<table border=\"1\" class=\"dataframe\">\n",
       "  <thead>\n",
       "    <tr style=\"text-align: right;\">\n",
       "      <th>col_0</th>\n",
       "      <th>0</th>\n",
       "      <th>1</th>\n",
       "    </tr>\n",
       "    <tr>\n",
       "      <th>row_0</th>\n",
       "      <th></th>\n",
       "      <th></th>\n",
       "    </tr>\n",
       "  </thead>\n",
       "  <tbody>\n",
       "    <tr>\n",
       "      <th>0</th>\n",
       "      <td>133</td>\n",
       "      <td>35</td>\n",
       "    </tr>\n",
       "    <tr>\n",
       "      <th>1</th>\n",
       "      <td>21</td>\n",
       "      <td>79</td>\n",
       "    </tr>\n",
       "  </tbody>\n",
       "</table>\n",
       "</div>"
      ],
      "text/plain": [
       "col_0    0   1\n",
       "row_0         \n",
       "0      133  35\n",
       "1       21  79"
      ]
     },
     "execution_count": 48,
     "metadata": {},
     "output_type": "execute_result"
    }
   ],
   "source": [
    "pd.crosstab(y_test,lr_y_predict_th4)"
   ]
  },
  {
   "cell_type": "code",
   "execution_count": 49,
   "id": "39344bbb",
   "metadata": {},
   "outputs": [],
   "source": [
    "def predict_threshold (lr_clf,x_test,thresholds):\n",
    "    import numpy as np\n",
    "    return np.where(lr_clf.predict_proba(x_test)[:,1]>thresholds,1,0)"
   ]
  },
  {
   "cell_type": "code",
   "execution_count": 50,
   "id": "62559536",
   "metadata": {},
   "outputs": [
    {
     "name": "stdout",
     "output_type": "stream",
     "text": [
      "Threshold : 0.0\n",
      "[[  0 168]\n",
      " [  0 100]]\n",
      "Threshold : 0.1\n",
      "[[ 33 135]\n",
      " [  4  96]]\n",
      "Threshold : 0.2\n",
      "[[94 74]\n",
      " [12 88]]\n",
      "Threshold : 0.30000000000000004\n",
      "[[116  52]\n",
      " [ 17  83]]\n",
      "Threshold : 0.4\n",
      "[[133  35]\n",
      " [ 21  79]]\n",
      "Threshold : 0.5\n",
      "[[138  30]\n",
      " [ 28  72]]\n",
      "Threshold : 0.6000000000000001\n",
      "[[155  13]\n",
      " [ 36  64]]\n",
      "Threshold : 0.7000000000000001\n",
      "[[163   5]\n",
      " [ 49  51]]\n",
      "Threshold : 0.8\n",
      "[[165   3]\n",
      " [ 65  35]]\n",
      "Threshold : 0.9\n",
      "[[168   0]\n",
      " [ 87  13]]\n"
     ]
    }
   ],
   "source": [
    "import numpy as np\n",
    "from sklearn.metrics import confusion_matrix\n",
    "for thr in np.arange(0,1.0,0.1):\n",
    "    lr_y_predict = predict_threshold(lr_clf,x_test,thr)\n",
    "    print(\"Threshold :\",thr)\n",
    "    print(confusion_matrix(y_test,lr_y_predict))"
   ]
  },
  {
   "cell_type": "code",
   "execution_count": 51,
   "id": "9b6e2f4b",
   "metadata": {},
   "outputs": [
    {
     "data": {
      "text/plain": [
       "array([1.96746131, 0.96746131, 0.87801057, 0.87540138, 0.83198774,\n",
       "       0.82784423, 0.82029431, 0.81310359, 0.74229716, 0.73948237,\n",
       "       0.7369537 , 0.73350894, 0.7060051 , 0.69844658, 0.68475549,\n",
       "       0.68217959, 0.68003844, 0.67643739, 0.6760309 , 0.67150617,\n",
       "       0.64394978, 0.63917134, 0.63186411, 0.62740445, 0.61800476,\n",
       "       0.56823356, 0.55563356, 0.5509358 , 0.54662751, 0.53527835,\n",
       "       0.53378746, 0.51431548, 0.50776496, 0.50286817, 0.50285728,\n",
       "       0.48787471, 0.47134704, 0.45589719, 0.43867827, 0.43790818,\n",
       "       0.42118759, 0.41932439, 0.39254846, 0.33487827, 0.32944748,\n",
       "       0.32579387, 0.31846621, 0.31020258, 0.29459289, 0.2631948 ,\n",
       "       0.25749208, 0.23667677, 0.23410264, 0.21285739, 0.21191118,\n",
       "       0.21188829, 0.2094154 , 0.19527559, 0.18321864, 0.17851294,\n",
       "       0.17247146, 0.14846217, 0.14173148, 0.1342477 , 0.13396607,\n",
       "       0.11970975, 0.11969872, 0.11594849, 0.11488606, 0.10564685,\n",
       "       0.1048137 , 0.10423505, 0.10296109, 0.09784661, 0.09742107,\n",
       "       0.08576025, 0.08555881, 0.07832436, 0.07519726, 0.0454507 ,\n",
       "       0.04044793, 0.02394995])"
      ]
     },
     "execution_count": 51,
     "metadata": {},
     "output_type": "execute_result"
    }
   ],
   "source": [
    "from sklearn.metrics import roc_curve, roc_auc_score\n",
    "tpr,fpr,thresholds = roc_curve(y_test,lr_clf.predict_proba(x_test)[:,1])\n",
    "thresholds"
   ]
  },
  {
   "cell_type": "code",
   "execution_count": 52,
   "id": "fe3d498b-982a-4e26-b9dd-58a92a5bb4b8",
   "metadata": {},
   "outputs": [
    {
     "data": {
      "text/plain": [
       "array([0, 0, 0, 1, 1, 1, 1, 1, 1, 1, 0, 1, 0, 1, 1, 0, 0, 0, 0, 1, 0, 1,\n",
       "       0, 0, 0, 1, 0, 1, 1, 0, 0, 1, 0, 1, 0, 1, 0, 0, 0, 0, 1, 0, 0, 0,\n",
       "       1, 0, 0, 1, 0, 0, 1, 1, 1, 0, 1, 0, 0, 0, 0, 1, 0, 0, 1, 0, 1, 0,\n",
       "       1, 0, 1, 1, 1, 1, 0, 0, 0, 1, 0, 0, 0, 0, 0, 1, 0, 0, 0, 1, 1, 1,\n",
       "       1, 0, 0, 0, 1, 1, 0, 0, 1, 0, 0, 1, 0, 0, 0, 0, 0, 1, 1, 0, 0, 1,\n",
       "       0, 1, 1, 0, 1, 1, 1, 1, 0, 1, 1, 0, 0, 0, 0, 0, 0, 1, 0, 0, 0, 0,\n",
       "       0, 0, 0, 0, 0, 0, 0, 0, 0, 1, 0, 0, 1, 0, 0, 1, 1, 0, 0, 1, 0, 0,\n",
       "       1, 0, 0, 1, 0, 1, 0, 1, 1, 1, 0, 0, 0, 0, 0, 0, 0, 1, 0, 0, 1, 0,\n",
       "       1, 0, 0, 0, 0, 0, 0, 0, 0, 0, 1, 0, 0, 1, 0, 0, 1, 1, 0, 0, 0, 1,\n",
       "       1, 0, 1, 0, 0, 1, 1, 0, 0, 0, 1, 0, 0, 1, 0, 0, 0, 0, 0, 1, 0, 1,\n",
       "       0, 1, 1, 0, 1, 0, 0, 1, 1, 0, 0, 1, 1, 0, 0, 0, 1, 1, 1, 0, 0, 1,\n",
       "       0, 0, 1, 1, 0, 0, 0, 1, 0, 0, 0, 0, 0, 0, 1, 1, 1, 0, 0, 0, 0, 0,\n",
       "       0, 0, 1, 0], dtype=int64)"
      ]
     },
     "execution_count": 52,
     "metadata": {},
     "output_type": "execute_result"
    }
   ],
   "source": [
    "lr_clf.predict(x_test)\n",
    "y_test"
   ]
  },
  {
   "cell_type": "code",
   "execution_count": 54,
   "id": "8be1f903-9f4a-4a82-83f4-dee8698af46b",
   "metadata": {},
   "outputs": [
    {
     "name": "stdout",
     "output_type": "stream",
     "text": [
      "<class 'numpy.ndarray'>\n",
      "<class 'numpy.ndarray'>\n"
     ]
    }
   ],
   "source": [
    "print(type(y_test))\n",
    "print(type(lr_clf.predict(x_test)))"
   ]
  },
  {
   "cell_type": "code",
   "execution_count": 65,
   "id": "9a479a8a-1d36-4582-92c2-9799de24cb4e",
   "metadata": {
    "scrolled": true
   },
   "outputs": [
    {
     "name": "stdout",
     "output_type": "stream",
     "text": [
      "              precision    recall  f1-score   support\n",
      "\n",
      "     class 0       0.83      0.82      0.83       168\n",
      "     class 1       0.71      0.72      0.71       100\n",
      "\n",
      "    accuracy                           0.78       268\n",
      "   macro avg       0.77      0.77      0.77       268\n",
      "weighted avg       0.78      0.78      0.78       268\n",
      "\n"
     ]
    }
   ],
   "source": [
    "from sklearn.metrics import classification_report\n",
    "target_names = ['class 0','class 1']\n",
    "print(classification_report(y_test,lr_y_pred_test,target_names = target_names))"
   ]
  },
  {
   "cell_type": "code",
   "execution_count": 56,
   "id": "aad670d5",
   "metadata": {},
   "outputs": [
    {
     "data": {
      "image/png": "[encoded data removed]",
      "text/plain": [
       "<Figure size 432x288 with 1 Axes>"
      ]
     },
     "metadata": {
      "needs_background": "light"
     },
     "output_type": "display_data"
    }
   ],
   "source": [
    "import matplotlib.pyplot as plt\n",
    "from sklearn.metrics import roc_curve,roc_auc_score\n",
    "%matplotlib inline\n",
    "fpr, tpr, thresholds = roc_curve(y_test, lr_clf.predict_proba(x_test)[:,1],drop_intermediate=False)\n",
    "plt.xlim([0.0, 1.0])\n",
    "plt.ylim([0.0, 1.0])\n",
    "plt.title('ROC curve classifier')\n",
    "plt.xlabel('False Positive Rate (1 - Specificity)')\n",
    "plt.ylabel('True Positive Rate (Sensitivity)')\n",
    "plt.plot(fpr, tpr,color='red',lw=5)\n",
    "plt.show()"
   ]
  },
  {
   "cell_type": "code",
   "execution_count": 57,
   "id": "0e5e1f4c",
   "metadata": {
    "scrolled": true
   },
   "outputs": [
    {
     "name": "stdout",
     "output_type": "stream",
     "text": [
      "Logistic regression train roc-auc score: 0.85029608902193\n",
      "Logistic regression test roc-auc score: 0.848154761904762\n"
     ]
    }
   ],
   "source": [
    "# Logistic Regression\n",
    "lr_ytrain_pred = lr_clf.predict_proba(x_train)\n",
    "print(\"Logistic regression train roc-auc score: {}\".format(roc_auc_score(y_train,lr_ytrain_pred[:,1])))\n",
    "lr_ytest_pred = lr_clf.predict_proba(x_test)\n",
    "print(\"Logistic regression test roc-auc score: {}\".format(roc_auc_score(y_test,lr_ytest_pred[:,1])))"
   ]
  },
  {
   "cell_type": "code",
   "execution_count": 58,
   "id": "5571b108-df80-4575-83ad-a1745ea1e181",
   "metadata": {},
   "outputs": [
    {
     "name": "stdout",
     "output_type": "stream",
     "text": [
      "[[9.99998876e-01 1.12405942e-06]]\n"
     ]
    }
   ],
   "source": [
    "# To predict from a new dataset with optimize threshold\n",
    "lr_probs1 = lr_clf.predict_proba(pd.read_csv(\"E:/python1/new_data.csv\",sep = \",\",header=None))  # Predicted probability for both -ve and +ve outcome\n",
    "print(lr_probs1)"
   ]
  },
  {
   "cell_type": "code",
   "execution_count": 59,
   "id": "398f1e8a-924e-486d-903a-bdcb91897c49",
   "metadata": {},
   "outputs": [
    {
     "name": "stdout",
     "output_type": "stream",
     "text": [
      "[1.12405942e-06]\n"
     ]
    }
   ],
   "source": [
    "lr_probs1 = lr_probs1[:,1] #Probability for the positive outome is kept\n",
    "print(lr_probs1)"
   ]
  },
  {
   "cell_type": "code",
   "execution_count": 60,
   "id": "d15a3b23-cd0a-4dd5-9900-68c682713bf4",
   "metadata": {},
   "outputs": [
    {
     "data": {
      "text/plain": [
       "array([1])"
      ]
     },
     "execution_count": 60,
     "metadata": {},
     "output_type": "execute_result"
    }
   ],
   "source": [
    "import numpy as np\n",
    "lr_y_predict_new_data = np.where(lr_clf.predict_proba(pd.read_csv(\"E:/python1/new_data.csv\",sep = \",\",header=None))[:,1]>0.0000000000001,1,0) # Threshold is 0.3\n",
    "lr_y_predict_new_data"
   ]
  },
  {
   "cell_type": "code",
   "execution_count": 62,
   "id": "7b2e1573-3b59-4013-a6f4-9a7f8cd078ac",
   "metadata": {},
   "outputs": [
    {
     "data": {
      "text/plain": [
       "array([0], dtype=int64)"
      ]
     },
     "execution_count": 62,
     "metadata": {},
     "output_type": "execute_result"
    }
   ],
   "source": [
    "lr_clf.predict([[26,0,1609,86,0,1,0,0,1,0,1,0,0,1,1,0,1,0,0,1,0,0,1,1,0,0,1]])"
   ]
  },
  {
   "cell_type": "code",
   "execution_count": null,
   "id": "afe52cce-f5d6-45f1-8716-c20bf1925bf1",
   "metadata": {
    "jupyter": {
     "source_hidden": true
    },
    "tags": []
   },
   "outputs": [],
   "source": []
  },
  {
   "cell_type": "markdown",
   "id": "fd7b225e",
   "metadata": {},
   "source": [
    "# Calculating Statistical parameter for Logistic regression"
   ]
  },
  {
   "cell_type": "code",
   "execution_count": 56,
   "id": "a2e3190d",
   "metadata": {},
   "outputs": [
    {
     "name": "stdout",
     "output_type": "stream",
     "text": [
      "Optimization terminated successfully.\n",
      "         Current function value: 0.626867\n",
      "         Iterations 6\n"
     ]
    }
   ],
   "source": [
    "from statsmodels.formula.api import logit\n",
    "logistic_model = logit('Survived ~ Fare + Bloodpressure' ,data = model_data1)\n",
    "result = logistic_model.fit()"
   ]
  },
  {
   "cell_type": "code",
   "execution_count": 57,
   "id": "ebc3deaa",
   "metadata": {},
   "outputs": [
    {
     "name": "stdout",
     "output_type": "stream",
     "text": [
      "Optimization terminated successfully.\n",
      "         Current function value: 0.626867\n",
      "         Iterations 6\n"
     ]
    }
   ],
   "source": [
    "from statsmodels.formula.api import logit\n",
    "logistic_model = logit('Survived ~ Fare + Bloodpressure' ,data = model_data1)\n",
    "result = logistic_model.fit()"
   ]
  },
  {
   "cell_type": "code",
   "execution_count": 58,
   "id": "e80d1788",
   "metadata": {},
   "outputs": [
    {
     "data": {
      "text/html": [
       "<table class=\"simpletable\">\n",
       "<caption>Logit Regression Results</caption>\n",
       "<tr>\n",
       "  <th>Dep. Variable:</th>       <td>Survived</td>     <th>  No. Observations:  </th>  <td>   891</td>  \n",
       "</tr>\n",
       "<tr>\n",
       "  <th>Model:</th>                 <td>Logit</td>      <th>  Df Residuals:      </th>  <td>   888</td>  \n",
       "</tr>\n",
       "<tr>\n",
       "  <th>Method:</th>                 <td>MLE</td>       <th>  Df Model:          </th>  <td>     2</td>  \n",
       "</tr>\n",
       "<tr>\n",
       "  <th>Date:</th>            <td>Tue, 21 Dec 2021</td> <th>  Pseudo R-squ.:     </th>  <td>0.05863</td> \n",
       "</tr>\n",
       "<tr>\n",
       "  <th>Time:</th>                <td>11:28:55</td>     <th>  Log-Likelihood:    </th> <td> -558.54</td> \n",
       "</tr>\n",
       "<tr>\n",
       "  <th>converged:</th>             <td>True</td>       <th>  LL-Null:           </th> <td> -593.33</td> \n",
       "</tr>\n",
       "<tr>\n",
       "  <th>Covariance Type:</th>     <td>nonrobust</td>    <th>  LLR p-value:       </th> <td>7.788e-16</td>\n",
       "</tr>\n",
       "</table>\n",
       "<table class=\"simpletable\">\n",
       "<tr>\n",
       "        <td></td>           <th>coef</th>     <th>std err</th>      <th>z</th>      <th>P>|z|</th>  <th>[0.025</th>    <th>0.975]</th>  \n",
       "</tr>\n",
       "<tr>\n",
       "  <th>Intercept</th>     <td>   -0.8882</td> <td>    0.121</td> <td>   -7.326</td> <td> 0.000</td> <td>   -1.126</td> <td>   -0.651</td>\n",
       "</tr>\n",
       "<tr>\n",
       "  <th>Fare</th>          <td>    0.0153</td> <td>    0.002</td> <td>    6.818</td> <td> 0.000</td> <td>    0.011</td> <td>    0.020</td>\n",
       "</tr>\n",
       "<tr>\n",
       "  <th>Bloodpressure</th> <td>   -0.1011</td> <td>    0.144</td> <td>   -0.701</td> <td> 0.483</td> <td>   -0.384</td> <td>    0.182</td>\n",
       "</tr>\n",
       "</table>"
      ],
      "text/plain": [
       "<class 'statsmodels.iolib.summary.Summary'>\n",
       "\"\"\"\n",
       "                           Logit Regression Results                           \n",
       "==============================================================================\n",
       "Dep. Variable:               Survived   No. Observations:                  891\n",
       "Model:                          Logit   Df Residuals:                      888\n",
       "Method:                           MLE   Df Model:                            2\n",
       "Date:                Tue, 21 Dec 2021   Pseudo R-squ.:                 0.05863\n",
       "Time:                        11:28:55   Log-Likelihood:                -558.54\n",
       "converged:                       True   LL-Null:                       -593.33\n",
       "Covariance Type:            nonrobust   LLR p-value:                 7.788e-16\n",
       "=================================================================================\n",
       "                    coef    std err          z      P>|z|      [0.025      0.975]\n",
       "---------------------------------------------------------------------------------\n",
       "Intercept        -0.8882      0.121     -7.326      0.000      -1.126      -0.651\n",
       "Fare              0.0153      0.002      6.818      0.000       0.011       0.020\n",
       "Bloodpressure    -0.1011      0.144     -0.701      0.483      -0.384       0.182\n",
       "=================================================================================\n",
       "\"\"\""
      ]
     },
     "execution_count": 58,
     "metadata": {},
     "output_type": "execute_result"
    }
   ],
   "source": [
    "result.summary()"
   ]
  },
  {
   "cell_type": "code",
   "execution_count": 59,
   "id": "c95b8d51",
   "metadata": {},
   "outputs": [
    {
     "data": {
      "text/html": [
       "<div>\n",
       "<style scoped>\n",
       "    .dataframe tbody tr th:only-of-type {\n",
       "        vertical-align: middle;\n",
       "    }\n",
       "\n",
       "    .dataframe tbody tr th {\n",
       "        vertical-align: top;\n",
       "    }\n",
       "\n",
       "    .dataframe thead th {\n",
       "        text-align: right;\n",
       "    }\n",
       "</style>\n",
       "<table border=\"1\" class=\"dataframe\">\n",
       "  <thead>\n",
       "    <tr style=\"text-align: right;\">\n",
       "      <th></th>\n",
       "      <th>0</th>\n",
       "      <th>1</th>\n",
       "    </tr>\n",
       "  </thead>\n",
       "  <tbody>\n",
       "    <tr>\n",
       "      <th>Intercept</th>\n",
       "      <td>-1.125752</td>\n",
       "      <td>-0.650551</td>\n",
       "    </tr>\n",
       "    <tr>\n",
       "      <th>Fare</th>\n",
       "      <td>0.010890</td>\n",
       "      <td>0.019677</td>\n",
       "    </tr>\n",
       "    <tr>\n",
       "      <th>Bloodpressure</th>\n",
       "      <td>-0.383745</td>\n",
       "      <td>0.181517</td>\n",
       "    </tr>\n",
       "  </tbody>\n",
       "</table>\n",
       "</div>"
      ],
      "text/plain": [
       "                      0         1\n",
       "Intercept     -1.125752 -0.650551\n",
       "Fare           0.010890  0.019677\n",
       "Bloodpressure -0.383745  0.181517"
      ]
     },
     "execution_count": 59,
     "metadata": {},
     "output_type": "execute_result"
    }
   ],
   "source": [
    "result.conf_int()"
   ]
  },
  {
   "cell_type": "code",
   "execution_count": 60,
   "id": "4e466ef6",
   "metadata": {},
   "outputs": [
    {
     "data": {
      "text/plain": [
       "Intercept       -0.888151\n",
       "Fare             0.015283\n",
       "Bloodpressure   -0.101114\n",
       "dtype: float64"
      ]
     },
     "execution_count": 60,
     "metadata": {},
     "output_type": "execute_result"
    }
   ],
   "source": [
    "result.params"
   ]
  },
  {
   "cell_type": "markdown",
   "id": "37e9b302",
   "metadata": {},
   "source": [
    "# Build a Support Vector machinne(SVM) classifier"
   ]
  },
  {
   "cell_type": "code",
   "execution_count": 61,
   "id": "935f1229",
   "metadata": {},
   "outputs": [
    {
     "data": {
      "text/plain": [
       "SVC(probability=True)"
      ]
     },
     "execution_count": 61,
     "metadata": {},
     "output_type": "execute_result"
    }
   ],
   "source": [
    "from sklearn.svm import SVC\n",
    "#sv_clf = SVC(probability = True, kernel = 'linear')\n",
    "sv_clf = SVC(probability = True)\n",
    "sv_clf.fit(x_train,y_train)"
   ]
  },
  {
   "cell_type": "code",
   "execution_count": 62,
   "id": "3734bc8f",
   "metadata": {},
   "outputs": [
    {
     "name": "stdout",
     "output_type": "stream",
     "text": [
      "Model score on training data is  0.6500802568218299\n",
      "Model score on testing data is  0.7052238805970149\n"
     ]
    }
   ],
   "source": [
    "print(\"Model score on training data is \",sv_clf.score(x_train, y_train))\n",
    "print(\"Model score on testing data is \",sv_clf.score(x_test, y_test))"
   ]
  },
  {
   "cell_type": "code",
   "execution_count": 63,
   "id": "15d9c676",
   "metadata": {},
   "outputs": [
    {
     "name": "stdout",
     "output_type": "stream",
     "text": [
      "sv train roc-auc: 0.6917637361445521\n",
      "sv test roc-auc: 0.7307142857142856\n"
     ]
    }
   ],
   "source": [
    "# Support Vector machinne\n",
    "sv_ytrain_pred = sv_clf.predict_proba(x_train)\n",
    "print(\"sv train roc-auc: {}\".format(roc_auc_score(y_train,sv_ytrain_pred[:,1])))\n",
    "sv_ytest_pred = sv_clf.predict_proba(x_test)\n",
    "print(\"sv test roc-auc: {}\".format(roc_auc_score(y_test,sv_ytest_pred[:,1])))"
   ]
  },
  {
   "cell_type": "markdown",
   "id": "24c5e82e",
   "metadata": {},
   "source": [
    "# Prediction Probabilities"
   ]
  },
  {
   "cell_type": "code",
   "execution_count": 64,
   "id": "fc851bdc",
   "metadata": {},
   "outputs": [],
   "source": [
    "rf_probs = rf_clf.predict_proba(x_test)\n",
    "gb_probs = gb_clf.predict_proba(x_test)\n",
    "nb_probs = nb_clf.predict_proba(x_test)\n",
    "knn_probs = knn_clf.predict_proba(x_test)\n",
    "lr_probs = lr_clf.predict_proba(x_test)\n",
    "sv_probs = sv_clf.predict_proba(x_test)"
   ]
  },
  {
   "cell_type": "code",
   "execution_count": 65,
   "id": "498a4001",
   "metadata": {
    "collapsed": true,
    "jupyter": {
     "outputs_hidden": true
    }
   },
   "outputs": [
    {
     "name": "stdout",
     "output_type": "stream",
     "text": [
      "[[0.7  0.3 ]\n",
      " [0.94 0.06]\n",
      " [0.91 0.09]\n",
      " [0.08 0.92]\n",
      " [0.21 0.79]\n",
      " [0.59 0.41]\n",
      " [0.06 0.94]\n",
      " [0.17 0.83]\n",
      " [0.39 0.61]\n",
      " [0.52 0.48]\n",
      " [0.62 0.38]\n",
      " [0.22 0.78]\n",
      " [0.82 0.18]\n",
      " [0.35 0.65]\n",
      " [0.07 0.93]\n",
      " [0.51 0.49]\n",
      " [0.84 0.16]\n",
      " [0.31 0.69]\n",
      " [0.87 0.13]\n",
      " [0.64 0.36]\n",
      " [0.87 0.13]\n",
      " [0.18 0.82]\n",
      " [0.76 0.24]\n",
      " [0.81 0.19]\n",
      " [0.35 0.65]\n",
      " [0.13 0.87]\n",
      " [0.94 0.06]\n",
      " [0.38 0.62]\n",
      " [0.14 0.86]\n",
      " [0.8  0.2 ]\n",
      " [0.82 0.18]\n",
      " [0.34 0.66]\n",
      " [0.92 0.08]\n",
      " [0.73 0.27]\n",
      " [0.79 0.21]\n",
      " [0.63 0.37]\n",
      " [0.9  0.1 ]\n",
      " [0.63 0.37]\n",
      " [0.64 0.36]\n",
      " [0.95 0.05]\n",
      " [0.52 0.48]\n",
      " [0.76 0.24]\n",
      " [0.69 0.31]\n",
      " [0.89 0.11]\n",
      " [0.07 0.93]\n",
      " [0.82 0.18]\n",
      " [0.79 0.21]\n",
      " [0.26 0.74]\n",
      " [0.69 0.31]\n",
      " [0.61 0.39]\n",
      " [0.37 0.63]\n",
      " [0.68 0.32]\n",
      " [0.18 0.82]\n",
      " [0.91 0.09]\n",
      " [0.53 0.47]\n",
      " [0.85 0.15]\n",
      " [0.58 0.42]\n",
      " [0.82 0.18]\n",
      " [0.9  0.1 ]\n",
      " [0.83 0.17]\n",
      " [0.83 0.17]\n",
      " [0.4  0.6 ]\n",
      " [0.08 0.92]\n",
      " [0.81 0.19]\n",
      " [0.44 0.56]\n",
      " [0.96 0.04]\n",
      " [0.15 0.85]\n",
      " [0.47 0.53]\n",
      " [0.25 0.75]\n",
      " [0.09 0.91]\n",
      " [0.23 0.77]\n",
      " [0.38 0.62]\n",
      " [0.31 0.69]\n",
      " [0.71 0.29]\n",
      " [0.73 0.27]\n",
      " [0.45 0.55]\n",
      " [0.56 0.44]\n",
      " [0.77 0.23]\n",
      " [0.81 0.19]\n",
      " [0.62 0.38]\n",
      " [0.83 0.17]\n",
      " [0.68 0.32]\n",
      " [0.09 0.91]\n",
      " [0.85 0.15]\n",
      " [0.87 0.13]\n",
      " [0.1  0.9 ]\n",
      " [0.09 0.91]\n",
      " [0.45 0.55]\n",
      " [0.52 0.48]\n",
      " [0.52 0.48]\n",
      " [0.72 0.28]\n",
      " [0.89 0.11]\n",
      " [0.47 0.53]\n",
      " [0.12 0.88]\n",
      " [0.73 0.27]\n",
      " [0.9  0.1 ]\n",
      " [0.31 0.69]\n",
      " [0.84 0.16]\n",
      " [0.45 0.55]\n",
      " [0.6  0.4 ]\n",
      " [0.92 0.08]\n",
      " [0.7  0.3 ]\n",
      " [0.63 0.37]\n",
      " [0.83 0.17]\n",
      " [0.66 0.34]\n",
      " [0.49 0.51]\n",
      " [0.07 0.93]\n",
      " [0.61 0.39]\n",
      " [0.75 0.25]\n",
      " [0.52 0.48]\n",
      " [0.92 0.08]\n",
      " [0.24 0.76]\n",
      " [0.67 0.33]\n",
      " [0.65 0.35]\n",
      " [0.51 0.49]\n",
      " [0.27 0.73]\n",
      " [0.36 0.64]\n",
      " [0.2  0.8 ]\n",
      " [0.7  0.3 ]\n",
      " [0.25 0.75]\n",
      " [0.72 0.28]\n",
      " [0.78 0.22]\n",
      " [0.76 0.24]\n",
      " [0.75 0.25]\n",
      " [0.86 0.14]\n",
      " [0.65 0.35]\n",
      " [0.88 0.12]\n",
      " [0.81 0.19]\n",
      " [0.85 0.15]\n",
      " [0.88 0.12]\n",
      " [0.12 0.88]\n",
      " [0.95 0.05]\n",
      " [0.9  0.1 ]\n",
      " [0.61 0.39]\n",
      " [0.51 0.49]\n",
      " [0.89 0.11]\n",
      " [0.82 0.18]\n",
      " [0.54 0.46]\n",
      " [0.86 0.14]\n",
      " [0.92 0.08]\n",
      " [0.92 0.08]\n",
      " [0.11 0.89]\n",
      " [0.95 0.05]\n",
      " [0.3  0.7 ]\n",
      " [0.2  0.8 ]\n",
      " [0.54 0.46]\n",
      " [0.84 0.16]\n",
      " [0.12 0.88]\n",
      " [0.12 0.88]\n",
      " [0.73 0.27]\n",
      " [0.6  0.4 ]\n",
      " [0.21 0.79]\n",
      " [0.35 0.65]\n",
      " [0.57 0.43]\n",
      " [0.28 0.72]\n",
      " [0.91 0.09]\n",
      " [0.3  0.7 ]\n",
      " [0.82 0.18]\n",
      " [0.19 0.81]\n",
      " [0.24 0.76]\n",
      " [0.89 0.11]\n",
      " [0.82 0.18]\n",
      " [0.06 0.94]\n",
      " [0.63 0.37]\n",
      " [0.55 0.45]\n",
      " [0.86 0.14]\n",
      " [0.94 0.06]\n",
      " [0.9  0.1 ]\n",
      " [0.93 0.07]\n",
      " [0.92 0.08]\n",
      " [0.96 0.04]\n",
      " [0.08 0.92]\n",
      " [0.95 0.05]\n",
      " [0.8  0.2 ]\n",
      " [0.47 0.53]\n",
      " [0.67 0.33]\n",
      " [0.12 0.88]\n",
      " [0.82 0.18]\n",
      " [0.88 0.12]\n",
      " [0.25 0.75]\n",
      " [0.49 0.51]\n",
      " [0.39 0.61]\n",
      " [0.8  0.2 ]\n",
      " [0.88 0.12]\n",
      " [0.62 0.38]\n",
      " [0.85 0.15]\n",
      " [0.24 0.76]\n",
      " [0.84 0.16]\n",
      " [0.84 0.16]\n",
      " [0.18 0.82]\n",
      " [0.56 0.44]\n",
      " [0.68 0.32]\n",
      " [0.51 0.49]\n",
      " [0.15 0.85]\n",
      " [0.81 0.19]\n",
      " [0.66 0.34]\n",
      " [0.77 0.23]\n",
      " [0.5  0.5 ]\n",
      " [0.68 0.32]\n",
      " [0.89 0.11]\n",
      " [0.92 0.08]\n",
      " [0.49 0.51]\n",
      " [0.89 0.11]\n",
      " [0.37 0.63]\n",
      " [0.93 0.07]\n",
      " [0.62 0.38]\n",
      " [0.4  0.6 ]\n",
      " [0.74 0.26]\n",
      " [0.17 0.83]\n",
      " [0.79 0.21]\n",
      " [0.79 0.21]\n",
      " [0.65 0.35]\n",
      " [0.92 0.08]\n",
      " [0.3  0.7 ]\n",
      " [0.9  0.1 ]\n",
      " [0.89 0.11]\n",
      " [0.38 0.62]\n",
      " [0.84 0.16]\n",
      " [0.65 0.35]\n",
      " [0.07 0.93]\n",
      " [0.9  0.1 ]\n",
      " [0.29 0.71]\n",
      " [0.47 0.53]\n",
      " [0.94 0.06]\n",
      " [0.71 0.29]\n",
      " [0.83 0.17]\n",
      " [0.75 0.25]\n",
      " [0.56 0.44]\n",
      " [0.94 0.06]\n",
      " [0.67 0.33]\n",
      " [0.82 0.18]\n",
      " [0.18 0.82]\n",
      " [0.51 0.49]\n",
      " [0.31 0.69]\n",
      " [0.51 0.49]\n",
      " [0.87 0.13]\n",
      " [0.13 0.87]\n",
      " [0.1  0.9 ]\n",
      " [0.16 0.84]\n",
      " [0.86 0.14]\n",
      " [0.9  0.1 ]\n",
      " [0.12 0.88]\n",
      " [0.95 0.05]\n",
      " [0.91 0.09]\n",
      " [0.22 0.78]\n",
      " [0.36 0.64]\n",
      " [0.11 0.89]\n",
      " [0.7  0.3 ]\n",
      " [0.86 0.14]\n",
      " [0.47 0.53]\n",
      " [0.94 0.06]\n",
      " [0.87 0.13]\n",
      " [0.35 0.65]\n",
      " [0.77 0.23]\n",
      " [0.7  0.3 ]\n",
      " [0.49 0.51]\n",
      " [0.09 0.91]\n",
      " [0.69 0.31]\n",
      " [0.97 0.03]\n",
      " [0.73 0.27]\n",
      " [0.77 0.23]\n",
      " [0.71 0.29]\n",
      " [0.7  0.3 ]\n",
      " [0.81 0.19]\n",
      " [0.91 0.09]\n",
      " [0.6  0.4 ]\n",
      " [0.48 0.52]\n",
      " [0.59 0.41]]\n",
      "[[0.79339508 0.20660492]\n",
      " [0.94950955 0.05049045]\n",
      " [0.93204391 0.06795609]\n",
      " [0.06836527 0.93163473]\n",
      " [0.31472505 0.68527495]\n",
      " [0.61732249 0.38267751]\n",
      " [0.10059642 0.89940358]\n",
      " [0.25763852 0.74236148]\n",
      " [0.49682621 0.50317379]\n",
      " [0.19611708 0.80388292]\n",
      " [0.91014586 0.08985414]\n",
      " [0.12787319 0.87212681]\n",
      " [0.69661312 0.30338688]\n",
      " [0.08166836 0.91833164]\n",
      " [0.03095823 0.96904177]\n",
      " [0.30987201 0.69012799]\n",
      " [0.86514084 0.13485916]\n",
      " [0.43481915 0.56518085]\n",
      " [0.94138723 0.05861277]\n",
      " [0.74220956 0.25779044]\n",
      " [0.89876797 0.10123203]\n",
      " [0.60619833 0.39380167]\n",
      " [0.94268457 0.05731543]\n",
      " [0.79919921 0.20080079]\n",
      " [0.31368885 0.68631115]\n",
      " [0.34044975 0.65955025]\n",
      " [0.88911438 0.11088562]\n",
      " [0.40276446 0.59723554]\n",
      " [0.09721827 0.90278173]\n",
      " [0.82001137 0.17998863]\n",
      " [0.81406336 0.18593664]\n",
      " [0.12375571 0.87624429]\n",
      " [0.94137046 0.05862954]\n",
      " [0.81660544 0.18339456]\n",
      " [0.92648245 0.07351755]\n",
      " [0.57680928 0.42319072]\n",
      " [0.95454862 0.04545138]\n",
      " [0.75989339 0.24010661]\n",
      " [0.8213656  0.1786344 ]\n",
      " [0.92186706 0.07813294]\n",
      " [0.75625796 0.24374204]\n",
      " [0.90731839 0.09268161]\n",
      " [0.70398746 0.29601254]\n",
      " [0.97791902 0.02208098]\n",
      " [0.02496099 0.97503901]\n",
      " [0.74046317 0.25953683]\n",
      " [0.89073764 0.10926236]\n",
      " [0.17515269 0.82484731]\n",
      " [0.82812061 0.17187939]\n",
      " [0.52804221 0.47195779]\n",
      " [0.36230415 0.63769585]\n",
      " [0.68882168 0.31117832]\n",
      " [0.18041058 0.81958942]\n",
      " [0.7679262  0.2320738 ]\n",
      " [0.63801266 0.36198734]\n",
      " [0.89943919 0.10056081]\n",
      " [0.46031753 0.53968247]\n",
      " [0.91401498 0.08598502]\n",
      " [0.97832365 0.02167635]\n",
      " [0.87965725 0.12034275]\n",
      " [0.91282265 0.08717735]\n",
      " [0.66410362 0.33589638]\n",
      " [0.08144005 0.91855995]\n",
      " [0.75516984 0.24483016]\n",
      " [0.66551076 0.33448924]\n",
      " [0.90864115 0.09135885]\n",
      " [0.08238695 0.91761305]\n",
      " [0.59961391 0.40038609]\n",
      " [0.13831163 0.86168837]\n",
      " [0.04802334 0.95197666]\n",
      " [0.12776079 0.87223921]\n",
      " [0.7117438  0.2882562 ]\n",
      " [0.42322051 0.57677949]\n",
      " [0.65978926 0.34021074]\n",
      " [0.68516311 0.31483689]\n",
      " [0.46613982 0.53386018]\n",
      " [0.70967874 0.29032126]\n",
      " [0.62139826 0.37860174]\n",
      " [0.96024843 0.03975157]\n",
      " [0.8899016  0.1100984 ]\n",
      " [0.8937016  0.1062984 ]\n",
      " [0.71841008 0.28158992]\n",
      " [0.11010166 0.88989834]\n",
      " [0.90875354 0.09124646]\n",
      " [0.82078202 0.17921798]\n",
      " [0.06302879 0.93697121]\n",
      " [0.11454143 0.88545857]\n",
      " [0.36650568 0.63349432]\n",
      " [0.19741695 0.80258305]\n",
      " [0.50107891 0.49892109]\n",
      " [0.87892456 0.12107544]\n",
      " [0.88636941 0.11363059]\n",
      " [0.51949916 0.48050084]\n",
      " [0.07397891 0.92602109]\n",
      " [0.84938412 0.15061588]\n",
      " [0.91750801 0.08249199]\n",
      " [0.15147975 0.84852025]\n",
      " [0.96140795 0.03859205]\n",
      " [0.24478762 0.75521238]\n",
      " [0.54428521 0.45571479]\n",
      " [0.90685396 0.09314604]\n",
      " [0.60576001 0.39423999]\n",
      " [0.79039899 0.20960101]\n",
      " [0.77154745 0.22845255]\n",
      " [0.78876098 0.21123902]\n",
      " [0.51919693 0.48080307]\n",
      " [0.06862821 0.93137179]\n",
      " [0.56672439 0.43327561]\n",
      " [0.81415507 0.18584493]\n",
      " [0.46934065 0.53065935]\n",
      " [0.8778076  0.1221924 ]\n",
      " [0.04678458 0.95321542]\n",
      " [0.69436403 0.30563597]\n",
      " [0.41688594 0.58311406]\n",
      " [0.7826813  0.2173187 ]\n",
      " [0.13635431 0.86364569]\n",
      " [0.41080668 0.58919332]\n",
      " [0.09761338 0.90238662]\n",
      " [0.79528859 0.20471141]\n",
      " [0.09377548 0.90622452]\n",
      " [0.79614623 0.20385377]\n",
      " [0.83818775 0.16181225]\n",
      " [0.94275892 0.05724108]\n",
      " [0.92894064 0.07105936]\n",
      " [0.86514084 0.13485916]\n",
      " [0.80783392 0.19216608]\n",
      " [0.94135271 0.05864729]\n",
      " [0.75743093 0.24256907]\n",
      " [0.94077786 0.05922214]\n",
      " [0.82812061 0.17187939]\n",
      " [0.12479124 0.87520876]\n",
      " [0.87516671 0.12483329]\n",
      " [0.91174844 0.08825156]\n",
      " [0.48873877 0.51126123]\n",
      " [0.80388652 0.19611348]\n",
      " [0.9281743  0.0718257 ]\n",
      " [0.85393954 0.14606046]\n",
      " [0.74224389 0.25775611]\n",
      " [0.85200493 0.14799507]\n",
      " [0.85221683 0.14778317]\n",
      " [0.81226691 0.18773309]\n",
      " [0.02160646 0.97839354]\n",
      " [0.94936522 0.05063478]\n",
      " [0.13889984 0.86110016]\n",
      " [0.12580067 0.87419933]\n",
      " [0.61315429 0.38684571]\n",
      " [0.83640533 0.16359467]\n",
      " [0.11955437 0.88044563]\n",
      " [0.03716215 0.96283785]\n",
      " [0.79364307 0.20635693]\n",
      " [0.32809958 0.67190042]\n",
      " [0.23596048 0.76403952]\n",
      " [0.34190982 0.65809018]\n",
      " [0.93990807 0.06009193]\n",
      " [0.04124586 0.95875414]\n",
      " [0.81226691 0.18773309]\n",
      " [0.38904055 0.61095945]\n",
      " [0.84073807 0.15926193]\n",
      " [0.18549012 0.81450988]\n",
      " [0.29386518 0.70613482]\n",
      " [0.87655746 0.12344254]\n",
      " [0.91750801 0.08249199]\n",
      " [0.04208672 0.95791328]\n",
      " [0.88866691 0.11133309]\n",
      " [0.52144452 0.47855548]\n",
      " [0.87154548 0.12845452]\n",
      " [0.96832685 0.03167315]\n",
      " [0.8778076  0.1221924 ]\n",
      " [0.88636941 0.11363059]\n",
      " [0.887847   0.112153  ]\n",
      " [0.85209192 0.14790808]\n",
      " [0.07408741 0.92591259]\n",
      " [0.91960301 0.08039699]\n",
      " [0.88969409 0.11030591]\n",
      " [0.37996106 0.62003894]\n",
      " [0.65978926 0.34021074]\n",
      " [0.10921205 0.89078795]\n",
      " [0.86766468 0.13233532]\n",
      " [0.94936522 0.05063478]\n",
      " [0.33107631 0.66892369]\n",
      " [0.75989339 0.24010661]\n",
      " [0.35955393 0.64044607]\n",
      " [0.9650897  0.0349103 ]\n",
      " [0.91960301 0.08039699]\n",
      " [0.74254539 0.25745461]\n",
      " [0.66512954 0.33487046]\n",
      " [0.25888219 0.74111781]\n",
      " [0.924673   0.075327  ]\n",
      " [0.88795631 0.11204369]\n",
      " [0.09415605 0.90584395]\n",
      " [0.57533162 0.42466838]\n",
      " [0.76384962 0.23615038]\n",
      " [0.13807378 0.86192622]\n",
      " [0.16354397 0.83645603]\n",
      " [0.84451632 0.15548368]\n",
      " [0.75138342 0.24861658]\n",
      " [0.88455303 0.11544697]\n",
      " [0.79668849 0.20331151]\n",
      " [0.39152223 0.60847777]\n",
      " [0.96013829 0.03986171]\n",
      " [0.94457265 0.05542735]\n",
      " [0.32016703 0.67983297]\n",
      " [0.87621468 0.12378532]\n",
      " [0.21922866 0.78077134]\n",
      " [0.86324029 0.13675971]\n",
      " [0.74803547 0.25196453]\n",
      " [0.4449511  0.5550489 ]\n",
      " [0.68516311 0.31483689]\n",
      " [0.1649763  0.8350237 ]\n",
      " [0.80696903 0.19303097]\n",
      " [0.92338882 0.07661118]\n",
      " [0.4656034  0.5343966 ]\n",
      " [0.95575119 0.04424881]\n",
      " [0.34464787 0.65535213]\n",
      " [0.84073807 0.15926193]\n",
      " [0.88911438 0.11088562]\n",
      " [0.68099464 0.31900536]\n",
      " [0.84755275 0.15244725]\n",
      " [0.62600619 0.37399381]\n",
      " [0.02010083 0.97989917]\n",
      " [0.94240094 0.05759906]\n",
      " [0.21220917 0.78779083]\n",
      " [0.50168383 0.49831617]\n",
      " [0.89780691 0.10219309]\n",
      " [0.87719806 0.12280194]\n",
      " [0.80217584 0.19782416]\n",
      " [0.94174176 0.05825824]\n",
      " [0.18748343 0.81251657]\n",
      " [0.97681856 0.02318144]\n",
      " [0.64599735 0.35400265]\n",
      " [0.85803935 0.14196065]\n",
      " [0.17404624 0.82595376]\n",
      " [0.41588116 0.58411884]\n",
      " [0.41722291 0.58277709]\n",
      " [0.8390256  0.1609744 ]\n",
      " [0.81482905 0.18517095]\n",
      " [0.03008736 0.96991264]\n",
      " [0.07223295 0.92776705]\n",
      " [0.04648758 0.95351242]\n",
      " [0.96082462 0.03917538]\n",
      " [0.91278854 0.08721146]\n",
      " [0.04144917 0.95855083]\n",
      " [0.90031631 0.09968369]\n",
      " [0.83606176 0.16393824]\n",
      " [0.08270518 0.91729482]\n",
      " [0.72806648 0.27193352]\n",
      " [0.14433759 0.85566241]\n",
      " [0.68276561 0.31723439]\n",
      " [0.86514084 0.13485916]\n",
      " [0.44506053 0.55493947]\n",
      " [0.89780691 0.10219309]\n",
      " [0.84267914 0.15732086]\n",
      " [0.34979897 0.65020103]\n",
      " [0.87399022 0.12600978]\n",
      " [0.64029302 0.35970698]\n",
      " [0.6253465  0.3746535 ]\n",
      " [0.15163719 0.84836281]\n",
      " [0.92173382 0.07826618]\n",
      " [0.94564119 0.05435881]\n",
      " [0.87145125 0.12854875]\n",
      " [0.84303203 0.15696797]\n",
      " [0.60023772 0.39976228]\n",
      " [0.87362047 0.12637953]\n",
      " [0.93141986 0.06858014]\n",
      " [0.95554425 0.04445575]\n",
      " [0.8722693  0.1277307 ]\n",
      " [0.69703002 0.30296998]\n",
      " [0.61063654 0.38936346]]\n",
      "[[6.15905931e-04 9.99384094e-01]\n",
      " [1.22388603e-02 9.87761140e-01]\n",
      " [1.00000000e+00 1.18364481e-40]\n",
      " [3.28860132e-10 1.00000000e+00]\n",
      " [1.02853967e-06 9.99998971e-01]\n",
      " [2.01496083e-03 9.97985039e-01]\n",
      " [1.13939154e-07 9.99999886e-01]\n",
      " [1.40434185e-09 9.99999999e-01]\n",
      " [1.06433038e-06 9.99998936e-01]\n",
      " [1.78493567e-05 9.99982151e-01]\n",
      " [1.72406790e-03 9.98275932e-01]\n",
      " [2.33481101e-04 9.99766519e-01]\n",
      " [3.11183775e-03 9.96888162e-01]\n",
      " [1.72419250e-05 9.99982758e-01]\n",
      " [3.20283662e-07 9.99999680e-01]\n",
      " [6.77442456e-04 9.99322558e-01]\n",
      " [1.16080156e-02 9.88391984e-01]\n",
      " [2.81464588e-05 9.99971854e-01]\n",
      " [2.78466645e-02 9.72153335e-01]\n",
      " [2.77164659e-05 9.99972284e-01]\n",
      " [7.55149343e-03 9.92448507e-01]\n",
      " [1.78393120e-07 9.99999822e-01]\n",
      " [3.08143444e-03 9.96918566e-01]\n",
      " [2.39739030e-03 9.97602610e-01]\n",
      " [7.40034683e-04 9.99259965e-01]\n",
      " [5.67686266e-11 1.00000000e+00]\n",
      " [2.67665850e-02 9.73233415e-01]\n",
      " [5.69159121e-04 9.99430841e-01]\n",
      " [2.93854369e-06 9.99997061e-01]\n",
      " [1.00000000e+00 6.14260902e-12]\n",
      " [1.09672397e-03 9.98903276e-01]\n",
      " [1.10408176e-04 9.99889592e-01]\n",
      " [2.08843748e-02 9.79115625e-01]\n",
      " [4.05209315e-03 9.95947907e-01]\n",
      " [1.67640565e-03 9.98323594e-01]\n",
      " [4.57966179e-05 9.99954203e-01]\n",
      " [1.68423726e-02 9.83157627e-01]\n",
      " [6.16928030e-03 9.93830720e-01]\n",
      " [6.71263614e-03 9.93287364e-01]\n",
      " [1.51277505e-02 9.84872249e-01]\n",
      " [1.14620821e-07 9.99999885e-01]\n",
      " [5.18476434e-04 9.99481524e-01]\n",
      " [1.50441554e-02 9.84955845e-01]\n",
      " [1.00000000e+00 2.21509045e-41]\n",
      " [1.14748542e-06 9.99998853e-01]\n",
      " [1.19489765e-02 9.88051024e-01]\n",
      " [1.16871750e-02 9.88312825e-01]\n",
      " [1.07439628e-17 1.00000000e+00]\n",
      " [5.81752887e-03 9.94182471e-01]\n",
      " [1.77838650e-06 9.99998222e-01]\n",
      " [1.63068048e-03 9.98369320e-01]\n",
      " [6.98084032e-07 9.99999302e-01]\n",
      " [5.43045158e-07 9.99999457e-01]\n",
      " [1.78234411e-02 9.82176559e-01]\n",
      " [8.69163245e-05 9.99913084e-01]\n",
      " [6.83284694e-05 9.99931672e-01]\n",
      " [1.38591899e-03 9.98614081e-01]\n",
      " [1.00000000e+00 2.39507879e-40]\n",
      " [1.00000000e+00 1.21979082e-13]\n",
      " [1.21498953e-04 9.99878501e-01]\n",
      " [7.16712724e-04 9.99283287e-01]\n",
      " [1.00000000e+00 0.00000000e+00]\n",
      " [7.93494199e-08 9.99999921e-01]\n",
      " [5.21459125e-05 9.99947854e-01]\n",
      " [3.09196626e-05 9.99969080e-01]\n",
      " [2.63579028e-03 9.97364210e-01]\n",
      " [4.20382197e-05 9.99957962e-01]\n",
      " [2.95842183e-04 9.99704158e-01]\n",
      " [1.01278035e-06 9.99998987e-01]\n",
      " [4.47677626e-05 9.99955232e-01]\n",
      " [1.74852560e-05 9.99982515e-01]\n",
      " [1.75210627e-04 9.99824789e-01]\n",
      " [1.89269609e-06 9.99998107e-01]\n",
      " [2.02131978e-02 9.79786802e-01]\n",
      " [1.24326561e-02 9.87567344e-01]\n",
      " [1.00000000e+00 8.29893725e-13]\n",
      " [9.99625182e-01 3.74817998e-04]\n",
      " [7.42508017e-05 9.99925749e-01]\n",
      " [1.83017921e-02 9.81698208e-01]\n",
      " [4.59089323e-04 9.99540911e-01]\n",
      " [5.89211758e-04 9.99410788e-01]\n",
      " [4.46459760e-05 9.99955354e-01]\n",
      " [9.64538290e-07 9.99999035e-01]\n",
      " [2.94670340e-02 9.70532966e-01]\n",
      " [1.15846191e-02 9.88415381e-01]\n",
      " [9.30185395e-06 9.99990698e-01]\n",
      " [4.77223988e-13 1.00000000e+00]\n",
      " [4.29150229e-04 9.99570850e-01]\n",
      " [1.55268912e-04 9.99844731e-01]\n",
      " [7.03760808e-07 9.99999296e-01]\n",
      " [1.76906621e-03 9.98230934e-01]\n",
      " [1.64639764e-02 9.83536024e-01]\n",
      " [4.29455315e-05 9.99957054e-01]\n",
      " [3.97329776e-08 9.99999960e-01]\n",
      " [1.00000000e+00 4.86693913e-12]\n",
      " [1.05300599e-03 9.98946994e-01]\n",
      " [1.46283225e-05 9.99985372e-01]\n",
      " [1.00000000e+00 2.06804593e-41]\n",
      " [1.96311356e-03 9.98036886e-01]\n",
      " [1.79514281e-05 9.99982049e-01]\n",
      " [1.00000000e+00 0.00000000e+00]\n",
      " [4.73716480e-04 9.99526284e-01]\n",
      " [1.49824504e-02 9.85017550e-01]\n",
      " [5.63313942e-05 9.99943669e-01]\n",
      " [1.27211315e-06 9.99998728e-01]\n",
      " [1.33827758e-06 9.99998662e-01]\n",
      " [1.32216532e-04 9.99867783e-01]\n",
      " [1.00000000e+00 6.82762076e-22]\n",
      " [7.82950980e-04 9.99217049e-01]\n",
      " [1.96262356e-05 9.99980374e-01]\n",
      " [2.15318474e-02 9.78468153e-01]\n",
      " [8.60950773e-07 9.99999139e-01]\n",
      " [1.28864787e-02 9.87113521e-01]\n",
      " [6.37592556e-04 9.99362407e-01]\n",
      " [4.85431295e-07 9.99999515e-01]\n",
      " [1.42645082e-04 9.99857355e-01]\n",
      " [4.61373939e-05 9.99953863e-01]\n",
      " [5.73550810e-14 1.00000000e+00]\n",
      " [1.17347889e-02 9.88265211e-01]\n",
      " [3.89799943e-07 9.99999610e-01]\n",
      " [7.77505543e-03 9.92224945e-01]\n",
      " [4.26092311e-03 9.95739077e-01]\n",
      " [2.01844190e-02 9.79815581e-01]\n",
      " [1.47113962e-03 9.98528860e-01]\n",
      " [1.41177549e-02 9.85882245e-01]\n",
      " [1.17204488e-04 9.99882796e-01]\n",
      " [1.18478206e-03 9.98815218e-01]\n",
      " [2.18323274e-03 9.97816767e-01]\n",
      " [6.16736079e-03 9.93832639e-01]\n",
      " [6.36155387e-03 9.93638446e-01]\n",
      " [4.94513630e-05 9.99950549e-01]\n",
      " [1.19926521e-02 9.88007348e-01]\n",
      " [1.63958973e-02 9.83604103e-01]\n",
      " [2.78165840e-05 9.99972183e-01]\n",
      " [2.02539134e-03 9.97974609e-01]\n",
      " [2.77111240e-02 9.72288876e-01]\n",
      " [3.27604962e-04 9.99672395e-01]\n",
      " [6.98499498e-05 9.99930150e-01]\n",
      " [4.09886908e-04 9.99590113e-01]\n",
      " [5.22140653e-03 9.94778593e-01]\n",
      " [8.19482613e-03 9.91805174e-01]\n",
      " [9.82352315e-08 9.99999902e-01]\n",
      " [1.47054477e-02 9.85294552e-01]\n",
      " [5.22354365e-05 9.99947765e-01]\n",
      " [2.05168282e-04 9.99794832e-01]\n",
      " [9.10524369e-04 9.99089476e-01]\n",
      " [6.59458340e-03 9.93405417e-01]\n",
      " [2.25002768e-05 9.99977500e-01]\n",
      " [7.59354276e-16 1.00000000e+00]\n",
      " [9.13508041e-03 9.90864920e-01]\n",
      " [5.77088274e-05 9.99942291e-01]\n",
      " [3.27617475e-04 9.99672383e-01]\n",
      " [4.50257182e-04 9.99549743e-01]\n",
      " [1.58986096e-02 9.84101390e-01]\n",
      " [8.60331682e-06 9.99991397e-01]\n",
      " [1.06243034e-02 9.89375697e-01]\n",
      " [4.75369097e-07 9.99999525e-01]\n",
      " [4.80991778e-03 9.95190082e-01]\n",
      " [8.19074427e-05 9.99918093e-01]\n",
      " [2.03597594e-08 9.99999980e-01]\n",
      " [1.47659302e-02 9.85234070e-01]\n",
      " [6.43635626e-04 9.99356364e-01]\n",
      " [9.69084690e-08 9.99999903e-01]\n",
      " [1.00000000e+00 3.51092721e-13]\n",
      " [1.56648747e-06 9.99998434e-01]\n",
      " [2.17755483e-02 9.78224452e-01]\n",
      " [1.39869277e-02 9.86013072e-01]\n",
      " [1.18858739e-02 9.88114126e-01]\n",
      " [1.33198984e-02 9.86680102e-01]\n",
      " [1.19611131e-02 9.88038887e-01]\n",
      " [1.48276192e-02 9.85172381e-01]\n",
      " [6.17198017e-08 9.99999938e-01]\n",
      " [2.37277564e-02 9.76272244e-01]\n",
      " [1.06030293e-02 9.89396971e-01]\n",
      " [1.27339194e-05 9.99987266e-01]\n",
      " [8.19639821e-03 9.91803602e-01]\n",
      " [7.52562280e-09 9.99999992e-01]\n",
      " [1.07657879e-02 9.89234212e-01]\n",
      " [1.94855974e-02 9.80514403e-01]\n",
      " [1.11636351e-06 9.99998884e-01]\n",
      " [5.20487082e-03 9.94795129e-01]\n",
      " [1.20708950e-06 9.99998793e-01]\n",
      " [6.21317135e-04 9.99378683e-01]\n",
      " [1.06586410e-02 9.89341359e-01]\n",
      " [1.55940550e-03 9.98440594e-01]\n",
      " [2.91441439e-02 9.70855856e-01]\n",
      " [6.61414099e-05 9.99933859e-01]\n",
      " [4.76308676e-03 9.95236913e-01]\n",
      " [2.56656282e-02 9.74334372e-01]\n",
      " [5.35031862e-07 9.99999465e-01]\n",
      " [3.90347926e-05 9.99960965e-01]\n",
      " [1.75840677e-04 9.99824159e-01]\n",
      " [1.85474170e-05 9.99981453e-01]\n",
      " [4.21980006e-05 9.99957802e-01]\n",
      " [3.06105403e-03 9.96938946e-01]\n",
      " [1.15972355e-06 9.99998840e-01]\n",
      " [3.68019462e-02 9.63198054e-01]\n",
      " [2.48597708e-06 9.99997514e-01]\n",
      " [2.06200157e-03 9.97937998e-01]\n",
      " [1.66937030e-02 9.83306297e-01]\n",
      " [2.23030862e-02 9.77696914e-01]\n",
      " [1.99427677e-06 9.99998006e-01]\n",
      " [7.58691947e-03 9.92413081e-01]\n",
      " [2.33402520e-06 9.99997666e-01]\n",
      " [2.39201346e-02 9.76079865e-01]\n",
      " [2.54793282e-05 9.99974521e-01]\n",
      " [3.63370342e-05 9.99963663e-01]\n",
      " [1.92345542e-02 9.80765446e-01]\n",
      " [6.05650721e-05 9.99939435e-01]\n",
      " [1.61813707e-02 9.83818629e-01]\n",
      " [2.70981750e-02 9.72901825e-01]\n",
      " [9.75676750e-05 9.99902432e-01]\n",
      " [1.00000000e+00 1.72126788e-41]\n",
      " [6.76580491e-08 9.99999932e-01]\n",
      " [7.84443903e-03 9.92155561e-01]\n",
      " [1.65789344e-02 9.83421066e-01]\n",
      " [2.82572948e-05 9.99971743e-01]\n",
      " [1.99034692e-04 9.99800965e-01]\n",
      " [1.00000000e+00 0.00000000e+00]\n",
      " [8.11090663e-08 9.99999919e-01]\n",
      " [1.61124357e-02 9.83887564e-01]\n",
      " [2.71247314e-17 1.00000000e+00]\n",
      " [1.59568127e-06 9.99998404e-01]\n",
      " [1.37437746e-02 9.86256225e-01]\n",
      " [1.00000000e+00 2.94165035e-40]\n",
      " [1.65967587e-03 9.98340324e-01]\n",
      " [1.98210157e-02 9.80178984e-01]\n",
      " [1.33605823e-04 9.99866394e-01]\n",
      " [2.67183269e-02 9.73281673e-01]\n",
      " [1.05090244e-04 9.99894910e-01]\n",
      " [8.76772229e-03 9.91232278e-01]\n",
      " [8.09376522e-07 9.99999191e-01]\n",
      " [4.55334160e-04 9.99544666e-01]\n",
      " [4.76609094e-04 9.99523391e-01]\n",
      " [2.00539323e-03 9.97994607e-01]\n",
      " [1.16818575e-03 9.98831814e-01]\n",
      " [4.44668364e-41 1.00000000e+00]\n",
      " [2.79386723e-06 9.99997206e-01]\n",
      " [9.51009862e-06 9.99990490e-01]\n",
      " [1.12404075e-02 9.88759592e-01]\n",
      " [7.16532779e-04 9.99283467e-01]\n",
      " [1.15817689e-08 9.99999988e-01]\n",
      " [2.20330959e-02 9.77966904e-01]\n",
      " [8.50242684e-03 9.91497573e-01]\n",
      " [2.20367606e-06 9.99997796e-01]\n",
      " [2.16637521e-06 9.99997834e-01]\n",
      " [4.81905921e-05 9.99951809e-01]\n",
      " [1.19589303e-02 9.88041070e-01]\n",
      " [1.63768466e-02 9.83623153e-01]\n",
      " [1.81267297e-05 9.99981873e-01]\n",
      " [2.70478239e-02 9.72952176e-01]\n",
      " [9.11380154e-04 9.99088620e-01]\n",
      " [9.29309119e-09 9.99999991e-01]\n",
      " [8.24100874e-03 9.91758991e-01]\n",
      " [1.00000000e+00 0.00000000e+00]\n",
      " [7.25346428e-05 9.99927465e-01]\n",
      " [5.44084682e-05 9.99945592e-01]\n",
      " [1.21672781e-02 9.87832722e-01]\n",
      " [1.00000000e+00 6.35452465e-42]\n",
      " [2.60397528e-03 9.97396025e-01]\n",
      " [3.15089877e-02 9.68491012e-01]\n",
      " [3.89302374e-05 9.99961070e-01]\n",
      " [8.05288654e-04 9.99194711e-01]\n",
      " [2.25785185e-03 9.97742148e-01]\n",
      " [5.20997712e-03 9.94790023e-01]\n",
      " [1.02818941e-04 9.99897181e-01]\n",
      " [3.15001267e-04 9.99684999e-01]\n",
      " [5.04299623e-05 9.99949570e-01]]\n",
      "[[0.33333333 0.66666667]\n",
      " [1.         0.        ]\n",
      " [0.66666667 0.33333333]\n",
      " [0.66666667 0.33333333]\n",
      " [0.66666667 0.33333333]\n",
      " [0.66666667 0.33333333]\n",
      " [0.66666667 0.33333333]\n",
      " [0.33333333 0.66666667]\n",
      " [0.         1.        ]\n",
      " [0.33333333 0.66666667]\n",
      " [1.         0.        ]\n",
      " [0.33333333 0.66666667]\n",
      " [1.         0.        ]\n",
      " [0.66666667 0.33333333]\n",
      " [0.33333333 0.66666667]\n",
      " [0.33333333 0.66666667]\n",
      " [0.66666667 0.33333333]\n",
      " [0.66666667 0.33333333]\n",
      " [1.         0.        ]\n",
      " [1.         0.        ]\n",
      " [0.66666667 0.33333333]\n",
      " [0.33333333 0.66666667]\n",
      " [1.         0.        ]\n",
      " [1.         0.        ]\n",
      " [1.         0.        ]\n",
      " [0.33333333 0.66666667]\n",
      " [1.         0.        ]\n",
      " [0.66666667 0.33333333]\n",
      " [0.66666667 0.33333333]\n",
      " [0.33333333 0.66666667]\n",
      " [1.         0.        ]\n",
      " [1.         0.        ]\n",
      " [1.         0.        ]\n",
      " [0.33333333 0.66666667]\n",
      " [0.66666667 0.33333333]\n",
      " [0.         1.        ]\n",
      " [1.         0.        ]\n",
      " [0.66666667 0.33333333]\n",
      " [0.33333333 0.66666667]\n",
      " [0.66666667 0.33333333]\n",
      " [0.33333333 0.66666667]\n",
      " [0.         1.        ]\n",
      " [0.33333333 0.66666667]\n",
      " [0.66666667 0.33333333]\n",
      " [0.33333333 0.66666667]\n",
      " [0.66666667 0.33333333]\n",
      " [0.66666667 0.33333333]\n",
      " [0.33333333 0.66666667]\n",
      " [0.33333333 0.66666667]\n",
      " [0.         1.        ]\n",
      " [0.33333333 0.66666667]\n",
      " [0.33333333 0.66666667]\n",
      " [0.33333333 0.66666667]\n",
      " [1.         0.        ]\n",
      " [0.33333333 0.66666667]\n",
      " [0.         1.        ]\n",
      " [0.66666667 0.33333333]\n",
      " [1.         0.        ]\n",
      " [0.         1.        ]\n",
      " [0.66666667 0.33333333]\n",
      " [0.66666667 0.33333333]\n",
      " [0.66666667 0.33333333]\n",
      " [0.33333333 0.66666667]\n",
      " [0.33333333 0.66666667]\n",
      " [1.         0.        ]\n",
      " [1.         0.        ]\n",
      " [0.         1.        ]\n",
      " [1.         0.        ]\n",
      " [1.         0.        ]\n",
      " [1.         0.        ]\n",
      " [0.33333333 0.66666667]\n",
      " [0.33333333 0.66666667]\n",
      " [0.         1.        ]\n",
      " [0.66666667 0.33333333]\n",
      " [1.         0.        ]\n",
      " [1.         0.        ]\n",
      " [0.33333333 0.66666667]\n",
      " [1.         0.        ]\n",
      " [0.66666667 0.33333333]\n",
      " [0.66666667 0.33333333]\n",
      " [0.33333333 0.66666667]\n",
      " [0.33333333 0.66666667]\n",
      " [0.66666667 0.33333333]\n",
      " [1.         0.        ]\n",
      " [0.         1.        ]\n",
      " [0.33333333 0.66666667]\n",
      " [0.66666667 0.33333333]\n",
      " [0.33333333 0.66666667]\n",
      " [0.33333333 0.66666667]\n",
      " [0.33333333 0.66666667]\n",
      " [0.66666667 0.33333333]\n",
      " [1.         0.        ]\n",
      " [1.         0.        ]\n",
      " [0.33333333 0.66666667]\n",
      " [0.         1.        ]\n",
      " [1.         0.        ]\n",
      " [0.66666667 0.33333333]\n",
      " [0.66666667 0.33333333]\n",
      " [0.66666667 0.33333333]\n",
      " [0.66666667 0.33333333]\n",
      " [0.66666667 0.33333333]\n",
      " [0.33333333 0.66666667]\n",
      " [0.33333333 0.66666667]\n",
      " [0.66666667 0.33333333]\n",
      " [1.         0.        ]\n",
      " [0.33333333 0.66666667]\n",
      " [0.33333333 0.66666667]\n",
      " [1.         0.        ]\n",
      " [0.         1.        ]\n",
      " [1.         0.        ]\n",
      " [1.         0.        ]\n",
      " [0.66666667 0.33333333]\n",
      " [0.66666667 0.33333333]\n",
      " [1.         0.        ]\n",
      " [0.         1.        ]\n",
      " [0.33333333 0.66666667]\n",
      " [0.66666667 0.33333333]\n",
      " [0.33333333 0.66666667]\n",
      " [0.33333333 0.66666667]\n",
      " [0.33333333 0.66666667]\n",
      " [0.33333333 0.66666667]\n",
      " [1.         0.        ]\n",
      " [0.66666667 0.33333333]\n",
      " [1.         0.        ]\n",
      " [0.66666667 0.33333333]\n",
      " [0.66666667 0.33333333]\n",
      " [1.         0.        ]\n",
      " [1.         0.        ]\n",
      " [1.         0.        ]\n",
      " [0.66666667 0.33333333]\n",
      " [1.         0.        ]\n",
      " [0.66666667 0.33333333]\n",
      " [0.33333333 0.66666667]\n",
      " [0.33333333 0.66666667]\n",
      " [0.33333333 0.66666667]\n",
      " [0.66666667 0.33333333]\n",
      " [0.33333333 0.66666667]\n",
      " [0.66666667 0.33333333]\n",
      " [0.33333333 0.66666667]\n",
      " [1.         0.        ]\n",
      " [0.66666667 0.33333333]\n",
      " [0.         1.        ]\n",
      " [1.         0.        ]\n",
      " [0.33333333 0.66666667]\n",
      " [0.66666667 0.33333333]\n",
      " [0.66666667 0.33333333]\n",
      " [1.         0.        ]\n",
      " [0.66666667 0.33333333]\n",
      " [0.66666667 0.33333333]\n",
      " [1.         0.        ]\n",
      " [0.         1.        ]\n",
      " [0.33333333 0.66666667]\n",
      " [1.         0.        ]\n",
      " [0.66666667 0.33333333]\n",
      " [1.         0.        ]\n",
      " [0.66666667 0.33333333]\n",
      " [0.66666667 0.33333333]\n",
      " [0.33333333 0.66666667]\n",
      " [0.66666667 0.33333333]\n",
      " [0.66666667 0.33333333]\n",
      " [0.66666667 0.33333333]\n",
      " [0.66666667 0.33333333]\n",
      " [0.66666667 0.33333333]\n",
      " [1.         0.        ]\n",
      " [1.         0.        ]\n",
      " [0.66666667 0.33333333]\n",
      " [1.         0.        ]\n",
      " [0.66666667 0.33333333]\n",
      " [0.66666667 0.33333333]\n",
      " [0.33333333 0.66666667]\n",
      " [1.         0.        ]\n",
      " [0.66666667 0.33333333]\n",
      " [1.         0.        ]\n",
      " [0.66666667 0.33333333]\n",
      " [0.66666667 0.33333333]\n",
      " [1.         0.        ]\n",
      " [0.         1.        ]\n",
      " [0.33333333 0.66666667]\n",
      " [1.         0.        ]\n",
      " [0.33333333 0.66666667]\n",
      " [1.         0.        ]\n",
      " [0.33333333 0.66666667]\n",
      " [1.         0.        ]\n",
      " [1.         0.        ]\n",
      " [0.33333333 0.66666667]\n",
      " [1.         0.        ]\n",
      " [0.66666667 0.33333333]\n",
      " [1.         0.        ]\n",
      " [1.         0.        ]\n",
      " [0.66666667 0.33333333]\n",
      " [0.33333333 0.66666667]\n",
      " [0.66666667 0.33333333]\n",
      " [0.66666667 0.33333333]\n",
      " [0.66666667 0.33333333]\n",
      " [0.33333333 0.66666667]\n",
      " [0.66666667 0.33333333]\n",
      " [0.33333333 0.66666667]\n",
      " [0.66666667 0.33333333]\n",
      " [0.         1.        ]\n",
      " [1.         0.        ]\n",
      " [0.66666667 0.33333333]\n",
      " [0.33333333 0.66666667]\n",
      " [0.66666667 0.33333333]\n",
      " [1.         0.        ]\n",
      " [1.         0.        ]\n",
      " [0.33333333 0.66666667]\n",
      " [0.66666667 0.33333333]\n",
      " [1.         0.        ]\n",
      " [1.         0.        ]\n",
      " [0.66666667 0.33333333]\n",
      " [0.66666667 0.33333333]\n",
      " [0.66666667 0.33333333]\n",
      " [0.66666667 0.33333333]\n",
      " [1.         0.        ]\n",
      " [0.33333333 0.66666667]\n",
      " [0.66666667 0.33333333]\n",
      " [0.33333333 0.66666667]\n",
      " [1.         0.        ]\n",
      " [0.         1.        ]\n",
      " [0.         1.        ]\n",
      " [1.         0.        ]\n",
      " [0.33333333 0.66666667]\n",
      " [0.         1.        ]\n",
      " [0.66666667 0.33333333]\n",
      " [0.33333333 0.66666667]\n",
      " [0.33333333 0.66666667]\n",
      " [0.66666667 0.33333333]\n",
      " [0.33333333 0.66666667]\n",
      " [1.         0.        ]\n",
      " [0.33333333 0.66666667]\n",
      " [0.66666667 0.33333333]\n",
      " [0.66666667 0.33333333]\n",
      " [0.66666667 0.33333333]\n",
      " [0.66666667 0.33333333]\n",
      " [0.66666667 0.33333333]\n",
      " [0.33333333 0.66666667]\n",
      " [0.         1.        ]\n",
      " [1.         0.        ]\n",
      " [0.33333333 0.66666667]\n",
      " [1.         0.        ]\n",
      " [1.         0.        ]\n",
      " [0.         1.        ]\n",
      " [0.33333333 0.66666667]\n",
      " [0.33333333 0.66666667]\n",
      " [0.33333333 0.66666667]\n",
      " [0.66666667 0.33333333]\n",
      " [0.66666667 0.33333333]\n",
      " [0.66666667 0.33333333]\n",
      " [0.66666667 0.33333333]\n",
      " [0.33333333 0.66666667]\n",
      " [0.66666667 0.33333333]\n",
      " [0.33333333 0.66666667]\n",
      " [0.         1.        ]\n",
      " [0.66666667 0.33333333]\n",
      " [0.66666667 0.33333333]\n",
      " [1.         0.        ]\n",
      " [0.33333333 0.66666667]\n",
      " [0.66666667 0.33333333]\n",
      " [0.66666667 0.33333333]\n",
      " [1.         0.        ]\n",
      " [1.         0.        ]\n",
      " [0.         1.        ]\n",
      " [0.66666667 0.33333333]\n",
      " [1.         0.        ]\n",
      " [0.33333333 0.66666667]\n",
      " [1.         0.        ]\n",
      " [0.66666667 0.33333333]\n",
      " [0.66666667 0.33333333]]\n",
      "[[0.8038416  0.1961584 ]\n",
      " [0.87185518 0.12814482]\n",
      " [0.88029025 0.11970975]\n",
      " [0.06240603 0.93759397]\n",
      " [0.34015577 0.65984423]\n",
      " [0.70540711 0.29459289]\n",
      " [0.14453777 0.85546223]\n",
      " [0.11110885 0.88889115]\n",
      " [0.56132173 0.43867827]\n",
      " [0.37655433 0.62344567]\n",
      " [0.89811317 0.10188683]\n",
      " [0.26661465 0.73338535]\n",
      " [0.86739727 0.13260273]\n",
      " [0.30871768 0.69128232]\n",
      " [0.10091313 0.89908687]\n",
      " [0.454285   0.545715  ]\n",
      " [0.89435315 0.10564685]\n",
      " [0.62783446 0.37216554]\n",
      " [0.89560119 0.10439881]\n",
      " [0.74250792 0.25749208]\n",
      " [0.720421   0.279579  ]\n",
      " [0.12198943 0.87801057]\n",
      " [0.77949135 0.22050865]\n",
      " [0.66512173 0.33487827]\n",
      " [0.43176644 0.56823356]\n",
      " [0.05447543 0.94552457]\n",
      " [0.89223284 0.10776716]\n",
      " [0.44436644 0.55563356]\n",
      " [0.12036629 0.87963371]\n",
      " [0.76332323 0.23667677]\n",
      " [0.84340421 0.15659579]\n",
      " [0.20019869 0.79980131]\n",
      " [0.93010566 0.06989434]\n",
      " [0.6787578  0.3212422 ]\n",
      " [0.87088082 0.12911918]\n",
      " [0.45337249 0.54662751]\n",
      " [0.90215339 0.09784661]\n",
      " [0.83776067 0.16223933]\n",
      " [0.75741084 0.24258916]\n",
      " [0.78001469 0.21998531]\n",
      " [0.33404171 0.66595829]\n",
      " [0.89148294 0.10851706]\n",
      " [0.93331604 0.06668396]\n",
      " [0.93343226 0.06656774]\n",
      " [0.10873789 0.89126211]\n",
      " [0.91423975 0.08576025]\n",
      " [0.91861631 0.08138369]\n",
      " [0.10477373 0.89522627]\n",
      " [0.78604227 0.21395773]\n",
      " [0.46173491 0.53826509]\n",
      " [0.57881241 0.42118759]\n",
      " [0.38199524 0.61800476]\n",
      " [0.1069246  0.8930754 ]\n",
      " [0.90689027 0.09310973]\n",
      " [0.54681706 0.45318294]\n",
      " [0.81841846 0.18158154]\n",
      " [0.61690853 0.38309147]\n",
      " [0.78811171 0.21188829]\n",
      " [0.97605005 0.02394995]\n",
      " [0.86603393 0.13396607]\n",
      " [0.87825033 0.12174967]\n",
      " [0.46472165 0.53527835]\n",
      " [0.06815449 0.93184551]\n",
      " [0.51212529 0.48787471]\n",
      " [0.44258898 0.55741102]\n",
      " [0.82072164 0.17927836]\n",
      " [0.17970569 0.82029431]\n",
      " [0.56209182 0.43790818]\n",
      " [0.10781284 0.89218716]\n",
      " [0.14730291 0.85269709]\n",
      " [0.22224594 0.77775406]\n",
      " [0.60745154 0.39254846]\n",
      " [0.48568452 0.51431548]\n",
      " [0.90821763 0.09178237]\n",
      " [0.88105395 0.11894605]\n",
      " [0.58715418 0.41284582]\n",
      " [0.83674759 0.16325241]\n",
      " [0.64537609 0.35462391]\n",
      " [0.91722291 0.08277709]\n",
      " [0.64951593 0.35048407]\n",
      " [0.84024851 0.15975149]\n",
      " [0.78808882 0.21191118]\n",
      " [0.12459862 0.87540138]\n",
      " [0.89106849 0.10893151]\n",
      " [0.76191765 0.23808235]\n",
      " [0.12952544 0.87047456]\n",
      " [0.05472961 0.94527039]\n",
      " [0.52865296 0.47134704]\n",
      " [0.2408157  0.7591843 ]\n",
      " [0.47548976 0.52451024]\n",
      " [0.67274207 0.32725793]\n",
      " [0.93156217 0.06843783]\n",
      " [0.59939125 0.40060875]\n",
      " [0.076966   0.923034  ]\n",
      " [0.80472441 0.19527559]\n",
      " [0.84294975 0.15705025]\n",
      " [0.27848381 0.72151619]\n",
      " [0.9545493  0.0454507 ]\n",
      " [0.68564909 0.31435091]\n",
      " [0.49714272 0.50285728]\n",
      " [0.94085079 0.05914921]\n",
      " [0.76798952 0.23201048]\n",
      " [0.889557   0.110443  ]\n",
      " [0.85909935 0.14090065]\n",
      " [0.26051763 0.73948237]\n",
      " [0.2939949  0.7060051 ]\n",
      " [0.22908037 0.77091963]\n",
      " [0.42639038 0.57360962]\n",
      " [0.76960494 0.23039506]\n",
      " [0.3239691  0.6760309 ]\n",
      " [0.91689049 0.08310951]\n",
      " [0.07679238 0.92320762]\n",
      " [0.88030128 0.11969872]\n",
      " [0.41726257 0.58273743]\n",
      " [0.51304162 0.48695838]\n",
      " [0.23929809 0.76070191]\n",
      " [0.46621254 0.53378746]\n",
      " [0.09759829 0.90240171]\n",
      " [0.91935314 0.08064686]\n",
      " [0.12119969 0.87880031]\n",
      " [0.88511394 0.11488606]\n",
      " [0.8657523  0.1342477 ]\n",
      " [0.88210717 0.11789283]\n",
      " [0.62905947 0.37094053]\n",
      " [0.91405638 0.08594362]\n",
      " [0.52980325 0.47019675]\n",
      " [0.83521485 0.16478515]\n",
      " [0.91444119 0.08555881]\n",
      " [0.75591368 0.24408632]\n",
      " [0.76704922 0.23295078]\n",
      " [0.32849383 0.67150617]\n",
      " [0.8926728  0.1073272 ]\n",
      " [0.86936776 0.13063224]\n",
      " [0.48202819 0.51797181]\n",
      " [0.6572896  0.3427104 ]\n",
      " [0.87421537 0.12578463]\n",
      " [0.83378078 0.16621922]\n",
      " [0.42212043 0.57787957]\n",
      " [0.67317695 0.32682305]\n",
      " [0.71954981 0.28045019]\n",
      " [0.73134324 0.26865676]\n",
      " [0.05491623 0.94508377]\n",
      " [0.90942619 0.09057381]\n",
      " [0.26649106 0.73350894]\n",
      " [0.2630463  0.7369537 ]\n",
      " [0.4637155  0.5362845 ]\n",
      " [0.79666922 0.20333078]\n",
      " [0.17597461 0.82402539]\n",
      " [0.03253869 0.96746131]\n",
      " [0.89576495 0.10423505]\n",
      " [0.54410281 0.45589719]\n",
      " [0.36813589 0.63186411]\n",
      " [0.49713183 0.50286817]\n",
      " [0.8882412  0.1117588 ]\n",
      " [0.16215239 0.83784761]\n",
      " [0.7368052  0.2631948 ]\n",
      " [0.18689641 0.81310359]\n",
      " [0.76589736 0.23410264]\n",
      " [0.32356261 0.67643739]\n",
      " [0.24856557 0.75143443]\n",
      " [0.90526626 0.09473374]\n",
      " [0.82752854 0.17247146]\n",
      " [0.070853   0.929147  ]\n",
      " [0.81678136 0.18321864]\n",
      " [0.72173659 0.27826341]\n",
      " [0.9070958  0.0929042 ]\n",
      " [0.86454468 0.13545532]\n",
      " [0.90543919 0.09456081]\n",
      " [0.89974582 0.10025418]\n",
      " [0.89233856 0.10766144]\n",
      " [0.87378153 0.12621847]\n",
      " [0.10221301 0.89778699]\n",
      " [0.88331566 0.11668434]\n",
      " [0.87096076 0.12903924]\n",
      " [0.25770284 0.74229716]\n",
      " [0.89044343 0.10955657]\n",
      " [0.07421293 0.92578707]\n",
      " [0.88405151 0.11594849]\n",
      " [0.91467883 0.08532117]\n",
      " [0.30155342 0.69844658]\n",
      " [0.8351098  0.1648902 ]\n",
      " [0.48369169 0.51630831]\n",
      " [0.83903062 0.16096938]\n",
      " [0.86476124 0.13523876]\n",
      " [0.68476764 0.31523236]\n",
      " [0.88218913 0.11781087]\n",
      " [0.23928952 0.76071048]\n",
      " [0.77935423 0.22064577]\n",
      " [0.9101953  0.0898047 ]\n",
      " [0.16145023 0.83854977]\n",
      " [0.41388257 0.58611743]\n",
      " [0.65021009 0.34978991]\n",
      " [0.34552294 0.65447706]\n",
      " [0.27178925 0.72821075]\n",
      " [0.82148706 0.17851294]\n",
      " [0.39374679 0.60625321]\n",
      " [0.89998932 0.10001068]\n",
      " [0.30397564 0.69602436]\n",
      " [0.68153379 0.31846621]\n",
      " [0.90018218 0.09981782]\n",
      " [0.92480274 0.07519726]\n",
      " [0.36082866 0.63917134]\n",
      " [0.7331374  0.2668626 ]\n",
      " [0.31524451 0.68475549]\n",
      " [0.90257893 0.09742107]\n",
      " [0.67420613 0.32579387]\n",
      " [0.42877356 0.57122644]\n",
      " [0.89121779 0.10878221]\n",
      " [0.31996156 0.68003844]\n",
      " [0.91893339 0.08106661]\n",
      " [0.87654211 0.12345789]\n",
      " [0.48918972 0.51081028]\n",
      " [0.93579625 0.06420375]\n",
      " [0.17215577 0.82784423]\n",
      " [0.78714261 0.21285739]\n",
      " [0.90579993 0.09420007]\n",
      " [0.66409664 0.33590336]\n",
      " [0.8951863  0.1048137 ]\n",
      " [0.45954399 0.54045601]\n",
      " [0.10656015 0.89343985]\n",
      " [0.9164108  0.0835892 ]\n",
      " [0.10120241 0.89879759]\n",
      " [0.29306555 0.70693445]\n",
      " [0.89555011 0.10444989]\n",
      " [0.7905846  0.2094154 ]\n",
      " [0.8695787  0.1304213 ]\n",
      " [0.86904141 0.13095859]\n",
      " [0.22693316 0.77306684]\n",
      " [0.89703891 0.10296109]\n",
      " [0.81945715 0.18054285]\n",
      " [0.89244702 0.10755298]\n",
      " [0.22122937 0.77877063]\n",
      " [0.48920545 0.51079455]\n",
      " [0.4490642  0.5509358 ]\n",
      " [0.68925339 0.31074661]\n",
      " [0.84441288 0.15558712]\n",
      " [0.0438669  0.9561331 ]\n",
      " [0.10901743 0.89098257]\n",
      " [0.16801226 0.83198774]\n",
      " [0.89224366 0.10775634]\n",
      " [0.85153783 0.14846217]\n",
      " [0.05964201 0.94035799]\n",
      " [0.90661054 0.09338946]\n",
      " [0.80470931 0.19529069]\n",
      " [0.1619306  0.8380694 ]\n",
      " [0.67055252 0.32944748]\n",
      " [0.31782041 0.68217959]\n",
      " [0.91826048 0.08173952]\n",
      " [0.89974029 0.10025971]\n",
      " [0.30425689 0.69574311]\n",
      " [0.90473426 0.09526574]\n",
      " [0.92984975 0.07015025]\n",
      " [0.37259555 0.62740445]\n",
      " [0.74754049 0.25245951]\n",
      " [0.62180083 0.37819917]\n",
      " [0.39740536 0.60259464]\n",
      " [0.35605022 0.64394978]\n",
      " [0.85826852 0.14173148]\n",
      " [0.95955207 0.04044793]\n",
      " [0.78100493 0.21899507]\n",
      " [0.92167564 0.07832436]\n",
      " [0.91384732 0.08615268]\n",
      " [0.83033619 0.16966381]\n",
      " [0.68979742 0.31020258]\n",
      " [0.86519195 0.13480805]\n",
      " [0.87000122 0.12999878]\n",
      " [0.49223504 0.50776496]\n",
      " [0.58067561 0.41932439]]\n",
      "[[0.6673247  0.3326753 ]\n",
      " [0.70408711 0.29591289]\n",
      " [0.60431327 0.39568673]\n",
      " [0.20461436 0.79538564]\n",
      " [0.66612775 0.33387225]\n",
      " [0.59930347 0.40069653]\n",
      " [0.20557496 0.79442504]\n",
      " [0.20488266 0.79511734]\n",
      " [0.31374075 0.68625925]\n",
      " [0.7036585  0.2963415 ]\n",
      " [0.70226759 0.29773241]\n",
      " [0.67263892 0.32736108]\n",
      " [0.69365237 0.30634763]\n",
      " [0.62198296 0.37801704]\n",
      " [0.3478176  0.6521824 ]\n",
      " [0.70128158 0.29871842]\n",
      " [0.69321994 0.30678006]\n",
      " [0.56503443 0.43496557]\n",
      " [0.69994768 0.30005232]\n",
      " [0.69769828 0.30230172]\n",
      " [0.68287007 0.31712993]\n",
      " [0.2093212  0.7906788 ]\n",
      " [0.69903579 0.30096421]\n",
      " [0.60447629 0.39552371]\n",
      " [0.69446463 0.30553537]\n",
      " [0.214946   0.785054  ]\n",
      " [0.70271901 0.29728099]\n",
      " [0.7002166  0.2997834 ]\n",
      " [0.61723032 0.38276968]\n",
      " [0.61360603 0.38639397]\n",
      " [0.69422138 0.30577862]\n",
      " [0.68672457 0.31327543]\n",
      " [0.69631058 0.30368942]\n",
      " [0.58274504 0.41725496]\n",
      " [0.70638296 0.29361704]\n",
      " [0.59878181 0.40121819]\n",
      " [0.70550357 0.29449643]\n",
      " [0.68842    0.31158   ]\n",
      " [0.67789877 0.32210123]\n",
      " [0.67968486 0.32031514]\n",
      " [0.37018764 0.62981236]\n",
      " [0.69842927 0.30157073]\n",
      " [0.66524854 0.33475146]\n",
      " [0.56035625 0.43964375]\n",
      " [0.35846635 0.64153365]\n",
      " [0.69302917 0.30697083]\n",
      " [0.69561816 0.30438184]\n",
      " [0.3327325  0.6672675 ]\n",
      " [0.68113163 0.31886837]\n",
      " [0.37010564 0.62989436]\n",
      " [0.60107722 0.39892278]\n",
      " [0.43034445 0.56965555]\n",
      " [0.63301938 0.36698062]\n",
      " [0.70075234 0.29924766]\n",
      " [0.59925518 0.40074482]\n",
      " [0.38184576 0.61815424]\n",
      " [0.61718196 0.38281804]\n",
      " [0.59951454 0.40048546]\n",
      " [0.6183324  0.3816676 ]\n",
      " [0.63233152 0.36766848]\n",
      " [0.70175905 0.29824095]\n",
      " [0.63573974 0.36426026]\n",
      " [0.3703769  0.6296231 ]\n",
      " [0.56065081 0.43934919]\n",
      " [0.68762866 0.31237134]\n",
      " [0.7025109  0.2974891 ]\n",
      " [0.61941508 0.38058492]\n",
      " [0.58587353 0.41412647]\n",
      " [0.62630363 0.37369637]\n",
      " [0.59906553 0.40093447]\n",
      " [0.61288864 0.38711136]\n",
      " [0.49132346 0.50867654]\n",
      " [0.34619833 0.65380167]\n",
      " [0.69172357 0.30827643]\n",
      " [0.69973283 0.30026717]\n",
      " [0.64039644 0.35960356]\n",
      " [0.32965815 0.67034185]\n",
      " [0.61242089 0.38757911]\n",
      " [0.7040872  0.2959128 ]\n",
      " [0.66813387 0.33186613]\n",
      " [0.62812755 0.37187245]\n",
      " [0.66428251 0.33571749]\n",
      " [0.62214185 0.37785815]\n",
      " [0.70406888 0.29593112]\n",
      " [0.62228092 0.37771908]\n",
      " [0.35392137 0.64607863]\n",
      " [0.27170869 0.72829131]\n",
      " [0.69195616 0.30804384]\n",
      " [0.6873442  0.3126558 ]\n",
      " [0.26834403 0.73165597]\n",
      " [0.72700529 0.27299471]\n",
      " [0.70061335 0.29938665]\n",
      " [0.61856511 0.38143489]\n",
      " [0.46548679 0.53451321]\n",
      " [0.61110679 0.38889321]\n",
      " [0.70443597 0.29556403]\n",
      " [0.66647407 0.33352593]\n",
      " [0.55309388 0.44690612]\n",
      " [0.62093576 0.37906424]\n",
      " [0.37590157 0.62409843]\n",
      " [0.5207518  0.4792482 ]\n",
      " [0.61544368 0.38455632]\n",
      " [0.70407886 0.29592114]\n",
      " [0.69825457 0.30174543]\n",
      " [0.69201254 0.30798746]\n",
      " [0.64415199 0.35584801]\n",
      " [0.68033109 0.31966891]\n",
      " [0.56431289 0.43568711]\n",
      " [0.6198823  0.3801177 ]\n",
      " [0.6680103  0.3319897 ]\n",
      " [0.70198243 0.29801757]\n",
      " [0.48485874 0.51514126]\n",
      " [0.48233493 0.51766507]\n",
      " [0.70106446 0.29893554]\n",
      " [0.24464787 0.75535213]\n",
      " [0.67694831 0.32305169]\n",
      " [0.66548982 0.33451018]\n",
      " [0.26202174 0.73797826]\n",
      " [0.69187345 0.30812655]\n",
      " [0.61370832 0.38629168]\n",
      " [0.46082186 0.53917814]\n",
      " [0.69488137 0.30511863]\n",
      " [0.70055079 0.29944921]\n",
      " [0.7293661  0.2706339 ]\n",
      " [0.69750235 0.30249765]\n",
      " [0.60745984 0.39254016]\n",
      " [0.7052155  0.2947845 ]\n",
      " [0.70096904 0.29903096]\n",
      " [0.72807561 0.27192439]\n",
      " [0.68132062 0.31867938]\n",
      " [0.694424   0.305576  ]\n",
      " [0.69721015 0.30278985]\n",
      " [0.70556855 0.29443145]\n",
      " [0.68609205 0.31390795]\n",
      " [0.61351373 0.38648627]\n",
      " [0.69653439 0.30346561]\n",
      " [0.69949451 0.30050549]\n",
      " [0.69645415 0.30354585]\n",
      " [0.61957042 0.38042958]\n",
      " [0.67748097 0.32251903]\n",
      " [0.68279635 0.31720365]\n",
      " [0.31809334 0.68190666]\n",
      " [0.70091427 0.29908573]\n",
      " [0.70510897 0.29489103]\n",
      " [0.57883873 0.42116127]\n",
      " [0.69900867 0.30099133]\n",
      " [0.68071197 0.31928803]\n",
      " [0.62194475 0.37805525]\n",
      " [0.29726755 0.70273245]\n",
      " [0.69415262 0.30584738]\n",
      " [0.36227549 0.63772451]\n",
      " [0.68364806 0.31635194]\n",
      " [0.69483642 0.30516358]\n",
      " [0.70374248 0.29625752]\n",
      " [0.68315273 0.31684727]\n",
      " [0.69145124 0.30854876]\n",
      " [0.66920656 0.33079344]\n",
      " [0.68959811 0.31040189]\n",
      " [0.69850145 0.30149855]\n",
      " [0.65149272 0.34850728]\n",
      " [0.69803448 0.30196552]\n",
      " [0.70481971 0.29518029]\n",
      " [0.45877509 0.54122491]\n",
      " [0.66739465 0.33260535]\n",
      " [0.69762274 0.30237726]\n",
      " [0.69931454 0.30068546]\n",
      " [0.70347549 0.29652451]\n",
      " [0.69944952 0.30055048]\n",
      " [0.70105468 0.29894532]\n",
      " [0.69713026 0.30286974]\n",
      " [0.70140112 0.29859888]\n",
      " [0.39465177 0.60534823]\n",
      " [0.70257637 0.29742363]\n",
      " [0.67008548 0.32991452]\n",
      " [0.70172556 0.29827444]\n",
      " [0.69311868 0.30688132]\n",
      " [0.24692864 0.75307136]\n",
      " [0.69964294 0.30035706]\n",
      " [0.70106803 0.29893197]\n",
      " [0.66486973 0.33513027]\n",
      " [0.68740391 0.31259609]\n",
      " [0.56782959 0.43217041]\n",
      " [0.71540661 0.28459339]\n",
      " [0.7026965  0.2973035 ]\n",
      " [0.60015815 0.39984185]\n",
      " [0.70135002 0.29864998]\n",
      " [0.69947045 0.30052955]\n",
      " [0.73011669 0.26988331]\n",
      " [0.70090048 0.29909952]\n",
      " [0.60367563 0.39632437]\n",
      " [0.69196478 0.30803522]\n",
      " [0.48553959 0.51446041]\n",
      " [0.6994071  0.3005929 ]\n",
      " [0.69506628 0.30493372]\n",
      " [0.69864789 0.30135211]\n",
      " [0.44236133 0.55763867]\n",
      " [0.70196338 0.29803662]\n",
      " [0.69044707 0.30955293]\n",
      " [0.62074477 0.37925523]\n",
      " [0.72952686 0.27047314]\n",
      " [0.70287956 0.29712044]\n",
      " [0.66051142 0.33948858]\n",
      " [0.69344962 0.30655038]\n",
      " [0.68642655 0.31357345]\n",
      " [0.69930419 0.30069581]\n",
      " [0.63045596 0.36954404]\n",
      " [0.65122733 0.34877267]\n",
      " [0.70007697 0.29992303]\n",
      " [0.70024118 0.29975882]\n",
      " [0.69892895 0.30107105]\n",
      " [0.70366323 0.29633677]\n",
      " [0.58395848 0.41604152]\n",
      " [0.55778121 0.44221879]\n",
      " [0.66243621 0.33756379]\n",
      " [0.68327463 0.31672537]\n",
      " [0.69978844 0.30021156]\n",
      " [0.60089574 0.39910426]\n",
      " [0.64249369 0.35750631]\n",
      " [0.6153401  0.3846599 ]\n",
      " [0.25053448 0.74946552]\n",
      " [0.70096306 0.29903694]\n",
      " [0.33255179 0.66744821]\n",
      " [0.65595025 0.34404975]\n",
      " [0.70134651 0.29865349]\n",
      " [0.69907541 0.30092459]\n",
      " [0.66614988 0.33385012]\n",
      " [0.70510939 0.29489061]\n",
      " [0.67198559 0.32801441]\n",
      " [0.73141369 0.26858631]\n",
      " [0.64865504 0.35134496]\n",
      " [0.69211579 0.30788421]\n",
      " [0.42297575 0.57702425]\n",
      " [0.69703714 0.30296286]\n",
      " [0.69166791 0.30833209]\n",
      " [0.61471344 0.38528656]\n",
      " [0.66491977 0.33508023]\n",
      " [0.24656972 0.75343028]\n",
      " [0.58765228 0.41234772]\n",
      " [0.65036233 0.34963767]\n",
      " [0.7032464  0.2967536 ]\n",
      " [0.70218263 0.29781737]\n",
      " [0.3009906  0.6990094 ]\n",
      " [0.69655489 0.30344511]\n",
      " [0.62173814 0.37826186]\n",
      " [0.36721848 0.63278152]\n",
      " [0.67037581 0.32962419]\n",
      " [0.69664742 0.30335258]\n",
      " [0.69306654 0.30693346]\n",
      " [0.6982648  0.3017352 ]\n",
      " [0.68161706 0.31838294]\n",
      " [0.70034513 0.29965487]\n",
      " [0.6582374  0.3417626 ]\n",
      " [0.25673586 0.74326414]\n",
      " [0.72713875 0.27286125]\n",
      " [0.51547262 0.48452738]\n",
      " [0.66037581 0.33962419]\n",
      " [0.69556311 0.30443689]\n",
      " [0.69753486 0.30246514]\n",
      " [0.59957459 0.40042541]\n",
      " [0.7021935  0.2978065 ]\n",
      " [0.70134628 0.29865372]\n",
      " [0.6443703  0.3556297 ]\n",
      " [0.70213827 0.29786173]\n",
      " [0.73033795 0.26966205]\n",
      " [0.66736716 0.33263284]\n",
      " [0.67689996 0.32310004]\n",
      " [0.70064676 0.29935324]\n",
      " [0.60901302 0.39098698]]\n"
     ]
    }
   ],
   "source": [
    "print(rf_probs)\n",
    "print(gb_probs)\n",
    "print(nb_probs)\n",
    "print(knn_probs)\n",
    "print(lr_probs)\n",
    "print(sv_probs)"
   ]
  },
  {
   "cell_type": "code",
   "execution_count": 66,
   "id": "1f32b7ea",
   "metadata": {},
   "outputs": [],
   "source": [
    "rf_probs = rf_probs[:,1]\n",
    "gb_probs = gb_probs[:,1]\n",
    "nb_probs = nb_probs[:,1]\n",
    "knn_probs = knn_probs[:,1]\n",
    "lr_probs = lr_probs[:,1]\n",
    "sv_probs = sv_probs[:,1]"
   ]
  },
  {
   "cell_type": "markdown",
   "id": "d05446cd",
   "metadata": {},
   "source": [
    "# Compute the AUROC values"
   ]
  },
  {
   "cell_type": "code",
   "execution_count": 67,
   "id": "d7a3e2d6",
   "metadata": {},
   "outputs": [],
   "source": [
    "from sklearn.metrics import roc_curve, roc_auc_score\n",
    "rf_auc = roc_auc_score(y_test,rf_probs)\n",
    "gb_auc = roc_auc_score(y_test,gb_probs)\n",
    "nb_auc = roc_auc_score(y_test,nb_probs)\n",
    "knn_auc = roc_auc_score(y_test,knn_probs)\n",
    "lr_auc = roc_auc_score(y_test,lr_probs)\n",
    "sv_auc = roc_auc_score(y_test,sv_probs)"
   ]
  },
  {
   "cell_type": "markdown",
   "id": "a9811c7b",
   "metadata": {},
   "source": [
    "# Display the AUROC scores"
   ]
  },
  {
   "cell_type": "code",
   "execution_count": 69,
   "id": "cdb09808",
   "metadata": {},
   "outputs": [
    {
     "name": "stdout",
     "output_type": "stream",
     "text": [
      "Random Forest: AUROC = 0.848\n",
      "Gradient Boosting Prediction: AUROC = 0.842\n",
      "Naive Bayes: AUROC = 0.818\n",
      "KNearest Neighbors Prediction: AUROC = 0.619\n",
      "Logistic Regression: AUROC = 0.848\n",
      "Support vector Machine: AUROC = 0.731\n"
     ]
    }
   ],
   "source": [
    "print(\"Random Forest: AUROC = %.3f\" %(rf_auc))\n",
    "print(\"Gradient Boosting Prediction: AUROC = %.3f\" %(gb_auc))\n",
    "print(\"Naive Bayes: AUROC = %.3f\" %(nb_auc))\n",
    "print(\"KNearest Neighbors Prediction: AUROC = %.3f\" %(knn_auc))\n",
    "print(\"Logistic Regression: AUROC = %.3f\" %(lr_auc))\n",
    "print(\"Support vector Machine: AUROC = %.3f\" %(sv_auc))"
   ]
  },
  {
   "cell_type": "markdown",
   "id": "c8e352c5",
   "metadata": {},
   "source": [
    "# Calculate the ROC curve"
   ]
  },
  {
   "cell_type": "code",
   "execution_count": 71,
   "id": "2587b982",
   "metadata": {},
   "outputs": [],
   "source": [
    "rf_fpr, rf_tpr, _ = roc_curve(y_test, rf_probs)\n",
    "gb_fpr, gb_tpr, _ = roc_curve(y_test, gb_probs)\n",
    "nb_fpr, nb_tpr, _ = roc_curve(y_test, nb_probs)\n",
    "knn_fpr, knn_tpr, _ = roc_curve(y_test, knn_probs)\n",
    "lr_fpr, lr_tpr, _ = roc_curve(y_test, lr_probs)\n",
    "sv_fpr, sv_tpr, _ = roc_curve(y_test, sv_probs)"
   ]
  },
  {
   "cell_type": "code",
   "execution_count": 72,
   "id": "5d15deec",
   "metadata": {},
   "outputs": [
    {
     "data": {
      "image/png": "[encoded data removed]",
      "text/plain": [
       "<Figure size 1080x720 with 1 Axes>"
      ]
     },
     "metadata": {
      "needs_background": "light"
     },
     "output_type": "display_data"
    }
   ],
   "source": [
    "import matplotlib.pyplot as plt\n",
    "plt.figure(figsize=(15,10))\n",
    "plt.plot(rf_fpr,rf_tpr, linestyle = '--', label='Random Forest (AUROC = %0.3f)' %rf_auc)\n",
    "plt.plot(gb_fpr,gb_tpr, linestyle = '--', label='Gradient Boosting (AUROC = %0.3f)' %gb_auc)\n",
    "plt.plot(nb_fpr,nb_tpr, linestyle = '--', label='Navie Bayes (AUROC = %0.3f)' %nb_auc)\n",
    "plt.plot(knn_fpr,knn_tpr, linestyle = '--', label='KNearest Neighbors (AUROC = %0.3f)' %knn_auc)\n",
    "plt.plot(lr_fpr,lr_tpr, linestyle = '--', label='Logistic Regression (AUROC = %0.3f)' %lr_auc)\n",
    "plt.plot(sv_fpr,sv_tpr, linestyle = '--', label='Support Vector Machine (AUROC = %0.3f)' %sv_auc)\n",
    "\n",
    "#Title\n",
    "plt.title(\"ROC Plot\")\n",
    "\n",
    "# Axis Labels\n",
    "plt.xlabel('False Positive Rate')\n",
    "plt.ylabel('Ture Positive Rate')\n",
    "\n",
    "# Show Legend\n",
    "plt.legend()\n",
    "plt.show()"
   ]
  },
  {
   "cell_type": "markdown",
   "id": "c857ca4e",
   "metadata": {},
   "source": [
    "# Cross Validation"
   ]
  },
  {
   "cell_type": "code",
   "execution_count": 73,
   "id": "fbb27e54",
   "metadata": {},
   "outputs": [],
   "source": [
    "from sklearn.model_selection import cross_val_score #Package need to loaded for cross validation"
   ]
  },
  {
   "cell_type": "code",
   "execution_count": 74,
   "id": "0cbf5f9b",
   "metadata": {},
   "outputs": [],
   "source": [
    "cv_x = model_data2.iloc[:,1:28]\n",
    "cv_y = model_data2.loc[:,\"Survived\"]"
   ]
  },
  {
   "cell_type": "code",
   "execution_count": 79,
   "id": "e2ed4c6c",
   "metadata": {},
   "outputs": [
    {
     "name": "stdout",
     "output_type": "stream",
     "text": [
      "891\n",
      "891\n",
      "(891, 27)\n",
      "(891,)\n",
      "Index(['Fare', 'Bloodpressure', 'Height(cm)', 'Weight(kg)', 'Pclass1',\n",
      "       'Pclass2', 'Sex0', 'SibSp0', 'SibSp1', 'SibSp2', 'SibSp3', 'SibSp4',\n",
      "       'SibSp5', 'Parch0', 'Parch1', 'Parch2', 'Parch3', 'Parch4', 'Parch5',\n",
      "       'Embarked_C', 'Embarked_Q', 'Embarked_S', 'Continent1', 'Continent2',\n",
      "       'Continent3', 'Continent4', 'Swiming0'],\n",
      "      dtype='object')\n"
     ]
    }
   ],
   "source": [
    "print(len(cv_x))\n",
    "print(len(cv_y))\n",
    "print(cv_x.shape)\n",
    "print(cv_y.shape)\n",
    "print(cv_x.columns)"
   ]
  },
  {
   "cell_type": "code",
   "execution_count": 80,
   "id": "68494394",
   "metadata": {},
   "outputs": [
    {
     "name": "stdout",
     "output_type": "stream",
     "text": [
      "0.7239057239057239\n"
     ]
    }
   ],
   "source": [
    "# Decision Tree Cross Validation\n",
    "from sklearn import tree\n",
    "from sklearn.model_selection import cross_val_score\n",
    "dt_model = tree.DecisionTreeClassifier()\n",
    "print(cross_val_score(dt_model, cv_x, cv_y, cv=3, scoring ='accuracy').mean())"
   ]
  },
  {
   "cell_type": "code",
   "execution_count": 81,
   "id": "da0167b9",
   "metadata": {},
   "outputs": [
    {
     "name": "stdout",
     "output_type": "stream",
     "text": [
      "0.7777777777777778\n"
     ]
    }
   ],
   "source": [
    "# Random Forest Cross Validation\n",
    "from sklearn import ensemble\n",
    "from sklearn.model_selection import cross_val_score\n",
    "rf_model = ensemble.RandomForestClassifier(n_estimators=100)\n",
    "print(cross_val_score(rf_model, cv_x, cv_y, cv=3, scoring ='accuracy').mean())"
   ]
  },
  {
   "cell_type": "code",
   "execution_count": 82,
   "id": "a73b1e7f",
   "metadata": {},
   "outputs": [
    {
     "name": "stdout",
     "output_type": "stream",
     "text": [
      "0.7643097643097643\n"
     ]
    }
   ],
   "source": [
    "# Gradient Boosting Cross Validation\n",
    "from sklearn import ensemble\n",
    "from sklearn.model_selection import cross_val_score\n",
    "gb_model = ensemble.GradientBoostingClassifier()\n",
    "print(cross_val_score(gb_model, cv_x, cv_y, cv=3, scoring ='accuracy').mean())"
   ]
  },
  {
   "cell_type": "code",
   "execution_count": 83,
   "id": "22205d14",
   "metadata": {},
   "outputs": [
    {
     "name": "stdout",
     "output_type": "stream",
     "text": [
      "0.41750841750841755\n"
     ]
    }
   ],
   "source": [
    "# Naive Bayes cross validation\n",
    "from sklearn.naive_bayes import GaussianNB\n",
    "from sklearn.model_selection import cross_val_score\n",
    "nb_model = GaussianNB()\n",
    "print(cross_val_score(nb_model, cv_x, cv_y, cv=3, scoring ='accuracy').mean())"
   ]
  },
  {
   "cell_type": "code",
   "execution_count": 84,
   "id": "89e8552b",
   "metadata": {},
   "outputs": [
    {
     "name": "stdout",
     "output_type": "stream",
     "text": [
      "0.6184062850729518\n"
     ]
    }
   ],
   "source": [
    "# K-nearest Neighbore cross validation\n",
    "from sklearn.neighbors import KNeighborsClassifier\n",
    "from sklearn.model_selection import cross_val_score\n",
    "knn_model = KNeighborsClassifier(n_neighbors=3)\n",
    "print(cross_val_score(knn_model, cv_x, cv_y, cv=3, scoring ='accuracy').mean())"
   ]
  },
  {
   "cell_type": "code",
   "execution_count": 85,
   "id": "f85f5b44",
   "metadata": {},
   "outputs": [
    {
     "name": "stdout",
     "output_type": "stream",
     "text": [
      "0.7710437710437711\n"
     ]
    },
    {
     "name": "stderr",
     "output_type": "stream",
     "text": [
      "C:\\Users\\MY\\anaconda3\\lib\\site-packages\\sklearn\\linear_model\\_logistic.py:763: ConvergenceWarning: lbfgs failed to converge (status=1):\n",
      "STOP: TOTAL NO. of ITERATIONS REACHED LIMIT.\n",
      "\n",
      "Increase the number of iterations (max_iter) or scale the data as shown in:\n",
      "    https://scikit-learn.org/stable/modules/preprocessing.html\n",
      "Please also refer to the documentation for alternative solver options:\n",
      "    https://scikit-learn.org/stable/modules/linear_model.html#logistic-regression\n",
      "  n_iter_i = _check_optimize_result(\n",
      "C:\\Users\\MY\\anaconda3\\lib\\site-packages\\sklearn\\linear_model\\_logistic.py:763: ConvergenceWarning: lbfgs failed to converge (status=1):\n",
      "STOP: TOTAL NO. of ITERATIONS REACHED LIMIT.\n",
      "\n",
      "Increase the number of iterations (max_iter) or scale the data as shown in:\n",
      "    https://scikit-learn.org/stable/modules/preprocessing.html\n",
      "Please also refer to the documentation for alternative solver options:\n",
      "    https://scikit-learn.org/stable/modules/linear_model.html#logistic-regression\n",
      "  n_iter_i = _check_optimize_result(\n",
      "C:\\Users\\MY\\anaconda3\\lib\\site-packages\\sklearn\\linear_model\\_logistic.py:763: ConvergenceWarning: lbfgs failed to converge (status=1):\n",
      "STOP: TOTAL NO. of ITERATIONS REACHED LIMIT.\n",
      "\n",
      "Increase the number of iterations (max_iter) or scale the data as shown in:\n",
      "    https://scikit-learn.org/stable/modules/preprocessing.html\n",
      "Please also refer to the documentation for alternative solver options:\n",
      "    https://scikit-learn.org/stable/modules/linear_model.html#logistic-regression\n",
      "  n_iter_i = _check_optimize_result(\n"
     ]
    }
   ],
   "source": [
    "# Logistic Regression cross validation\n",
    "from sklearn.linear_model import LogisticRegression\n",
    "from sklearn.model_selection import cross_val_score\n",
    "lr_model = LogisticRegression()\n",
    "print(cross_val_score(lr_model, cv_x, cv_y, cv=3, scoring ='accuracy').mean())"
   ]
  },
  {
   "cell_type": "code",
   "execution_count": 86,
   "id": "3fb1febf",
   "metadata": {},
   "outputs": [
    {
     "name": "stdout",
     "output_type": "stream",
     "text": [
      "0.6554433221099888\n"
     ]
    }
   ],
   "source": [
    "# Support vector machine cross validation\n",
    "from sklearn.svm import SVC\n",
    "from sklearn.model_selection import cross_val_score\n",
    "sv_model = SVC(probability = True)\n",
    "print(cross_val_score(sv_model, cv_x, cv_y, cv=3, scoring ='accuracy').mean())"
   ]
  },
  {
   "cell_type": "code",
   "execution_count": 87,
   "id": "4a0854e2",
   "metadata": {},
   "outputs": [
    {
     "data": {
      "text/plain": [
       "RandomForestClassifier()"
      ]
     },
     "execution_count": 87,
     "metadata": {},
     "output_type": "execute_result"
    }
   ],
   "source": [
    "from sklearn import ensemble\n",
    "rf_clf = ensemble.RandomForestClassifier(n_estimators=100)\n",
    "rf_clf.fit(x_train, y_train)"
   ]
  },
  {
   "cell_type": "code",
   "execution_count": 88,
   "id": "4945dae9",
   "metadata": {},
   "outputs": [
    {
     "data": {
      "text/plain": [
       "array([0], dtype=int64)"
      ]
     },
     "execution_count": 88,
     "metadata": {},
     "output_type": "execute_result"
    }
   ],
   "source": [
    "rf_clf.predict([[26,0,169,86,0,1,0,0,1,0,1,0,0,1,1,0,1,0,0,1,0,0,1,1,0,0,1]])"
   ]
  },
  {
   "cell_type": "code",
   "execution_count": 89,
   "id": "d3e537d4",
   "metadata": {},
   "outputs": [
    {
     "data": {
      "text/plain": [
       "array([1], dtype=int64)"
      ]
     },
     "execution_count": 89,
     "metadata": {},
     "output_type": "execute_result"
    }
   ],
   "source": [
    "rf_clf.predict([[26,0,1609,86,0,1,0,0,1,0,1,0,0,1,1,0,1,0,0,1,0,0,1,1,0,0,1]])"
   ]
  },
  {
   "cell_type": "code",
   "execution_count": null,
   "id": "4cc84e00",
   "metadata": {},
   "outputs": [],
   "source": []
  }
 ],
 "metadata": {
  "kernelspec": {
   "display_name": "Python 3",
   "language": "python",
   "name": "python3"
  },
  "language_info": {
   "codemirror_mode": {
    "name": "ipython",
    "version": 3
   },
   "file_extension": ".py",
   "mimetype": "text/x-python",
   "name": "python",
   "nbconvert_exporter": "python",
   "pygments_lexer": "ipython3",
   "version": "3.8.8"
  }
 },
 "nbformat": 4,
 "nbformat_minor": 5
}
